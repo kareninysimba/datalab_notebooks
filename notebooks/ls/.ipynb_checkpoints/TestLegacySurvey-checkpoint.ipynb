{
 "cells": [
  {
   "cell_type": "code",
   "execution_count": null,
   "metadata": {},
   "outputs": [],
   "source": [
    "__author__ = 'Benjamin Weaver <benjamin.weaver@noirlab.edu>' # single string; emails in <>\n",
    "__version__ = '20220406' # yyyymmdd; version datestamp of this notebook\n",
    "__datasets__ = ['ls_dr8', 'ls_dr9']  # datasets used in this notebook; for available datasets, see cell \"Available datasets in Data Lab\" further below\n",
    "__keywords__ = ['query', 'tutorial', 'vospace'] # keywords relevant to this notebook, e.g. ['science case','dwarf galaxies'] Use only keywords from the master list: https://github.com/noaodatalab/notebooks-latest/blob/master/internal/keywords.txt"
   ]
  },
  {
   "cell_type": "markdown",
   "metadata": {},
   "source": [
    "# Test Legacy Survey Data Releases\n",
    "\n",
    "*Benjamin Weaver & Astro Data Lab Team*\n",
    "\n",
    "### Table of Contents\n",
    "\n",
    "* [Introduction](#Introduction)\n",
    "* [Imports and Setup](#Imports-and-Setup)\n",
    "* [File Service](#File-Service)\n",
    "* [Test Correspondence With Tractor Files](#Test-Correspondence-With-Tractor-Files)\n",
    "* [Check Photo-z Files](#Check-Photo-z-Files)\n",
    "* [Check Forced Photometry Files](#Check-Forced-Photometry-Files)\n",
    "* [QA on ls_id](#QA-on-ls_id)\n",
    "* [Numerology](#Numerology)\n",
    "\n",
    "## Introduction\n",
    "\n",
    "This notebooks provides a series of QA tests on Legacy Survey data releases.  The primary focus is on LS DR8 and DR9, and this notebook can be used with both by setting the `release` variable in the [Global Parameters](#Global-Parameters).\n",
    "\n",
    "## Imports and Setup\n",
    "\n",
    "### Imports"
   ]
  },
  {
   "cell_type": "code",
   "execution_count": 1,
   "metadata": {},
   "outputs": [],
   "source": [
    "%matplotlib inline\n",
    "from io import BytesIO\n",
    "import random\n",
    "from html.parser import HTMLParser\n",
    "from collections import OrderedDict\n",
    "import requests\n",
    "import numpy as np\n",
    "from astropy.io import fits\n",
    "from astropy.io.votable import parse_single_table\n",
    "from astropy.table import Table, join\n",
    "from dl import queryClient as qc, storeClient as sc, authClient as ac\n",
    "from dl.helpers.utils import vospace_readable_fileobj"
   ]
  },
  {
   "cell_type": "markdown",
   "metadata": {},
   "source": [
    "### Other Setup\n",
    "\n",
    "This can be used to adjust the database location, *e.g.* development or productions."
   ]
  },
  {
   "cell_type": "code",
   "execution_count": 2,
   "metadata": {},
   "outputs": [],
   "source": [
    "qc.set_profile('db01')"
   ]
  },
  {
   "cell_type": "markdown",
   "metadata": {},
   "source": [
    "### Global Parameters"
   ]
  },
  {
   "cell_type": "code",
   "execution_count": 3,
   "metadata": {},
   "outputs": [],
   "source": [
    "release = 'dr8'\n",
    "sweep = {'dr8': '8.0', 'dr9': '9.0'}  # Sweep file versions\n",
    "sdss = {'dr8': 'dr14', 'dr9': 'dr16'}  # SDSS release cross-match\n",
    "regions = ('north', 'south')  # This will be used a lot.\n",
    "region_to_release = {'dr8': {'north': (8001,), 'south': (8000,)},\n",
    "                     'dr9': {'north': (9011,), 'south': (9010, 9012)}}\n",
    "obj_types = {'dr8': ('objs', 'psf', 'rex', 'exp', 'dev', 'comp'),  # morphological classifications\n",
    "             'dr9': ('objs', 'psf', 'rex', 'exp', 'dev', 'ser')}\n",
    "atol = 1.0e-6  # Absolute tolerance in numpy.allclose().\n",
    "samples = 10  # Number of bricks in each region to test."
   ]
  },
  {
   "cell_type": "markdown",
   "metadata": {},
   "source": [
    "### Check the profile "
   ]
  },
  {
   "cell_type": "code",
   "execution_count": 4,
   "metadata": {},
   "outputs": [
    {
     "data": {
      "text/plain": [
       "'db01'"
      ]
     },
     "execution_count": 4,
     "metadata": {},
     "output_type": "execute_result"
    }
   ],
   "source": [
    "qc.get_profile()"
   ]
  },
  {
   "cell_type": "code",
   "execution_count": 5,
   "metadata": {},
   "outputs": [
    {
     "data": {
      "text/plain": [
       "'https://datalab.noirlab.edu/query'"
      ]
     },
     "execution_count": 5,
     "metadata": {},
     "output_type": "execute_result"
    }
   ],
   "source": [
    "qc.get_svc_url()"
   ]
  },
  {
   "cell_type": "code",
   "execution_count": 6,
   "metadata": {},
   "outputs": [
    {
     "name": "stdin",
     "output_type": "stream",
     "text": [
      "Please enter your username:  davalfher\n",
      "Please enter your password:  ·········\n"
     ]
    },
    {
     "name": "stdout",
     "output_type": "stream",
     "text": [
      "davalfher davalfher.3437.3437.$1$2tjBBPGk$Iqt4GcjtwkakOPjitv9Db/\n"
     ]
    }
   ],
   "source": [
    "if ac.whoAmI() == 'anonymous':\n",
    "    from getpass import getpass\n",
    "    token = ac.login(input('Please enter your username: '), getpass('Please enter your password: '))\n",
    "    print(ac.whoAmI(), token)\n",
    "else:\n",
    "    print(ac.whoAmI())"
   ]
  },
  {
   "cell_type": "markdown",
   "metadata": {},
   "source": [
    "## File Service\n",
    "\n",
    "### List Services\n",
    "\n",
    "First, make sure the service is listed."
   ]
  },
  {
   "cell_type": "code",
   "execution_count": 7,
   "metadata": {},
   "outputs": [
    {
     "name": "stdout",
     "output_type": "stream",
     "text": [
      "\n",
      "                    name   svc   description\n",
      "                --------   ----  --------\n",
      "                  ls_dr7   vos   DECam Legacy Survey DR7\n",
      "                  ls_dr8   vos   DECam Legacy Survey DR8\n",
      "                 chandra   vos   ChaMPlane: Measuring the Faint X-ray Bin ...\n",
      "             cosmic_dawn   vos   Cosmic DAWN survey\n",
      "               deeprange   vos   Deeprange Survey\n",
      "           deep_ecliptic   vos   Deep Ecliptic Survey\n",
      "                 des_dr2   vos   Dark Energy Survey DR2\n",
      "                desi_ets   vos   DESI Early Target Selection\n",
      "                     dls   vos   Deep Lens Survey\n",
      "                  flamex   vos   FLAMINGOS Extragalactic Survey\n",
      "                     fls   vos   First Look Survey\n",
      "                    fsvs   vos   Faint Sky Variability Survey\n",
      "               ir_bootes   vos   Infrared Bootes Imaging Survey\n",
      "                     lgs   vos   Local Group Survey\n",
      "             gogreen_dr1   vos   GOGREEN DR1 Survey\n",
      "                     lmc   vos   SuperMACHO Survey\n",
      "                  ls_dr1   vos   DECam Legacy Survey DR1\n",
      "                  ls_dr2   vos   DECam Legacy Survey DR2\n",
      "                  ls_dr3   vos   DECam Legacy Survey DR3\n",
      "                  ls_dr4   vos   DECam Legacy Survey DR4\n",
      "                  ls_dr5   vos   DECam Legacy Survey DR5\n",
      "                  ls_dr6   vos   DECam Legacy Survey DR6\n",
      "                  ls_dr9   vos   DECam Legacy Survey DR9\n",
      "                ls_dr9sv   vos   DECam Legacy Survey DR9sv\n",
      "             m31_newfirm   vos   M31 NEWFIRM Survey\n",
      "                   ndwfs   vos   NOAO Deep-Wide Survey\n",
      "                     nfp   vos   NOAO Fundamental Plane Survey\n",
      "                    nmbs   vos   NEWFIRM Medium Band Survey\n",
      "                  nmbs_2   vos   NEWFIRM Medium Band Survey II\n",
      "                     nsc   vos   NOAO Source Catalog\n",
      "                sdss_dr8   vos   SDSS DR8\n",
      "                sdss_dr9   vos   SDSS DR9\n",
      "               sdss_dr10   vos   SDSS DR10\n",
      "               sdss_dr11   vos   SDSS DR11\n",
      "               sdss_dr12   vos   SDSS DR12\n",
      "               sdss_dr13   vos   SDSS DR13\n",
      "               sdss_dr14   vos   SDSS DR14\n",
      "               sdss_dr15   vos   SDSS DR15\n",
      "               sdss_dr16   vos   SDSS DR16\n",
      "                   singg   vos   Survey for Ionization in Neutral-Gas Gal ...\n",
      "               smash_dr1   vos   SMASH DR1\n",
      "               smash_dr2   vos   SMASH DR2\n",
      "                     sze   vos   SZE+Optical Studies of the Cosmic Accele ...\n",
      "               w_project   vos   The w Project\n",
      "                 zbootes   vos   z-band Photometry of the NOAO Deep-Wide  ...\n",
      "\n"
     ]
    }
   ],
   "source": [
    "print(sc.services())"
   ]
  },
  {
   "cell_type": "markdown",
   "metadata": {},
   "source": [
    "### Top-level\n",
    "\n",
    "Display the top-level files."
   ]
  },
  {
   "cell_type": "code",
   "execution_count": 8,
   "metadata": {},
   "outputs": [
    {
     "data": {
      "text/plain": [
       "['calib',\n",
       " 'ccds-annotated-90prime-dr8.fits.gz',\n",
       " 'ccds-annotated-decam-dr8.fits.gz',\n",
       " 'ccds-annotated-mosaic-dr8.fits.gz',\n",
       " 'forced',\n",
       " 'gallery',\n",
       " 'legacysurvey_dr8.sha256sum',\n",
       " 'north',\n",
       " 'randoms',\n",
       " 'south',\n",
       " 'survey-bricks.fits.gz',\n",
       " 'survey-ccds-90prime-dr8.fits.gz',\n",
       " 'survey-ccds-90prime-dr8.kd.fits',\n",
       " 'survey-ccds-decam-dr8.fits.gz',\n",
       " 'survey-ccds-decam-dr8.kd.fits',\n",
       " 'survey-ccds-mosaic-dr8.fits.gz',\n",
       " 'survey-ccds-mosaic-dr8.kd.fits']"
      ]
     },
     "execution_count": 8,
     "metadata": {},
     "output_type": "execute_result"
    }
   ],
   "source": [
    "sc.ls(f'ls_{release}://').split(',')"
   ]
  },
  {
   "cell_type": "markdown",
   "metadata": {},
   "source": [
    "### Tractor Files\n",
    "\n",
    "Display random tractor files, just to make sure they are actually present in the file service."
   ]
  },
  {
   "cell_type": "code",
   "execution_count": 11,
   "metadata": {},
   "outputs": [
    {
     "name": "stdout",
     "output_type": "stream",
     "text": [
      "legacysurvey_dr8_north_tractor_017.sha256sum,tractor-0170p292.fits,tractor-0170p295.fits,tractor-0171p297.fits,tractor-0171p300.fits,tractor-0173p292.fits,tractor-0173p295.fits,tractor-0173p297.fits,tractor-0174p300.fits\n",
      "legacysurvey_dr8_south_tractor_017.sha256sum,tractor-0170m077.fits,tractor-0170m080.fits,tractor-0170m082.fits,tractor-0170m085.fits,tractor-0170m087.fits,tractor-0170m090.fits,tractor-0170m092.fits,tractor-0170m095.fits,tractor-0170m122.fits,tractor-0170m125.fits,tractor-0170m127.fits,tractor-0170m130.fits,tractor-0170m132.fits,tractor-0170m135.fits,tractor-0170m160.fits,tractor-0170m162.fits,tractor-0170m165.fits,tractor-0170m167.fits,tractor-0170m190.fits,tractor-0170m192.fits,tractor-0170m195.fits,tractor-0170m197.fits,tractor-0170m212.fits,tractor-0170m215.fits,tractor-0170m217.fits,tractor-0170m220.fits,tractor-0170m235.fits,tractor-0170m237.fits,tractor-0170m240.fits,tractor-0170m242.fits,tractor-0170m255.fits,tractor-0170m257.fits,tractor-0170m260.fits,tractor-0170m275.fits,tractor-0170m277.fits,tractor-0170m280.fits,tractor-0170m292.fits,tractor-0170m295.fits,tractor-0170m310.fits,tractor-0170m312.fits,tractor-0170m327.fits,tractor-0170m340.fits,tractor-0170m342.fits,tractor-0170m345.fits,tractor-0170m357.fits,tractor-0170m370.fits,tractor-0170m372.fits,tractor-0170m385.fits,tractor-0170m397.fits,tractor-0170m400.fits,tractor-0170m410.fits,tractor-0170m412.fits,tractor-0170m425.fits,tractor-0170m435.fits,tractor-0170m437.fits,tractor-0170m447.fits,tractor-0170m450.fits,tractor-0170m460.fits,tractor-0170m472.fits,tractor-0170m482.fits,tractor-0170m485.fits,tractor-0170m495.fits,tractor-0170m505.fits,tractor-0170m515.fits,tractor-0170m527.fits,tractor-0170m537.fits,tractor-0170m547.fits,tractor-0170m557.fits,tractor-0170m567.fits,tractor-0170m577.fits,tractor-0170m587.fits,tractor-0170m597.fits,tractor-0170m607.fits,tractor-0170m617.fits,tractor-0170m627.fits,tractor-0170m645.fits,tractor-0170m655.fits,tractor-0170m672.fits,tractor-0170p077.fits,tractor-0170p080.fits,tractor-0170p082.fits,tractor-0170p085.fits,tractor-0170p087.fits,tractor-0170p090.fits,tractor-0170p092.fits,tractor-0170p095.fits,tractor-0170p122.fits,tractor-0170p125.fits,tractor-0170p127.fits,tractor-0170p130.fits,tractor-0170p132.fits,tractor-0170p135.fits,tractor-0170p160.fits,tractor-0170p162.fits,tractor-0170p165.fits,tractor-0170p167.fits,tractor-0170p190.fits,tractor-0170p192.fits,tractor-0170p195.fits,tractor-0170p197.fits,tractor-0170p212.fits,tractor-0170p215.fits,tractor-0170p217.fits,tractor-0170p220.fits,tractor-0170p235.fits,tractor-0170p237.fits,tractor-0170p240.fits,tractor-0170p242.fits,tractor-0170p255.fits,tractor-0170p257.fits,tractor-0170p260.fits,tractor-0170p275.fits,tractor-0170p277.fits,tractor-0170p280.fits,tractor-0170p292.fits,tractor-0170p295.fits,tractor-0170p310.fits,tractor-0170p312.fits,tractor-0170p327.fits,tractor-0170p340.fits,tractor-0170p342.fits,tractor-0170p345.fits,tractor-0171m002.fits,tractor-0171m005.fits,tractor-0171m007.fits,tractor-0171m010.fits,tractor-0171m012.fits,tractor-0171m015.fits,tractor-0171m017.fits,tractor-0171m020.fits,tractor-0171m022.fits,tractor-0171m025.fits,tractor-0171m027.fits,tractor-0171m030.fits,tractor-0171m032.fits,tractor-0171m035.fits,tractor-0171m037.fits,tractor-0171m040.fits,tractor-0171m042.fits,tractor-0171m045.fits,tractor-0171m047.fits,tractor-0171m050.fits,tractor-0171m052.fits,tractor-0171m055.fits,tractor-0171m057.fits,tractor-0171m060.fits,tractor-0171m097.fits,tractor-0171m100.fits,tractor-0171m102.fits,tractor-0171m105.fits,tractor-0171m107.fits,tractor-0171m110.fits,tractor-0171m112.fits,tractor-0171m137.fits,tractor-0171m140.fits,tractor-0171m142.fits,tractor-0171m145.fits,tractor-0171m147.fits,tractor-0171m150.fits,tractor-0171m152.fits,tractor-0171m170.fits,tractor-0171m172.fits,tractor-0171m175.fits,tractor-0171m177.fits,tractor-0171m180.fits,tractor-0171m200.fits,tractor-0171m202.fits,tractor-0171m222.fits,tractor-0171m225.fits,tractor-0171m227.fits,tractor-0171m245.fits,tractor-0171m247.fits,tractor-0171m262.fits,tractor-0171m265.fits,tractor-0171m267.fits,tractor-0171m282.fits,tractor-0171m285.fits,tractor-0171m297.fits,tractor-0171m300.fits,tractor-0171m302.fits,tractor-0171m315.fits,tractor-0171m317.fits,tractor-0171m330.fits,tractor-0171m332.fits,tractor-0171m335.fits,tractor-0171m347.fits,tractor-0171m360.fits,tractor-0171m362.fits,tractor-0171m375.fits,tractor-0171m377.fits,tractor-0171m387.fits,tractor-0171m390.fits,tractor-0171m402.fits,tractor-0171m415.fits,tractor-0171m417.fits,tractor-0171m427.fits,tractor-0171m440.fits,tractor-0171m452.fits,tractor-0171m462.fits,tractor-0171m475.fits,tractor-0171m497.fits,tractor-0171m507.fits,tractor-0171m517.fits,tractor-0171m520.fits,tractor-0171m530.fits,tractor-0171m540.fits,tractor-0171m550.fits,tractor-0171m560.fits,tractor-0171m570.fits,tractor-0171m580.fits,tractor-0171m590.fits,tractor-0171m600.fits,tractor-0171m610.fits,tractor-0171m637.fits,tractor-0171m647.fits,tractor-0171m665.fits,tractor-0171p000.fits,tractor-0171p002.fits,tractor-0171p005.fits,tractor-0171p007.fits,tractor-0171p010.fits,tractor-0171p012.fits,tractor-0171p015.fits,tractor-0171p017.fits,tractor-0171p020.fits,tractor-0171p022.fits,tractor-0171p025.fits,tractor-0171p027.fits,tractor-0171p030.fits,tractor-0171p032.fits,tractor-0171p035.fits,tractor-0171p037.fits,tractor-0171p040.fits,tractor-0171p042.fits,tractor-0171p045.fits,tractor-0171p047.fits,tractor-0171p050.fits,tractor-0171p052.fits,tractor-0171p055.fits,tractor-0171p057.fits,tractor-0171p060.fits,tractor-0171p097.fits,tractor-0171p100.fits,tractor-0171p102.fits,tractor-0171p105.fits,tractor-0171p107.fits,tractor-0171p110.fits,tractor-0171p112.fits,tractor-0171p137.fits,tractor-0171p140.fits,tractor-0171p142.fits,tractor-0171p145.fits,tractor-0171p147.fits,tractor-0171p150.fits,tractor-0171p152.fits,tractor-0171p170.fits,tractor-0171p172.fits,tractor-0171p175.fits,tractor-0171p177.fits,tractor-0171p180.fits,tractor-0171p200.fits,tractor-0171p202.fits,tractor-0171p222.fits,tractor-0171p225.fits,tractor-0171p227.fits,tractor-0171p245.fits,tractor-0171p247.fits,tractor-0171p262.fits,tractor-0171p265.fits,tractor-0171p267.fits,tractor-0171p282.fits,tractor-0171p285.fits,tractor-0171p297.fits,tractor-0171p300.fits,tractor-0171p302.fits,tractor-0171p315.fits,tractor-0171p317.fits,tractor-0171p330.fits,tractor-0171p332.fits,tractor-0171p335.fits,tractor-0172m062.fits,tractor-0172m065.fits,tractor-0172m067.fits,tractor-0172m070.fits,tractor-0172m072.fits,tractor-0172m075.fits,tractor-0172m077.fits,tractor-0172m080.fits,tractor-0172m082.fits,tractor-0172m085.fits,tractor-0172m115.fits,tractor-0172m117.fits,tractor-0172m120.fits,tractor-0172m122.fits,tractor-0172m125.fits,tractor-0172m127.fits,tractor-0172m155.fits,tractor-0172m157.fits,tractor-0172m160.fits,tractor-0172m162.fits,tractor-0172m182.fits,tractor-0172m185.fits,tractor-0172m187.fits,tractor-0172m190.fits,tractor-0172m205.fits,tractor-0172m207.fits,tractor-0172m210.fits,tractor-0172m212.fits,tractor-0172m230.fits,tractor-0172m232.fits,tractor-0172m235.fits,tractor-0172m250.fits,tractor-0172m252.fits,tractor-0172m255.fits,tractor-0172m270.fits,tractor-0172m272.fits,tractor-0172m275.fits,tractor-0172m287.fits,tractor-0172m290.fits,tractor-0172m305.fits,tractor-0172m307.fits,tractor-0172m320.fits,tractor-0172m322.fits,tractor-0172m325.fits,tractor-0172m337.fits,tractor-0172m350.fits,tractor-0172m352.fits,tractor-0172m355.fits,tractor-0172m365.fits,tractor-0172m367.fits,tractor-0172m380.fits,tractor-0172m392.fits,tractor-0172m395.fits,tractor-0172m405.fits,tractor-0172m407.fits,tractor-0172m420.fits,tractor-0172m430.fits,tractor-0172m432.fits,tractor-0172m442.fits,tractor-0172m455.fits,tractor-0172m465.fits,tractor-0172m467.fits,tractor-0172m477.fits,tractor-0172m487.fits,tractor-0172m490.fits,tractor-0172m500.fits,tractor-0172m510.fits,tractor-0172m522.fits,tractor-0172m532.fits,tractor-0172m542.fits,tractor-0172m552.fits,tractor-0172m562.fits,tractor-0172m572.fits,tractor-0172m582.fits,tractor-0172m592.fits,tractor-0172m602.fits,tractor-0172m620.fits,tractor-0172m630.fits,tractor-0172m640.fits,tractor-0172m657.fits,tractor-0172p062.fits,tractor-0172p065.fits,tractor-0172p067.fits,tractor-0172p070.fits,tractor-0172p072.fits,tractor-0172p075.fits,tractor-0172p077.fits,tractor-0172p080.fits,tractor-0172p082.fits,tractor-0172p085.fits,tractor-0172p115.fits,tractor-0172p117.fits,tractor-0172p120.fits,tractor-0172p122.fits,tractor-0172p125.fits,tractor-0172p127.fits,tractor-0172p155.fits,tractor-0172p157.fits,tractor-0172p160.fits,tractor-0172p162.fits,tractor-0172p182.fits,tractor-0172p185.fits,tractor-0172p187.fits,tractor-0172p190.fits,tractor-0172p205.fits,tractor-0172p207.fits,tractor-0172p210.fits,tractor-0172p212.fits,tractor-0172p230.fits,tractor-0172p232.fits,tractor-0172p235.fits,tractor-0172p250.fits,tractor-0172p252.fits,tractor-0172p255.fits,tractor-0172p270.fits,tractor-0172p272.fits,tractor-0172p275.fits,tractor-0172p287.fits,tractor-0172p290.fits,tractor-0172p305.fits,tractor-0172p307.fits,tractor-0172p320.fits,tractor-0172p322.fits,tractor-0172p325.fits,tractor-0172p337.fits,tractor-0173m002.fits,tractor-0173m005.fits,tractor-0173m007.fits,tractor-0173m010.fits,tractor-0173m012.fits,tractor-0173m015.fits,tractor-0173m017.fits,tractor-0173m020.fits,tractor-0173m022.fits,tractor-0173m025.fits,tractor-0173m027.fits,tractor-0173m030.fits,tractor-0173m032.fits,tractor-0173m035.fits,tractor-0173m037.fits,tractor-0173m040.fits,tractor-0173m042.fits,tractor-0173m087.fits,tractor-0173m090.fits,tractor-0173m092.fits,tractor-0173m095.fits,tractor-0173m097.fits,tractor-0173m100.fits,tractor-0173m102.fits,tractor-0173m105.fits,tractor-0173m130.fits,tractor-0173m132.fits,tractor-0173m135.fits,tractor-0173m137.fits,tractor-0173m140.fits,tractor-0173m142.fits,tractor-0173m165.fits,tractor-0173m167.fits,tractor-0173m170.fits,tractor-0173m172.fits,tractor-0173m175.fits,tractor-0173m192.fits,tractor-0173m195.fits,tractor-0173m197.fits,tractor-0173m200.fits,tractor-0173m215.fits,tractor-0173m217.fits,tractor-0173m220.fits,tractor-0173m237.fits,tractor-0173m240.fits,tractor-0173m242.fits,tractor-0173m257.fits,tractor-0173m260.fits,tractor-0173m262.fits,tractor-0173m277.fits,tractor-0173m280.fits,tractor-0173m292.fits,tractor-0173m295.fits,tractor-0173m297.fits,tractor-0173m310.fits,tractor-0173m312.fits,tractor-0173m327.fits,tractor-0173m340.fits,tractor-0173m342.fits,tractor-0173m345.fits,tractor-0173m357.fits,tractor-0173m370.fits,tractor-0173m372.fits,tractor-0173m382.fits,tractor-0173m385.fits,tractor-0173m397.fits,tractor-0173m410.fits,tractor-0173m422.fits,tractor-0173m435.fits,tractor-0173m445.fits,tractor-0173m447.fits,tractor-0173m457.fits,tractor-0173m460.fits,tractor-0173m470.fits,tractor-0173m480.fits,tractor-0173m492.fits,tractor-0173m502.fits,tractor-0173m512.fits,tractor-0173m525.fits,tractor-0173m535.fits,tractor-0173m545.fits,tractor-0173m555.fits,tractor-0173m565.fits,tractor-0173m575.fits,tractor-0173m585.fits,tractor-0173m612.fits,tractor-0173m622.fits,tractor-0173m632.fits,tractor-0173m650.fits,tractor-0173m660.fits,tractor-0173m667.fits,tractor-0173p000.fits,tractor-0173p002.fits,tractor-0173p005.fits,tractor-0173p007.fits,tractor-0173p010.fits,tractor-0173p012.fits,tractor-0173p015.fits,tractor-0173p017.fits,tractor-0173p020.fits,tractor-0173p022.fits,tractor-0173p025.fits,tractor-0173p027.fits,tractor-0173p030.fits,tractor-0173p032.fits,tractor-0173p035.fits,tractor-0173p037.fits,tractor-0173p040.fits,tractor-0173p042.fits,tractor-0173p087.fits,tractor-0173p090.fits,tractor-0173p092.fits,tractor-0173p095.fits,tractor-0173p097.fits,tractor-0173p100.fits,tractor-0173p102.fits,tractor-0173p105.fits,tractor-0173p130.fits,tractor-0173p132.fits,tractor-0173p135.fits,tractor-0173p137.fits,tractor-0173p140.fits,tractor-0173p142.fits,tractor-0173p165.fits,tractor-0173p167.fits,tractor-0173p170.fits,tractor-0173p172.fits,tractor-0173p175.fits,tractor-0173p192.fits,tractor-0173p195.fits,tractor-0173p197.fits,tractor-0173p200.fits,tractor-0173p215.fits,tractor-0173p217.fits,tractor-0173p220.fits,tractor-0173p237.fits,tractor-0173p240.fits,tractor-0173p242.fits,tractor-0173p257.fits,tractor-0173p260.fits,tractor-0173p262.fits,tractor-0173p277.fits,tractor-0173p280.fits,tractor-0173p292.fits,tractor-0173p295.fits,tractor-0173p297.fits,tractor-0173p310.fits,tractor-0173p312.fits,tractor-0173p327.fits,tractor-0173p340.fits,tractor-0173p342.fits,tractor-0173p345.fits,tractor-0174m045.fits,tractor-0174m047.fits,tractor-0174m050.fits,tractor-0174m052.fits,tractor-0174m055.fits,tractor-0174m057.fits,tractor-0174m060.fits,tractor-0174m062.fits,tractor-0174m065.fits,tractor-0174m067.fits,tractor-0174m070.fits,tractor-0174m072.fits,tractor-0174m075.fits,tractor-0174m107.fits,tractor-0174m110.fits,tractor-0174m112.fits,tractor-0174m115.fits,tractor-0174m117.fits,tractor-0174m120.fits,tractor-0174m145.fits,tractor-0174m147.fits,tractor-0174m150.fits,tractor-0174m152.fits,tractor-0174m155.fits,tractor-0174m177.fits,tractor-0174m180.fits,tractor-0174m182.fits,tractor-0174m202.fits,tractor-0174m205.fits,tractor-0174m207.fits,tractor-0174m222.fits,tractor-0174m225.fits,tractor-0174m227.fits,tractor-0174m230.fits,tractor-0174m245.fits,tractor-0174m247.fits,tractor-0174m250.fits,tractor-0174m265.fits,tractor-0174m267.fits,tractor-0174m270.fits,tractor-0174m282.fits,tractor-0174m285.fits,tractor-0174m300.fits,tractor-0174m302.fits,tractor-0174m315.fits,tractor-0174m317.fits,tractor-0174m330.fits,tractor-0174m332.fits,tractor-0174m335.fits,tractor-0174m347.fits,tractor-0174m360.fits,tractor-0174m362.fits,tractor-0174m375.fits,tractor-0174m377.fits,tractor-0174m387.fits,tractor-0174m390.fits,tractor-0174m400.fits,tractor-0174m402.fits,tractor-0174m412.fits,tractor-0174m415.fits,tractor-0174m425.fits,tractor-0174m427.fits,tractor-0174m437.fits,tractor-0174m440.fits,tractor-0174m450.fits,tractor-0174m462.fits,tractor-0174m472.fits,tractor-0174m482.fits,tractor-0174m485.fits,tractor-0174m495.fits,tractor-0174m505.fits,tractor-0174m515.fits,tractor-0174m527.fits,tractor-0174m537.fits,tractor-0174m547.fits,tractor-0174m557.fits,tractor-0174m567.fits,tractor-0174m577.fits,tractor-0174m595.fits,tractor-0174m605.fits,tractor-0174m615.fits,tractor-0174m642.fits,tractor-0174m670.fits,tractor-0174p045.fits,tractor-0174p047.fits,tractor-0174p050.fits,tractor-0174p052.fits,tractor-0174p055.fits,tractor-0174p057.fits,tractor-0174p060.fits,tractor-0174p062.fits,tractor-0174p065.fits,tractor-0174p067.fits,tractor-0174p070.fits,tractor-0174p072.fits,tractor-0174p075.fits,tractor-0174p107.fits,tractor-0174p110.fits,tractor-0174p112.fits,tractor-0174p115.fits,tractor-0174p117.fits,tractor-0174p120.fits,tractor-0174p145.fits,tractor-0174p147.fits,tractor-0174p150.fits,tractor-0174p152.fits,tractor-0174p155.fits,tractor-0174p177.fits,tractor-0174p180.fits,tractor-0174p182.fits,tractor-0174p202.fits,tractor-0174p205.fits,tractor-0174p207.fits,tractor-0174p222.fits,tractor-0174p225.fits,tractor-0174p227.fits,tractor-0174p230.fits,tractor-0174p245.fits,tractor-0174p247.fits,tractor-0174p250.fits,tractor-0174p265.fits,tractor-0174p267.fits,tractor-0174p270.fits,tractor-0174p282.fits,tractor-0174p285.fits,tractor-0174p300.fits,tractor-0174p302.fits,tractor-0174p315.fits,tractor-0174p317.fits,tractor-0174p330.fits,tractor-0174p332.fits,tractor-0174p335.fits,tractor-0175m077.fits,tractor-0175m080.fits,tractor-0175m082.fits,tractor-0175m085.fits,tractor-0175m087.fits,tractor-0175m090.fits,tractor-0175m092.fits,tractor-0175m095.fits,tractor-0175m122.fits,tractor-0175m125.fits,tractor-0175m127.fits,tractor-0175m130.fits,tractor-0175m132.fits,tractor-0175m135.fits,tractor-0175m157.fits,tractor-0175m160.fits,tractor-0175m162.fits,tractor-0175m165.fits,tractor-0175m185.fits,tractor-0175m187.fits,tractor-0175m190.fits,tractor-0175m192.fits,tractor-0175m210.fits,tractor-0175m212.fits,tractor-0175m215.fits,tractor-0175m217.fits,tractor-0175m232.fits,tractor-0175m235.fits,tractor-0175m237.fits,tractor-0175m252.fits,tractor-0175m255.fits,tractor-0175m257.fits,tractor-0175m272.fits,tractor-0175m275.fits,tractor-0175m287.fits,tractor-0175m290.fits,tractor-0175m292.fits,tractor-0175m305.fits,tractor-0175m307.fits,tractor-0175m320.fits,tractor-0175m322.fits,tractor-0175m325.fits,tractor-0175m337.fits,tractor-0175m350.fits,tractor-0175m352.fits,tractor-0175m365.fits,tractor-0175m367.fits,tractor-0175m380.fits,tractor-0175m392.fits,tractor-0175m405.fits,tractor-0175m417.fits,tractor-0175m420.fits,tractor-0175m430.fits,tractor-0175m442.fits,tractor-0175m452.fits,tractor-0175m465.fits,tractor-0175m475.fits,tractor-0175m477.fits,tractor-0175m487.fits,tractor-0175m497.fits,tractor-0175m507.fits,tractor-0175m517.fits,tractor-0175m520.fits,tractor-0175m530.fits,tractor-0175m540.fits,tractor-0175m550.fits,tractor-0175m560.fits,tractor-0175m570.fits,tractor-0175m587.fits,tractor-0175m597.fits,tractor-0175m607.fits,tractor-0175m617.fits,tractor-0175m625.fits,tractor-0175m635.fits,tractor-0175m645.fits,tractor-0175m652.fits,tractor-0175m662.fits,tractor-0175p077.fits,tractor-0175p080.fits,tractor-0175p082.fits,tractor-0175p085.fits,tractor-0175p087.fits,tractor-0175p090.fits,tractor-0175p092.fits,tractor-0175p095.fits,tractor-0175p122.fits,tractor-0175p125.fits,tractor-0175p127.fits,tractor-0175p130.fits,tractor-0175p132.fits,tractor-0175p135.fits,tractor-0175p157.fits,tractor-0175p160.fits,tractor-0175p162.fits,tractor-0175p165.fits,tractor-0175p185.fits,tractor-0175p187.fits,tractor-0175p190.fits,tractor-0175p192.fits,tractor-0175p210.fits,tractor-0175p212.fits,tractor-0175p215.fits,tractor-0175p217.fits,tractor-0175p232.fits,tractor-0175p235.fits,tractor-0175p237.fits,tractor-0175p252.fits,tractor-0175p255.fits,tractor-0175p257.fits,tractor-0175p272.fits,tractor-0175p275.fits,tractor-0175p287.fits,tractor-0175p290.fits,tractor-0175p292.fits,tractor-0175p305.fits,tractor-0175p307.fits,tractor-0175p320.fits,tractor-0175p322.fits,tractor-0175p325.fits,tractor-0175p337.fits,tractor-0176m002.fits,tractor-0176m005.fits,tractor-0176m007.fits,tractor-0176m010.fits,tractor-0176m012.fits,tractor-0176m015.fits,tractor-0176m017.fits,tractor-0176m020.fits,tractor-0176m022.fits,tractor-0176m025.fits,tractor-0176m027.fits,tractor-0176m030.fits,tractor-0176m032.fits,tractor-0176m035.fits,tractor-0176m037.fits,tractor-0176m040.fits,tractor-0176m042.fits,tractor-0176m045.fits,tractor-0176m047.fits,tractor-0176m050.fits,tractor-0176m052.fits,tractor-0176m055.fits,tractor-0176m057.fits,tractor-0176m060.fits,tractor-0176m097.fits,tractor-0176m100.fits,tractor-0176m102.fits,tractor-0176m105.fits,tractor-0176m107.fits,tractor-0176m110.fits,tractor-0176m112.fits,tractor-0176m137.fits,tractor-0176m140.fits,tractor-0176m142.fits,tractor-0176m145.fits,tractor-0176m147.fits,tractor-0176m167.fits,tractor-0176m170.fits,tractor-0176m172.fits,tractor-0176m175.fits,tractor-0176m177.fits,tractor-0176m195.fits,tractor-0176m197.fits,tractor-0176m200.fits,tractor-0176m202.fits,tractor-0176m220.fits,tractor-0176m222.fits,tractor-0176m240.fits,tractor-0176m242.fits,tractor-0176m245.fits,tractor-0176m260.fits,tractor-0176m262.fits,tractor-0176m265.fits,tractor-0176m277.fits,tractor-0176m280.fits,tractor-0176m295.fits,tractor-0176m297.fits,tractor-0176m310.fits,tractor-0176m312.fits,tractor-0176m327.fits,tractor-0176m340.fits,tractor-0176m342.fits,tractor-0176m345.fits,tractor-0176m355.fits,tractor-0176m357.fits,tractor-0176m370.fits,tractor-0176m372.fits,tractor-0176m382.fits,tractor-0176m385.fits,tractor-0176m395.fits,tractor-0176m397.fits,tractor-0176m407.fits,tractor-0176m410.fits,tractor-0176m422.fits,tractor-0176m432.fits,tractor-0176m435.fits,tractor-0176m445.fits,tractor-0176m455.fits,tractor-0176m457.fits,tractor-0176m467.fits,tractor-0176m490.fits,tractor-0176m500.fits,tractor-0176m510.fits,tractor-0176m522.fits,tractor-0176m532.fits,tractor-0176m552.fits,tractor-0176m562.fits,tractor-0176m580.fits,tractor-0176m590.fits,tractor-0176m600.fits,tractor-0176m610.fits,tractor-0176m627.fits,tractor-0176m655.fits,tractor-0176m672.fits,tractor-0176p000.fits,tractor-0176p002.fits,tractor-0176p005.fits,tractor-0176p007.fits,tractor-0176p010.fits,tractor-0176p012.fits,tractor-0176p015.fits,tractor-0176p017.fits,tractor-0176p020.fits,tractor-0176p022.fits,tractor-0176p025.fits,tractor-0176p027.fits,tractor-0176p030.fits,tractor-0176p032.fits,tractor-0176p035.fits,tractor-0176p037.fits,tractor-0176p040.fits,tractor-0176p042.fits,tractor-0176p045.fits,tractor-0176p047.fits,tractor-0176p050.fits,tractor-0176p052.fits,tractor-0176p055.fits,tractor-0176p057.fits,tractor-0176p060.fits,tractor-0176p097.fits,tractor-0176p100.fits,tractor-0176p102.fits,tractor-0176p105.fits,tractor-0176p107.fits,tractor-0176p110.fits,tractor-0176p112.fits,tractor-0176p137.fits,tractor-0176p140.fits,tractor-0176p142.fits,tractor-0176p145.fits,tractor-0176p147.fits,tractor-0176p167.fits,tractor-0176p170.fits,tractor-0176p172.fits,tractor-0176p175.fits,tractor-0176p177.fits,tractor-0176p195.fits,tractor-0176p197.fits,tractor-0176p200.fits,tractor-0176p202.fits,tractor-0176p220.fits,tractor-0176p222.fits,tractor-0176p240.fits,tractor-0176p242.fits,tractor-0176p245.fits,tractor-0176p260.fits,tractor-0176p262.fits,tractor-0176p265.fits,tractor-0176p277.fits,tractor-0176p280.fits,tractor-0176p295.fits,tractor-0176p297.fits,tractor-0176p310.fits,tractor-0176p312.fits,tractor-0176p327.fits,tractor-0176p340.fits,tractor-0176p342.fits,tractor-0176p345.fits,tractor-0177m062.fits,tractor-0177m065.fits,tractor-0177m067.fits,tractor-0177m070.fits,tractor-0177m072.fits,tractor-0177m075.fits,tractor-0177m077.fits,tractor-0177m080.fits,tractor-0177m082.fits,tractor-0177m085.fits,tractor-0177m115.fits,tractor-0177m117.fits,tractor-0177m120.fits,tractor-0177m122.fits,tractor-0177m125.fits,tractor-0177m127.fits,tractor-0177m150.fits,tractor-0177m152.fits,tractor-0177m155.fits,tractor-0177m157.fits,tractor-0177m160.fits,tractor-0177m180.fits,tractor-0177m182.fits,tractor-0177m185.fits,tractor-0177m187.fits,tractor-0177m205.fits,tractor-0177m207.fits,tractor-0177m210.fits,tractor-0177m225.fits,tractor-0177m227.fits,tractor-0177m230.fits,tractor-0177m232.fits,tractor-0177m247.fits,tractor-0177m250.fits,tractor-0177m267.fits,tractor-0177m270.fits,tractor-0177m282.fits,tractor-0177m285.fits,tractor-0177m300.fits,tractor-0177m302.fits,tractor-0177m305.fits,tractor-0177m315.fits,tractor-0177m317.fits,tractor-0177m320.fits,tractor-0177m330.fits,tractor-0177m332.fits,tractor-0177m335.fits,tractor-0177m347.fits,tractor-0177m360.fits,tractor-0177m362.fits,tractor-0177m375.fits,tractor-0177m387.fits,tractor-0177m400.fits,tractor-0177m412.fits,tractor-0177m425.fits,tractor-0177m437.fits,tractor-0177m447.fits,tractor-0177m450.fits,tractor-0177m460.fits,tractor-0177m470.fits,tractor-0177m480.fits,tractor-0177m482.fits,tractor-0177m492.fits,tractor-0177m502.fits,tractor-0177m512.fits,tractor-0177m525.fits,tractor-0177m535.fits,tractor-0177m542.fits,tractor-0177m545.fits,tractor-0177m555.fits,tractor-0177m572.fits,tractor-0177m582.fits,tractor-0177m592.fits,tractor-0177m602.fits,tractor-0177m620.fits,tractor-0177m630.fits,tractor-0177m637.fits,tractor-0177m647.fits,tractor-0177m665.fits,tractor-0177p062.fits,tractor-0177p065.fits,tractor-0177p067.fits,tractor-0177p070.fits,tractor-0177p072.fits,tractor-0177p075.fits,tractor-0177p077.fits,tractor-0177p080.fits,tractor-0177p082.fits,tractor-0177p085.fits,tractor-0177p115.fits,tractor-0177p117.fits,tractor-0177p120.fits,tractor-0177p122.fits,tractor-0177p125.fits,tractor-0177p127.fits,tractor-0177p150.fits,tractor-0177p152.fits,tractor-0177p155.fits,tractor-0177p157.fits,tractor-0177p160.fits,tractor-0177p180.fits,tractor-0177p182.fits,tractor-0177p185.fits,tractor-0177p187.fits,tractor-0177p205.fits,tractor-0177p207.fits,tractor-0177p210.fits,tractor-0177p225.fits,tractor-0177p227.fits,tractor-0177p230.fits,tractor-0177p232.fits,tractor-0177p247.fits,tractor-0177p250.fits,tractor-0177p267.fits,tractor-0177p270.fits,tractor-0177p282.fits,tractor-0177p285.fits,tractor-0177p300.fits,tractor-0177p302.fits,tractor-0177p305.fits,tractor-0177p315.fits,tractor-0177p317.fits,tractor-0177p320.fits,tractor-0177p330.fits,tractor-0177p332.fits,tractor-0177p335.fits,tractor-0178m002.fits,tractor-0178m005.fits,tractor-0178m007.fits,tractor-0178m010.fits,tractor-0178m012.fits,tractor-0178m015.fits,tractor-0178m017.fits,tractor-0178m020.fits,tractor-0178m022.fits,tractor-0178m025.fits,tractor-0178m027.fits,tractor-0178m030.fits,tractor-0178m032.fits,tractor-0178m035.fits,tractor-0178m037.fits,tractor-0178m040.fits,tractor-0178m042.fits,tractor-0178m087.fits,tractor-0178m090.fits,tractor-0178m092.fits,tractor-0178m095.fits,tractor-0178m097.fits,tractor-0178m100.fits,tractor-0178m102.fits,tractor-0178m105.fits,tractor-0178m130.fits,tractor-0178m132.fits,tractor-0178m135.fits,tractor-0178m137.fits,tractor-0178m140.fits,tractor-0178m142.fits,tractor-0178m162.fits,tractor-0178m165.fits,tractor-0178m167.fits,tractor-0178m170.fits,tractor-0178m172.fits,tractor-0178m190.fits,tractor-0178m192.fits,tractor-0178m195.fits,tractor-0178m197.fits,tractor-0178m212.fits,tractor-0178m215.fits,tractor-0178m217.fits,tractor-0178m220.fits,tractor-0178m235.fits,tractor-0178m237.fits,tractor-0178m240.fits,tractor-0178m252.fits,tractor-0178m255.fits,tractor-0178m257.fits,tractor-0178m272.fits,tractor-0178m275.fits,tractor-0178m287.fits,tractor-0178m290.fits,tractor-0178m292.fits,tractor-0178m307.fits,tractor-0178m322.fits,tractor-0178m325.fits,tractor-0178m337.fits,tractor-0178m350.fits,tractor-0178m352.fits,tractor-0178m365.fits,tractor-0178m377.fits,tractor-0178m380.fits,tractor-0178m390.fits,tractor-0178m392.fits,tractor-0178m402.fits,tractor-0178m405.fits,tractor-0178m415.fits,tractor-0178m417.fits,tractor-0178m427.fits,tractor-0178m430.fits,tractor-0178m440.fits,tractor-0178m452.fits,tractor-0178m462.fits,tractor-0178m472.fits,tractor-0178m475.fits,tractor-0178m485.fits,tractor-0178m495.fits,tractor-0178m505.fits,tractor-0178m515.fits,tractor-0178m527.fits,tractor-0178m537.fits,tractor-0178m565.fits,tractor-0178m575.fits,tractor-0178m585.fits,tractor-0178m612.fits,tractor-0178m622.fits,tractor-0178m640.fits,tractor-0178m657.fits,tractor-0178m675.fits,tractor-0178p000.fits,tractor-0178p002.fits,tractor-0178p005.fits,tractor-0178p007.fits,tractor-0178p010.fits,tractor-0178p012.fits,tractor-0178p015.fits,tractor-0178p017.fits,tractor-0178p020.fits,tractor-0178p022.fits,tractor-0178p025.fits,tractor-0178p027.fits,tractor-0178p030.fits,tractor-0178p032.fits,tractor-0178p035.fits,tractor-0178p037.fits,tractor-0178p040.fits,tractor-0178p042.fits,tractor-0178p087.fits,tractor-0178p090.fits,tractor-0178p092.fits,tractor-0178p095.fits,tractor-0178p097.fits,tractor-0178p100.fits,tractor-0178p102.fits,tractor-0178p105.fits,tractor-0178p130.fits,tractor-0178p132.fits,tractor-0178p135.fits,tractor-0178p137.fits,tractor-0178p140.fits,tractor-0178p142.fits,tractor-0178p162.fits,tractor-0178p165.fits,tractor-0178p167.fits,tractor-0178p170.fits,tractor-0178p172.fits,tractor-0178p190.fits,tractor-0178p192.fits,tractor-0178p195.fits,tractor-0178p197.fits,tractor-0178p212.fits,tractor-0178p215.fits,tractor-0178p217.fits,tractor-0178p220.fits,tractor-0178p235.fits,tractor-0178p237.fits,tractor-0178p240.fits,tractor-0178p252.fits,tractor-0178p255.fits,tractor-0178p257.fits,tractor-0178p272.fits,tractor-0178p275.fits,tractor-0178p287.fits,tractor-0178p290.fits,tractor-0178p292.fits,tractor-0178p307.fits,tractor-0178p322.fits,tractor-0178p325.fits,tractor-0178p337.fits,tractor-0179m045.fits,tractor-0179m047.fits,tractor-0179m050.fits,tractor-0179m052.fits,tractor-0179m055.fits,tractor-0179m057.fits,tractor-0179m060.fits,tractor-0179m062.fits,tractor-0179m065.fits,tractor-0179m067.fits,tractor-0179m107.fits,tractor-0179m110.fits,tractor-0179m112.fits,tractor-0179m115.fits,tractor-0179m117.fits,tractor-0179m145.fits,tractor-0179m147.fits,tractor-0179m150.fits,tractor-0179m152.fits,tractor-0179m175.fits,tractor-0179m177.fits,tractor-0179m180.fits,tractor-0179m200.fits,tractor-0179m202.fits,tractor-0179m222.fits,tractor-0179m225.fits,tractor-0179m242.fits,tractor-0179m245.fits,tractor-0179m260.fits,tractor-0179m262.fits,tractor-0179m265.fits,tractor-0179m277.fits,tractor-0179m280.fits,tractor-0179m295.fits,tractor-0179m297.fits,tractor-0179m310.fits,tractor-0179m312.fits,tractor-0179m327.fits,tractor-0179m340.fits,tractor-0179m342.fits,tractor-0179m355.fits,tractor-0179m357.fits,tractor-0179m367.fits,tractor-0179m370.fits,tractor-0179m382.fits,tractor-0179m395.fits,tractor-0179m407.fits,tractor-0179m420.fits,tractor-0179m432.fits,tractor-0179m442.fits,tractor-0179m455.fits,tractor-0179m465.fits,tractor-0179m477.fits,tractor-0179m487.fits,tractor-0179m497.fits,tractor-0179m507.fits,tractor-0179m517.fits,tractor-0179m547.fits,tractor-0179m557.fits,tractor-0179m567.fits,tractor-0179m577.fits,tractor-0179m595.fits,tractor-0179m605.fits,tractor-0179m632.fits,tractor-0179m650.fits,tractor-0179m667.fits,tractor-0179p045.fits,tractor-0179p047.fits,tractor-0179p050.fits,tractor-0179p052.fits,tractor-0179p055.fits,tractor-0179p057.fits,tractor-0179p060.fits,tractor-0179p062.fits,tractor-0179p065.fits,tractor-0179p067.fits,tractor-0179p107.fits,tractor-0179p110.fits,tractor-0179p112.fits,tractor-0179p115.fits,tractor-0179p117.fits,tractor-0179p145.fits,tractor-0179p147.fits,tractor-0179p150.fits,tractor-0179p152.fits,tractor-0179p175.fits,tractor-0179p177.fits,tractor-0179p180.fits,tractor-0179p200.fits,tractor-0179p202.fits,tractor-0179p222.fits,tractor-0179p225.fits,tractor-0179p242.fits,tractor-0179p245.fits,tractor-0179p260.fits,tractor-0179p262.fits,tractor-0179p265.fits,tractor-0179p277.fits,tractor-0179p280.fits,tractor-0179p295.fits,tractor-0179p297.fits,tractor-0179p310.fits,tractor-0179p312.fits,tractor-0179p327.fits,tractor-0179p340.fits,tractor-0179p342.fits\n"
     ]
    }
   ],
   "source": [
    "for region in regions:\n",
    "    print(sc.ls(f'ls_{release}://{region}/tractor/017/'))"
   ]
  },
  {
   "cell_type": "markdown",
   "metadata": {},
   "source": [
    "### Sweep\n",
    "\n",
    "Display sweep files, just to make sure they are actually present in the file service."
   ]
  },
  {
   "cell_type": "code",
   "execution_count": 12,
   "metadata": {},
   "outputs": [
    {
     "name": "stdout",
     "output_type": "stream",
     "text": [
      "legacysurvey_dr8_north_sweep_8.0.sha256sum,sweep-000m005-010p000.fits,sweep-000p000-010p005.fits,sweep-000p040-010p045.fits,sweep-010m005-020p000.fits,sweep-010p000-020p005.fits,sweep-010p025-020p030.fits,sweep-010p030-020p035.fits,sweep-010p035-020p040.fits,sweep-010p040-020p045.fits,sweep-020p025-030p030.fits,sweep-030m005-040p000.fits,sweep-030p000-040p005.fits,sweep-030p025-040p030.fits,sweep-040m005-050p000.fits,sweep-040p000-050p005.fits,sweep-060p065-070p070.fits,sweep-080p055-090p060.fits,sweep-080p060-090p065.fits,sweep-080p065-090p070.fits,sweep-080p075-090p080.fits,sweep-090p030-100p035.fits,sweep-090p035-100p040.fits,sweep-090p040-100p045.fits,sweep-090p045-100p050.fits,sweep-090p050-100p055.fits,sweep-090p055-100p060.fits,sweep-090p060-100p065.fits,sweep-090p065-100p070.fits,sweep-090p070-100p075.fits,sweep-090p075-100p080.fits,sweep-090p080-100p085.fits,sweep-100p025-110p030.fits,sweep-100p030-110p035.fits,sweep-100p035-110p040.fits,sweep-100p040-110p045.fits,sweep-100p045-110p050.fits,sweep-100p050-110p055.fits,sweep-100p055-110p060.fits,sweep-100p060-110p065.fits,sweep-100p065-110p070.fits,sweep-100p070-110p075.fits,sweep-100p075-110p080.fits,sweep-100p080-110p085.fits,sweep-110p025-120p030.fits,sweep-110p030-120p035.fits,sweep-110p035-120p040.fits,sweep-110p040-120p045.fits,sweep-110p045-120p050.fits,sweep-110p050-120p055.fits,sweep-110p055-120p060.fits,sweep-110p060-120p065.fits,sweep-110p065-120p070.fits,sweep-110p070-120p075.fits,sweep-110p075-120p080.fits,sweep-110p080-120p085.fits,sweep-120p015-130p020.fits,sweep-120p020-130p025.fits,sweep-120p025-130p030.fits,sweep-120p030-130p035.fits,sweep-120p035-130p040.fits,sweep-120p040-130p045.fits,sweep-120p045-130p050.fits,sweep-120p050-130p055.fits,sweep-120p055-130p060.fits,sweep-120p060-130p065.fits,sweep-120p065-130p070.fits,sweep-120p070-130p075.fits,sweep-120p075-130p080.fits,sweep-120p080-130p085.fits,sweep-130p025-140p030.fits,sweep-130p030-140p035.fits,sweep-130p035-140p040.fits,sweep-130p040-140p045.fits,sweep-130p045-140p050.fits,sweep-130p050-140p055.fits,sweep-130p055-140p060.fits,sweep-130p060-140p065.fits,sweep-130p065-140p070.fits,sweep-130p070-140p075.fits,sweep-130p075-140p080.fits,sweep-130p080-140p085.fits,sweep-140m005-150p000.fits,sweep-140p000-150p005.fits,sweep-140p025-150p030.fits,sweep-140p030-150p035.fits,sweep-140p035-150p040.fits,sweep-140p040-150p045.fits,sweep-140p045-150p050.fits,sweep-140p050-150p055.fits,sweep-140p055-150p060.fits,sweep-140p060-150p065.fits,sweep-140p065-150p070.fits,sweep-140p070-150p075.fits,sweep-140p075-150p080.fits,sweep-140p080-150p085.fits,sweep-150p000-160p005.fits,sweep-150p025-160p030.fits,sweep-150p030-160p035.fits,sweep-150p035-160p040.fits,sweep-150p040-160p045.fits,sweep-150p045-160p050.fits,sweep-150p050-160p055.fits,sweep-150p055-160p060.fits,sweep-150p060-160p065.fits,sweep-150p065-160p070.fits,sweep-150p070-160p075.fits,sweep-150p075-160p080.fits,sweep-150p080-160p085.fits,sweep-160p025-170p030.fits,sweep-160p030-170p035.fits,sweep-160p035-170p040.fits,sweep-160p040-170p045.fits,sweep-160p045-170p050.fits,sweep-160p050-170p055.fits,sweep-160p055-170p060.fits,sweep-160p060-170p065.fits,sweep-160p065-170p070.fits,sweep-160p070-170p075.fits,sweep-160p075-170p080.fits,sweep-160p080-170p085.fits,sweep-170p025-180p030.fits,sweep-170p030-180p035.fits,sweep-170p035-180p040.fits,sweep-170p040-180p045.fits,sweep-170p045-180p050.fits,sweep-170p050-180p055.fits,sweep-170p055-180p060.fits,sweep-170p060-180p065.fits,sweep-170p065-180p070.fits,sweep-170p070-180p075.fits,sweep-170p075-180p080.fits,sweep-170p080-180p085.fits,sweep-180p025-190p030.fits,sweep-180p030-190p035.fits,sweep-180p035-190p040.fits,sweep-180p040-190p045.fits,sweep-180p045-190p050.fits,sweep-180p050-190p055.fits,sweep-180p055-190p060.fits,sweep-180p060-190p065.fits,sweep-180p065-190p070.fits,sweep-180p070-190p075.fits,sweep-180p075-190p080.fits,sweep-180p080-190p085.fits,sweep-190p025-200p030.fits,sweep-190p030-200p035.fits,sweep-190p035-200p040.fits,sweep-190p040-200p045.fits,sweep-190p045-200p050.fits,sweep-190p050-200p055.fits,sweep-190p055-200p060.fits,sweep-190p060-200p065.fits,sweep-190p065-200p070.fits,sweep-190p070-200p075.fits,sweep-190p075-200p080.fits,sweep-190p080-200p085.fits,sweep-200p025-210p030.fits,sweep-200p030-210p035.fits,sweep-200p035-210p040.fits,sweep-200p040-210p045.fits,sweep-200p045-210p050.fits,sweep-200p050-210p055.fits,sweep-200p055-210p060.fits,sweep-200p060-210p065.fits,sweep-200p065-210p070.fits,sweep-200p070-210p075.fits,sweep-200p075-210p080.fits,sweep-200p080-210p085.fits,sweep-210p025-220p030.fits,sweep-210p030-220p035.fits,sweep-210p035-220p040.fits,sweep-210p040-220p045.fits,sweep-210p045-220p050.fits,sweep-210p050-220p055.fits,sweep-210p055-220p060.fits,sweep-210p060-220p065.fits,sweep-210p065-220p070.fits,sweep-210p070-220p075.fits,sweep-210p075-220p080.fits,sweep-210p080-220p085.fits,sweep-220p025-230p030.fits,sweep-220p030-230p035.fits,sweep-220p035-230p040.fits,sweep-220p040-230p045.fits,sweep-220p045-230p050.fits,sweep-220p050-230p055.fits,sweep-220p055-230p060.fits,sweep-220p060-230p065.fits,sweep-220p065-230p070.fits,sweep-220p070-230p075.fits,sweep-220p075-230p080.fits,sweep-220p080-230p085.fits,sweep-230p025-240p030.fits,sweep-230p030-240p035.fits,sweep-230p035-240p040.fits,sweep-230p040-240p045.fits,sweep-230p045-240p050.fits,sweep-230p050-240p055.fits,sweep-230p055-240p060.fits,sweep-230p060-240p065.fits,sweep-230p065-240p070.fits,sweep-230p070-240p075.fits,sweep-230p075-240p080.fits,sweep-230p080-240p085.fits,sweep-240p025-250p030.fits,sweep-240p030-250p035.fits,sweep-240p035-250p040.fits,sweep-240p040-250p045.fits,sweep-240p045-250p050.fits,sweep-240p050-250p055.fits,sweep-240p055-250p060.fits,sweep-240p060-250p065.fits,sweep-240p065-250p070.fits,sweep-240p070-250p075.fits,sweep-240p075-250p080.fits,sweep-240p080-250p085.fits,sweep-250p030-260p035.fits,sweep-250p035-260p040.fits,sweep-250p040-260p045.fits,sweep-250p045-260p050.fits,sweep-250p050-260p055.fits,sweep-250p055-260p060.fits,sweep-250p060-260p065.fits,sweep-250p065-260p070.fits,sweep-250p070-260p075.fits,sweep-250p075-260p080.fits,sweep-250p080-260p085.fits,sweep-260p025-270p030.fits,sweep-260p030-270p035.fits,sweep-260p035-270p040.fits,sweep-260p040-270p045.fits,sweep-260p045-270p050.fits,sweep-260p050-270p055.fits,sweep-260p055-270p060.fits,sweep-260p060-270p065.fits,sweep-260p065-270p070.fits,sweep-260p070-270p075.fits,sweep-260p075-270p080.fits,sweep-260p080-270p085.fits,sweep-270p025-280p030.fits,sweep-270p030-280p035.fits,sweep-270p035-280p040.fits,sweep-270p040-280p045.fits,sweep-270p045-280p050.fits,sweep-270p050-280p055.fits,sweep-270p055-280p060.fits,sweep-270p060-280p065.fits,sweep-270p065-280p070.fits,sweep-270p070-280p075.fits,sweep-270p075-280p080.fits,sweep-270p080-280p085.fits,sweep-280p030-290p035.fits,sweep-280p035-290p040.fits,sweep-280p040-290p045.fits,sweep-280p045-290p050.fits,sweep-280p050-290p055.fits,sweep-280p055-290p060.fits,sweep-280p060-290p065.fits,sweep-280p065-290p070.fits,sweep-280p070-290p075.fits,sweep-280p075-290p080.fits,sweep-280p080-290p085.fits,sweep-290p045-300p050.fits,sweep-290p050-300p055.fits,sweep-290p055-300p060.fits,sweep-290p060-300p065.fits,sweep-290p065-300p070.fits,sweep-290p070-300p075.fits,sweep-300p060-310p065.fits,sweep-310m005-320p000.fits,sweep-310p000-320p005.fits,sweep-320m005-330p000.fits,sweep-320p000-330p005.fits,sweep-320p015-330p020.fits,sweep-330m005-340p000.fits,sweep-330p000-340p005.fits,sweep-330p025-340p030.fits,sweep-330p030-340p035.fits,sweep-340m005-350p000.fits,sweep-340p000-350p005.fits,sweep-340p025-350p030.fits,sweep-340p030-350p035.fits,sweep-350m005-360p000.fits,sweep-350p000-360p005.fits,sweep-350p025-360p030.fits,sweep-350p030-360p035.fits\n",
      "legacysurvey_dr8_south_sweep_8.0.sha256sum,sweep-000m005-010p000.fits,sweep-000m010-010m005.fits,sweep-000m015-010m010.fits,sweep-000m020-010m015.fits,sweep-000m025-010m020.fits,sweep-000m030-010m025.fits,sweep-000m035-010m030.fits,sweep-000m040-010m035.fits,sweep-000m045-010m040.fits,sweep-000m050-010m045.fits,sweep-000m055-010m050.fits,sweep-000m060-010m055.fits,sweep-000m065-010m060.fits,sweep-000m070-010m065.fits,sweep-000p000-010p005.fits,sweep-000p005-010p010.fits,sweep-000p010-010p015.fits,sweep-000p015-010p020.fits,sweep-000p020-010p025.fits,sweep-000p025-010p030.fits,sweep-000p030-010p035.fits,sweep-010m005-020p000.fits,sweep-010m010-020m005.fits,sweep-010m015-020m010.fits,sweep-010m020-020m015.fits,sweep-010m025-020m020.fits,sweep-010m030-020m025.fits,sweep-010m035-020m030.fits,sweep-010m040-020m035.fits,sweep-010m045-020m040.fits,sweep-010m050-020m045.fits,sweep-010m055-020m050.fits,sweep-010m060-020m055.fits,sweep-010m065-020m060.fits,sweep-010m070-020m065.fits,sweep-010p000-020p005.fits,sweep-010p005-020p010.fits,sweep-010p010-020p015.fits,sweep-010p015-020p020.fits,sweep-010p020-020p025.fits,sweep-010p025-020p030.fits,sweep-010p030-020p035.fits,sweep-020m005-030p000.fits,sweep-020m010-030m005.fits,sweep-020m015-030m010.fits,sweep-020m020-030m015.fits,sweep-020m025-030m020.fits,sweep-020m030-030m025.fits,sweep-020m035-030m030.fits,sweep-020m040-030m035.fits,sweep-020m045-030m040.fits,sweep-020m050-030m045.fits,sweep-020m055-030m050.fits,sweep-020m060-030m055.fits,sweep-020m065-030m060.fits,sweep-020m070-030m065.fits,sweep-020p000-030p005.fits,sweep-020p005-030p010.fits,sweep-020p010-030p015.fits,sweep-020p015-030p020.fits,sweep-020p020-030p025.fits,sweep-020p025-030p030.fits,sweep-020p030-030p035.fits,sweep-030m005-040p000.fits,sweep-030m010-040m005.fits,sweep-030m015-040m010.fits,sweep-030m020-040m015.fits,sweep-030m025-040m020.fits,sweep-030m030-040m025.fits,sweep-030m035-040m030.fits,sweep-030m040-040m035.fits,sweep-030m045-040m040.fits,sweep-030m050-040m045.fits,sweep-030m055-040m050.fits,sweep-030m060-040m055.fits,sweep-030m065-040m060.fits,sweep-030m070-040m065.fits,sweep-030p000-040p005.fits,sweep-030p005-040p010.fits,sweep-030p010-040p015.fits,sweep-030p015-040p020.fits,sweep-030p020-040p025.fits,sweep-030p025-040p030.fits,sweep-030p030-040p035.fits,sweep-040m005-050p000.fits,sweep-040m010-050m005.fits,sweep-040m015-050m010.fits,sweep-040m020-050m015.fits,sweep-040m025-050m020.fits,sweep-040m030-050m025.fits,sweep-040m035-050m030.fits,sweep-040m040-050m035.fits,sweep-040m045-050m040.fits,sweep-040m050-050m045.fits,sweep-040m055-050m050.fits,sweep-040m060-050m055.fits,sweep-040m065-050m060.fits,sweep-040m070-050m065.fits,sweep-040p000-050p005.fits,sweep-040p005-050p010.fits,sweep-040p010-050p015.fits,sweep-040p015-050p020.fits,sweep-040p020-050p025.fits,sweep-040p025-050p030.fits,sweep-050m005-060p000.fits,sweep-050m010-060m005.fits,sweep-050m015-060m010.fits,sweep-050m020-060m015.fits,sweep-050m025-060m020.fits,sweep-050m030-060m025.fits,sweep-050m035-060m030.fits,sweep-050m040-060m035.fits,sweep-050m045-060m040.fits,sweep-050m050-060m045.fits,sweep-050m055-060m050.fits,sweep-050m060-060m055.fits,sweep-050m065-060m060.fits,sweep-050m070-060m065.fits,sweep-050p000-060p005.fits,sweep-060m005-070p000.fits,sweep-060m010-070m005.fits,sweep-060m015-070m010.fits,sweep-060m020-070m015.fits,sweep-060m025-070m020.fits,sweep-060m030-070m025.fits,sweep-060m035-070m030.fits,sweep-060m040-070m035.fits,sweep-060m045-070m040.fits,sweep-060m050-070m045.fits,sweep-060m055-070m050.fits,sweep-060m060-070m055.fits,sweep-060m065-070m060.fits,sweep-060m070-070m065.fits,sweep-060p000-070p005.fits,sweep-070m005-080p000.fits,sweep-070m010-080m005.fits,sweep-070m015-080m010.fits,sweep-070m020-080m015.fits,sweep-070m025-080m020.fits,sweep-070m030-080m025.fits,sweep-070m035-080m030.fits,sweep-070m040-080m035.fits,sweep-070m045-080m040.fits,sweep-070m050-080m045.fits,sweep-070m055-080m050.fits,sweep-070m060-080m055.fits,sweep-070m065-080m060.fits,sweep-070m070-080m065.fits,sweep-070p000-080p005.fits,sweep-080m020-090m015.fits,sweep-080m025-090m020.fits,sweep-080m030-090m025.fits,sweep-080m035-090m030.fits,sweep-080m040-090m035.fits,sweep-080m045-090m040.fits,sweep-080m050-090m045.fits,sweep-080m055-090m050.fits,sweep-080m060-090m055.fits,sweep-080m065-090m060.fits,sweep-090m025-100m020.fits,sweep-090m030-100m025.fits,sweep-090m035-100m030.fits,sweep-090m040-100m035.fits,sweep-090m045-100m040.fits,sweep-090m050-100m045.fits,sweep-090m055-100m050.fits,sweep-090m060-100m055.fits,sweep-090m065-100m060.fits,sweep-100m055-110m050.fits,sweep-100m060-110m055.fits,sweep-100m065-110m060.fits,sweep-100p015-110p020.fits,sweep-100p020-110p025.fits,sweep-100p025-110p030.fits,sweep-100p030-110p035.fits,sweep-100p035-110p040.fits,sweep-110m005-120p000.fits,sweep-110p000-120p005.fits,sweep-110p005-120p010.fits,sweep-110p010-120p015.fits,sweep-110p015-120p020.fits,sweep-110p020-120p025.fits,sweep-110p025-120p030.fits,sweep-110p030-120p035.fits,sweep-120m005-130p000.fits,sweep-120m010-130m005.fits,sweep-120p000-130p005.fits,sweep-120p005-130p010.fits,sweep-120p010-130p015.fits,sweep-120p015-130p020.fits,sweep-120p020-130p025.fits,sweep-120p025-130p030.fits,sweep-120p030-130p035.fits,sweep-120p035-130p040.fits,sweep-130m005-140p000.fits,sweep-130m010-140m005.fits,sweep-130p000-140p005.fits,sweep-130p005-140p010.fits,sweep-130p010-140p015.fits,sweep-130p015-140p020.fits,sweep-130p020-140p025.fits,sweep-130p025-140p030.fits,sweep-130p030-140p035.fits,sweep-130p035-140p040.fits,sweep-140m005-150p000.fits,sweep-140m010-150m005.fits,sweep-140p000-150p005.fits,sweep-140p005-150p010.fits,sweep-140p010-150p015.fits,sweep-140p015-150p020.fits,sweep-140p020-150p025.fits,sweep-140p025-150p030.fits,sweep-140p030-150p035.fits,sweep-150m005-160p000.fits,sweep-150m010-160m005.fits,sweep-150m015-160m010.fits,sweep-150p000-160p005.fits,sweep-150p005-160p010.fits,sweep-150p010-160p015.fits,sweep-150p015-160p020.fits,sweep-150p020-160p025.fits,sweep-150p025-160p030.fits,sweep-150p030-160p035.fits,sweep-150p035-160p040.fits,sweep-160m005-170p000.fits,sweep-160m010-170m005.fits,sweep-160m015-170m010.fits,sweep-160p000-170p005.fits,sweep-160p005-170p010.fits,sweep-160p010-170p015.fits,sweep-160p015-170p020.fits,sweep-160p020-170p025.fits,sweep-160p025-170p030.fits,sweep-160p030-170p035.fits,sweep-170m005-180p000.fits,sweep-170m010-180m005.fits,sweep-170p000-180p005.fits,sweep-170p005-180p010.fits,sweep-170p010-180p015.fits,sweep-170p015-180p020.fits,sweep-170p020-180p025.fits,sweep-170p025-180p030.fits,sweep-170p030-180p035.fits,sweep-170p035-180p040.fits,sweep-180m005-190p000.fits,sweep-180m010-190m005.fits,sweep-180p000-190p005.fits,sweep-180p005-190p010.fits,sweep-180p010-190p015.fits,sweep-180p015-190p020.fits,sweep-180p020-190p025.fits,sweep-180p025-190p030.fits,sweep-180p030-190p035.fits,sweep-190m005-200p000.fits,sweep-190m010-200m005.fits,sweep-190m015-200m010.fits,sweep-190p000-200p005.fits,sweep-190p005-200p010.fits,sweep-190p010-200p015.fits,sweep-190p015-200p020.fits,sweep-190p020-200p025.fits,sweep-190p025-200p030.fits,sweep-190p030-200p035.fits,sweep-200m005-210p000.fits,sweep-200m010-210m005.fits,sweep-200m015-210m010.fits,sweep-200p000-210p005.fits,sweep-200p005-210p010.fits,sweep-200p010-210p015.fits,sweep-200p015-210p020.fits,sweep-200p020-210p025.fits,sweep-200p025-210p030.fits,sweep-200p030-210p035.fits,sweep-210m005-220p000.fits,sweep-210m010-220m005.fits,sweep-210m015-220m010.fits,sweep-210p000-220p005.fits,sweep-210p005-220p010.fits,sweep-210p010-220p015.fits,sweep-210p015-220p020.fits,sweep-210p020-220p025.fits,sweep-210p025-220p030.fits,sweep-210p030-220p035.fits,sweep-220m005-230p000.fits,sweep-220m010-230m005.fits,sweep-220m015-230m010.fits,sweep-220p000-230p005.fits,sweep-220p005-230p010.fits,sweep-220p010-230p015.fits,sweep-220p015-230p020.fits,sweep-220p020-230p025.fits,sweep-220p025-230p030.fits,sweep-220p030-230p035.fits,sweep-220p035-230p040.fits,sweep-230m005-240p000.fits,sweep-230m010-240m005.fits,sweep-230p000-240p005.fits,sweep-230p005-240p010.fits,sweep-230p010-240p015.fits,sweep-230p015-240p020.fits,sweep-230p020-240p025.fits,sweep-230p025-240p030.fits,sweep-230p030-240p035.fits,sweep-240m005-250p000.fits,sweep-240p000-250p005.fits,sweep-240p005-250p010.fits,sweep-240p010-250p015.fits,sweep-240p015-250p020.fits,sweep-240p020-250p025.fits,sweep-240p025-250p030.fits,sweep-240p030-250p035.fits,sweep-250m005-260p000.fits,sweep-250p000-260p005.fits,sweep-250p005-260p010.fits,sweep-250p010-260p015.fits,sweep-250p015-260p020.fits,sweep-250p020-260p025.fits,sweep-250p025-260p030.fits,sweep-250p030-260p035.fits,sweep-250p035-260p040.fits,sweep-260p005-270p010.fits,sweep-260p010-270p015.fits,sweep-260p015-270p020.fits,sweep-260p020-270p025.fits,sweep-260p025-270p030.fits,sweep-260p030-270p035.fits,sweep-270p010-280p015.fits,sweep-270p015-280p020.fits,sweep-270p020-280p025.fits,sweep-270p025-280p030.fits,sweep-270p030-280p035.fits,sweep-290m050-300m045.fits,sweep-290m055-300m050.fits,sweep-290m060-300m055.fits,sweep-300m005-310p000.fits,sweep-300m010-310m005.fits,sweep-300m015-310m010.fits,sweep-300m040-310m035.fits,sweep-300m045-310m040.fits,sweep-300m050-310m045.fits,sweep-300m055-310m050.fits,sweep-300m060-310m055.fits,sweep-300m065-310m060.fits,sweep-300m070-310m065.fits,sweep-300p000-310p005.fits,sweep-300p005-310p010.fits,sweep-300p010-310p015.fits,sweep-310m005-320p000.fits,sweep-310m010-320m005.fits,sweep-310m015-320m010.fits,sweep-310m020-320m015.fits,sweep-310m040-320m035.fits,sweep-310m045-320m040.fits,sweep-310m050-320m045.fits,sweep-310m055-320m050.fits,sweep-310m060-320m055.fits,sweep-310m065-320m060.fits,sweep-310m070-320m065.fits,sweep-310p000-320p005.fits,sweep-310p005-320p010.fits,sweep-310p010-320p015.fits,sweep-310p015-320p020.fits,sweep-310p020-320p025.fits,sweep-320m005-330p000.fits,sweep-320m010-330m005.fits,sweep-320m015-330m010.fits,sweep-320m020-330m015.fits,sweep-320m040-330m035.fits,sweep-320m045-330m040.fits,sweep-320m050-330m045.fits,sweep-320m055-330m050.fits,sweep-320m060-330m055.fits,sweep-320m065-330m060.fits,sweep-320m070-330m065.fits,sweep-320p000-330p005.fits,sweep-320p005-330p010.fits,sweep-320p010-330p015.fits,sweep-320p015-330p020.fits,sweep-320p020-330p025.fits,sweep-320p025-330p030.fits,sweep-320p030-330p035.fits,sweep-330m005-340p000.fits,sweep-330m010-340m005.fits,sweep-330m015-340m010.fits,sweep-330m020-340m015.fits,sweep-330m040-340m035.fits,sweep-330m045-340m040.fits,sweep-330m050-340m045.fits,sweep-330m055-340m050.fits,sweep-330m060-340m055.fits,sweep-330m065-340m060.fits,sweep-330m070-340m065.fits,sweep-330p000-340p005.fits,sweep-330p005-340p010.fits,sweep-330p010-340p015.fits,sweep-330p015-340p020.fits,sweep-330p020-340p025.fits,sweep-330p025-340p030.fits,sweep-330p030-340p035.fits,sweep-340m005-350p000.fits,sweep-340m010-350m005.fits,sweep-340m015-350m010.fits,sweep-340m020-350m015.fits,sweep-340m040-350m035.fits,sweep-340m045-350m040.fits,sweep-340m050-350m045.fits,sweep-340m055-350m050.fits,sweep-340m060-350m055.fits,sweep-340m065-350m060.fits,sweep-340m070-350m065.fits,sweep-340p000-350p005.fits,sweep-340p005-350p010.fits,sweep-340p010-350p015.fits,sweep-340p015-350p020.fits,sweep-340p020-350p025.fits,sweep-340p025-350p030.fits,sweep-340p030-350p035.fits,sweep-350m005-360p000.fits,sweep-350m010-360m005.fits,sweep-350m015-360m010.fits,sweep-350m020-360m015.fits,sweep-350m035-360m030.fits,sweep-350m040-360m035.fits,sweep-350m045-360m040.fits,sweep-350m050-360m045.fits,sweep-350m055-360m050.fits,sweep-350m060-360m055.fits,sweep-350m065-360m060.fits,sweep-350m070-360m065.fits,sweep-350p000-360p005.fits,sweep-350p005-360p010.fits,sweep-350p010-360p015.fits,sweep-350p015-360p020.fits,sweep-350p020-360p025.fits,sweep-350p025-360p030.fits,sweep-350p030-360p035.fits,sweep-350p035-360p040.fits\n"
     ]
    }
   ],
   "source": [
    "for region in regions:\n",
    "    print(sc.ls(f'ls_{release}://{region}/sweep/{sweep[release]}/'))"
   ]
  },
  {
   "cell_type": "markdown",
   "metadata": {},
   "source": [
    "## Test Correspondence With Tractor Files\n",
    "\n",
    "If the data are loaded successfully, the values in the database should match the values in the original Tractor files.  This section selects a random subset of the bricks in each region and compares the data for that brick.\n",
    "\n",
    "The set of columns below is motivated by the 2021-2022 reload of `ls_dr8` due to column ordering problems."
   ]
  },
  {
   "cell_type": "code",
   "execution_count": 13,
   "metadata": {},
   "outputs": [
    {
     "name": "stdout",
     "output_type": "stream",
     "text": [
      "region = 'north'; brickname = '1924p780'; brickid = 654778\n",
      "region = 'north'; brickname = '2031p517'; brickid = 590794\n",
      "region = 'north'; brickname = '1447p842'; brickid = 660407\n",
      "region = 'north'; brickname = '2268p435'; brickid = 558762\n",
      "region = 'north'; brickname = '2509p602'; brickid = 618356\n",
      "region = 'north'; brickname = '2243p610'; brickid = 620431\n",
      "region = 'north'; brickname = '2381p590'; brickid = 614675\n",
      "region = 'north'; brickname = '1575p662'; brickid = 633819\n",
      "region = 'north'; brickname = '2798p380'; brickid = 534882\n",
      "region = 'north'; brickname = '2310p675'; brickid = 636779\n",
      "region = 'south'; brickname = '3387m115'; brickid = 265860\n",
      "region = 'south'; brickname = '1612p225'; brickid = 457452\n",
      "region = 'south'; brickname = '3147m097'; brickid = 275687\n",
      "region = 'south'; brickname = '3236m672'; brickid = 26255\n",
      "region = 'south'; brickname = '3210p125'; brickid = 403129\n",
      "region = 'south'; brickname = '0174m577'; brickid = 51065\n",
      "region = 'south'; brickname = '1065p325'; brickid = 508394\n",
      "region = 'south'; brickname = '2133p157'; brickid = 420880\n",
      "region = 'south'; brickname = '2573p067'; brickid = 370211\n",
      "region = 'south'; brickname = '0429m330'; brickid = 150644\n"
     ]
    }
   ],
   "source": [
    "columns = ['objid', 'brickname', 'flux_g', 'flux_ivar_g', 'flux_r', 'flux_ivar_r', 'flux_z', 'flux_ivar_z',\n",
    "           'flux_w1', 'flux_ivar_w1', 'flux_w2', 'flux_ivar_w2', 'flux_w3', 'flux_ivar_w3', 'flux_w4', 'flux_ivar_w4',\n",
    "           'maskbits', 'gaia_astrometric_n_obs_al', 'gaia_astrometric_n_good_obs_al', 'gaia_phot_variable_flag', 'gaia_duplicated_source',\n",
    "           'gaia_phot_g_n_obs', 'gaia_phot_bp_n_obs', 'gaia_phot_rp_n_obs']\n",
    "if release == 'dr8':\n",
    "    columns += ['brightblob', 'gaia_pointsource']\n",
    "col = ', '.join(columns)\n",
    "for region in regions:\n",
    "    q0 = f\"\"\"SELECT b.brickid, bb.brickname FROM ls_{release}.bricks_{region[0]} AS bb\n",
    "JOIN ls_{release}.bricks AS b\n",
    "ON bb.brickname = b.brickname\n",
    "ORDER by b.brickid\n",
    "\"\"\"\n",
    "    response = qc.query(sql=q0, fmt='votable', timeout=600)\n",
    "    # print(response)\n",
    "    bricks_data = parse_single_table(BytesIO(response.encode('utf-8'))).to_table()\n",
    "    sample = random.sample(range(len(bricks_data)), samples)\n",
    "    for i in sample:\n",
    "        brickname = bricks_data['brickname'][i]\n",
    "        brickid = bricks_data['brickid'][i]\n",
    "        print(f\"region = '{region}'; brickname = '{brickname}'; brickid = {brickid:d}\")\n",
    "        tractor = f'ls_{release}://{region}/tractor/{brickname[0:3]}/tractor-{brickname}.fits'\n",
    "        tractor_data = Table.read(sc.get(tractor, mode='fileobj'), format='fits')\n",
    "        q = f\"\"\"SELECT {col} FROM ls_{release}.tractor_{region[0]} WHERE brickid = {brickid:d} ORDER BY objid\"\"\"\n",
    "        response = qc.query(sql=q, fmt='votable', timeout=600)\n",
    "        try:\n",
    "            db_data = parse_single_table(BytesIO(response.encode('utf-8'))).to_table()\n",
    "        except ValueError:\n",
    "            print(response)\n",
    "        assert (db_data['brickname'] == brickname).all()\n",
    "        assert (tractor_data['objid'] == np.arange(len(tractor_data))).all()\n",
    "        assert len(db_data) == tractor_data['brick_primary'].sum()\n",
    "        primary = np.nonzero(tractor_data['brick_primary'])[0]\n",
    "        assert (db_data['objid'] == tractor_data['objid'][primary]).all()\n",
    "        assert np.allclose(db_data['flux_g'], tractor_data['flux_g'][primary], atol=atol)\n",
    "        assert np.allclose(db_data['flux_r'], tractor_data['flux_r'][primary], atol=atol)\n",
    "        assert np.allclose(db_data['flux_z'], tractor_data['flux_z'][primary], atol=atol)\n",
    "        assert np.allclose(db_data['flux_w1'], tractor_data['flux_w1'][primary], atol=atol)\n",
    "        assert np.allclose(db_data['flux_w2'], tractor_data['flux_w2'][primary], atol=atol)\n",
    "        assert np.allclose(db_data['flux_w3'], tractor_data['flux_w3'][primary], atol=atol)\n",
    "        assert np.allclose(db_data['flux_w4'], tractor_data['flux_w4'][primary], atol=atol)\n",
    "        assert np.allclose(db_data['flux_ivar_g'], tractor_data['flux_ivar_g'][primary], atol=atol)\n",
    "        assert np.allclose(db_data['flux_ivar_r'], tractor_data['flux_ivar_r'][primary], atol=atol)\n",
    "        assert np.allclose(db_data['flux_ivar_z'], tractor_data['flux_ivar_z'][primary], atol=atol)\n",
    "        assert np.allclose(db_data['flux_ivar_w1'], tractor_data['flux_ivar_w1'][primary], atol=atol)\n",
    "        assert np.allclose(db_data['flux_ivar_w2'], tractor_data['flux_ivar_w2'][primary], atol=atol)\n",
    "        assert np.allclose(db_data['flux_ivar_w3'], tractor_data['flux_ivar_w3'][primary], atol=atol)\n",
    "        assert np.allclose(db_data['flux_ivar_w4'], tractor_data['flux_ivar_w4'][primary], atol=atol)\n",
    "        if 'brightblob' in columns:\n",
    "            assert (db_data['brightblob'] == tractor_data['brightblob'][primary]).all()\n",
    "        assert (db_data['maskbits'] == tractor_data['maskbits'][primary]).all()\n",
    "        if 'gaia_pointsource' in columns:\n",
    "            assert (db_data['gaia_pointsource'] == tractor_data['gaia_pointsource'][primary]).all()\n",
    "        assert (db_data['gaia_astrometric_n_obs_al'] == tractor_data['gaia_astrometric_n_obs_al'][primary]).all()\n",
    "        assert (db_data['gaia_astrometric_n_good_obs_al'] == tractor_data['gaia_astrometric_n_good_obs_al'][primary]).all()\n",
    "        assert (db_data['gaia_phot_variable_flag'] == tractor_data['gaia_phot_variable_flag'][primary]).all()\n",
    "        assert (db_data['gaia_duplicated_source'] == tractor_data['gaia_duplicated_source'][primary]).all()\n",
    "        assert (db_data['gaia_phot_g_n_obs'] == tractor_data['gaia_phot_g_n_obs'][primary]).all()\n",
    "        assert (db_data['gaia_phot_bp_n_obs'] == tractor_data['gaia_phot_bp_n_obs'][primary]).all()\n",
    "        assert (db_data['gaia_phot_rp_n_obs'] == tractor_data['gaia_phot_rp_n_obs'][primary]).all()"
   ]
  },
  {
   "cell_type": "markdown",
   "metadata": {},
   "source": [
    "## Check Photo-z Files\n",
    "\n",
    "Just make sure the files are actually present in the file service."
   ]
  },
  {
   "cell_type": "code",
   "execution_count": 14,
   "metadata": {},
   "outputs": [
    {
     "name": "stdout",
     "output_type": "stream",
     "text": [
      "8.0,8.0-photo-z\n",
      "legacysurvey_dr8_north_sweep_8.0-photo-z.sha256sum,sweep-000m005-010p000-pz.fits,sweep-000p000-010p005-pz.fits,sweep-000p040-010p045-pz.fits,sweep-010m005-020p000-pz.fits,sweep-010p000-020p005-pz.fits,sweep-010p025-020p030-pz.fits,sweep-010p030-020p035-pz.fits,sweep-010p035-020p040-pz.fits,sweep-010p040-020p045-pz.fits,sweep-020p025-030p030-pz.fits,sweep-030m005-040p000-pz.fits,sweep-030p000-040p005-pz.fits,sweep-030p025-040p030-pz.fits,sweep-040m005-050p000-pz.fits,sweep-040p000-050p005-pz.fits,sweep-060p065-070p070-pz.fits,sweep-080p055-090p060-pz.fits,sweep-080p060-090p065-pz.fits,sweep-080p065-090p070-pz.fits,sweep-080p075-090p080-pz.fits,sweep-090p030-100p035-pz.fits,sweep-090p035-100p040-pz.fits,sweep-090p040-100p045-pz.fits,sweep-090p045-100p050-pz.fits,sweep-090p050-100p055-pz.fits,sweep-090p055-100p060-pz.fits,sweep-090p060-100p065-pz.fits,sweep-090p065-100p070-pz.fits,sweep-090p070-100p075-pz.fits,sweep-090p075-100p080-pz.fits,sweep-090p080-100p085-pz.fits,sweep-100p025-110p030-pz.fits,sweep-100p030-110p035-pz.fits,sweep-100p035-110p040-pz.fits,sweep-100p040-110p045-pz.fits,sweep-100p045-110p050-pz.fits,sweep-100p050-110p055-pz.fits,sweep-100p055-110p060-pz.fits,sweep-100p060-110p065-pz.fits,sweep-100p065-110p070-pz.fits,sweep-100p070-110p075-pz.fits,sweep-100p075-110p080-pz.fits,sweep-100p080-110p085-pz.fits,sweep-110p025-120p030-pz.fits,sweep-110p030-120p035-pz.fits,sweep-110p035-120p040-pz.fits,sweep-110p040-120p045-pz.fits,sweep-110p045-120p050-pz.fits,sweep-110p050-120p055-pz.fits,sweep-110p055-120p060-pz.fits,sweep-110p060-120p065-pz.fits,sweep-110p065-120p070-pz.fits,sweep-110p070-120p075-pz.fits,sweep-110p075-120p080-pz.fits,sweep-110p080-120p085-pz.fits,sweep-120p015-130p020-pz.fits,sweep-120p020-130p025-pz.fits,sweep-120p025-130p030-pz.fits,sweep-120p030-130p035-pz.fits,sweep-120p035-130p040-pz.fits,sweep-120p040-130p045-pz.fits,sweep-120p045-130p050-pz.fits,sweep-120p050-130p055-pz.fits,sweep-120p055-130p060-pz.fits,sweep-120p060-130p065-pz.fits,sweep-120p065-130p070-pz.fits,sweep-120p070-130p075-pz.fits,sweep-120p075-130p080-pz.fits,sweep-120p080-130p085-pz.fits,sweep-130p025-140p030-pz.fits,sweep-130p030-140p035-pz.fits,sweep-130p035-140p040-pz.fits,sweep-130p040-140p045-pz.fits,sweep-130p045-140p050-pz.fits,sweep-130p050-140p055-pz.fits,sweep-130p055-140p060-pz.fits,sweep-130p060-140p065-pz.fits,sweep-130p065-140p070-pz.fits,sweep-130p070-140p075-pz.fits,sweep-130p075-140p080-pz.fits,sweep-130p080-140p085-pz.fits,sweep-140m005-150p000-pz.fits,sweep-140p000-150p005-pz.fits,sweep-140p025-150p030-pz.fits,sweep-140p030-150p035-pz.fits,sweep-140p035-150p040-pz.fits,sweep-140p040-150p045-pz.fits,sweep-140p045-150p050-pz.fits,sweep-140p050-150p055-pz.fits,sweep-140p055-150p060-pz.fits,sweep-140p060-150p065-pz.fits,sweep-140p065-150p070-pz.fits,sweep-140p070-150p075-pz.fits,sweep-140p075-150p080-pz.fits,sweep-140p080-150p085-pz.fits,sweep-150p000-160p005-pz.fits,sweep-150p025-160p030-pz.fits,sweep-150p030-160p035-pz.fits,sweep-150p035-160p040-pz.fits,sweep-150p040-160p045-pz.fits,sweep-150p045-160p050-pz.fits,sweep-150p050-160p055-pz.fits,sweep-150p055-160p060-pz.fits,sweep-150p060-160p065-pz.fits,sweep-150p065-160p070-pz.fits,sweep-150p070-160p075-pz.fits,sweep-150p075-160p080-pz.fits,sweep-150p080-160p085-pz.fits,sweep-160p025-170p030-pz.fits,sweep-160p030-170p035-pz.fits,sweep-160p035-170p040-pz.fits,sweep-160p040-170p045-pz.fits,sweep-160p045-170p050-pz.fits,sweep-160p050-170p055-pz.fits,sweep-160p055-170p060-pz.fits,sweep-160p060-170p065-pz.fits,sweep-160p065-170p070-pz.fits,sweep-160p070-170p075-pz.fits,sweep-160p075-170p080-pz.fits,sweep-160p080-170p085-pz.fits,sweep-170p025-180p030-pz.fits,sweep-170p030-180p035-pz.fits,sweep-170p035-180p040-pz.fits,sweep-170p040-180p045-pz.fits,sweep-170p045-180p050-pz.fits,sweep-170p050-180p055-pz.fits,sweep-170p055-180p060-pz.fits,sweep-170p060-180p065-pz.fits,sweep-170p065-180p070-pz.fits,sweep-170p070-180p075-pz.fits,sweep-170p075-180p080-pz.fits,sweep-170p080-180p085-pz.fits,sweep-180p025-190p030-pz.fits,sweep-180p030-190p035-pz.fits,sweep-180p035-190p040-pz.fits,sweep-180p040-190p045-pz.fits,sweep-180p045-190p050-pz.fits,sweep-180p050-190p055-pz.fits,sweep-180p055-190p060-pz.fits,sweep-180p060-190p065-pz.fits,sweep-180p065-190p070-pz.fits,sweep-180p070-190p075-pz.fits,sweep-180p075-190p080-pz.fits,sweep-180p080-190p085-pz.fits,sweep-190p025-200p030-pz.fits,sweep-190p030-200p035-pz.fits,sweep-190p035-200p040-pz.fits,sweep-190p040-200p045-pz.fits,sweep-190p045-200p050-pz.fits,sweep-190p050-200p055-pz.fits,sweep-190p055-200p060-pz.fits,sweep-190p060-200p065-pz.fits,sweep-190p065-200p070-pz.fits,sweep-190p070-200p075-pz.fits,sweep-190p075-200p080-pz.fits,sweep-190p080-200p085-pz.fits,sweep-200p025-210p030-pz.fits,sweep-200p030-210p035-pz.fits,sweep-200p035-210p040-pz.fits,sweep-200p040-210p045-pz.fits,sweep-200p045-210p050-pz.fits,sweep-200p050-210p055-pz.fits,sweep-200p055-210p060-pz.fits,sweep-200p060-210p065-pz.fits,sweep-200p065-210p070-pz.fits,sweep-200p070-210p075-pz.fits,sweep-200p075-210p080-pz.fits,sweep-200p080-210p085-pz.fits,sweep-210p025-220p030-pz.fits,sweep-210p030-220p035-pz.fits,sweep-210p035-220p040-pz.fits,sweep-210p040-220p045-pz.fits,sweep-210p045-220p050-pz.fits,sweep-210p050-220p055-pz.fits,sweep-210p055-220p060-pz.fits,sweep-210p060-220p065-pz.fits,sweep-210p065-220p070-pz.fits,sweep-210p070-220p075-pz.fits,sweep-210p075-220p080-pz.fits,sweep-210p080-220p085-pz.fits,sweep-220p025-230p030-pz.fits,sweep-220p030-230p035-pz.fits,sweep-220p035-230p040-pz.fits,sweep-220p040-230p045-pz.fits,sweep-220p045-230p050-pz.fits,sweep-220p050-230p055-pz.fits,sweep-220p055-230p060-pz.fits,sweep-220p060-230p065-pz.fits,sweep-220p065-230p070-pz.fits,sweep-220p070-230p075-pz.fits,sweep-220p075-230p080-pz.fits,sweep-220p080-230p085-pz.fits,sweep-230p025-240p030-pz.fits,sweep-230p030-240p035-pz.fits,sweep-230p035-240p040-pz.fits,sweep-230p040-240p045-pz.fits,sweep-230p045-240p050-pz.fits,sweep-230p050-240p055-pz.fits,sweep-230p055-240p060-pz.fits,sweep-230p060-240p065-pz.fits,sweep-230p065-240p070-pz.fits,sweep-230p070-240p075-pz.fits,sweep-230p075-240p080-pz.fits,sweep-230p080-240p085-pz.fits,sweep-240p025-250p030-pz.fits,sweep-240p030-250p035-pz.fits,sweep-240p035-250p040-pz.fits,sweep-240p040-250p045-pz.fits,sweep-240p045-250p050-pz.fits,sweep-240p050-250p055-pz.fits,sweep-240p055-250p060-pz.fits,sweep-240p060-250p065-pz.fits,sweep-240p065-250p070-pz.fits,sweep-240p070-250p075-pz.fits,sweep-240p075-250p080-pz.fits,sweep-240p080-250p085-pz.fits,sweep-250p030-260p035-pz.fits,sweep-250p035-260p040-pz.fits,sweep-250p040-260p045-pz.fits,sweep-250p045-260p050-pz.fits,sweep-250p050-260p055-pz.fits,sweep-250p055-260p060-pz.fits,sweep-250p060-260p065-pz.fits,sweep-250p065-260p070-pz.fits,sweep-250p070-260p075-pz.fits,sweep-250p075-260p080-pz.fits,sweep-250p080-260p085-pz.fits,sweep-260p025-270p030-pz.fits,sweep-260p030-270p035-pz.fits,sweep-260p035-270p040-pz.fits,sweep-260p040-270p045-pz.fits,sweep-260p045-270p050-pz.fits,sweep-260p050-270p055-pz.fits,sweep-260p055-270p060-pz.fits,sweep-260p060-270p065-pz.fits,sweep-260p065-270p070-pz.fits,sweep-260p070-270p075-pz.fits,sweep-260p075-270p080-pz.fits,sweep-260p080-270p085-pz.fits,sweep-270p025-280p030-pz.fits,sweep-270p030-280p035-pz.fits,sweep-270p035-280p040-pz.fits,sweep-270p040-280p045-pz.fits,sweep-270p045-280p050-pz.fits,sweep-270p050-280p055-pz.fits,sweep-270p055-280p060-pz.fits,sweep-270p060-280p065-pz.fits,sweep-270p065-280p070-pz.fits,sweep-270p070-280p075-pz.fits,sweep-270p075-280p080-pz.fits,sweep-270p080-280p085-pz.fits,sweep-280p030-290p035-pz.fits,sweep-280p035-290p040-pz.fits,sweep-280p040-290p045-pz.fits,sweep-280p045-290p050-pz.fits,sweep-280p050-290p055-pz.fits,sweep-280p055-290p060-pz.fits,sweep-280p060-290p065-pz.fits,sweep-280p065-290p070-pz.fits,sweep-280p070-290p075-pz.fits,sweep-280p075-290p080-pz.fits,sweep-280p080-290p085-pz.fits,sweep-290p045-300p050-pz.fits,sweep-290p050-300p055-pz.fits,sweep-290p055-300p060-pz.fits,sweep-290p060-300p065-pz.fits,sweep-290p065-300p070-pz.fits,sweep-290p070-300p075-pz.fits,sweep-300p060-310p065-pz.fits,sweep-310m005-320p000-pz.fits,sweep-310p000-320p005-pz.fits,sweep-320m005-330p000-pz.fits,sweep-320p000-330p005-pz.fits,sweep-320p015-330p020-pz.fits,sweep-330m005-340p000-pz.fits,sweep-330p000-340p005-pz.fits,sweep-330p025-340p030-pz.fits,sweep-330p030-340p035-pz.fits,sweep-340m005-350p000-pz.fits,sweep-340p000-350p005-pz.fits,sweep-340p025-350p030-pz.fits,sweep-340p030-350p035-pz.fits,sweep-350m005-360p000-pz.fits,sweep-350p000-360p005-pz.fits,sweep-350p025-360p030-pz.fits,sweep-350p030-360p035-pz.fits\n",
      "8.0,8.0-photo-z\n",
      "legacysurvey_dr8_south_sweep_8.0-photo-z.sha256sum,sweep-000m005-010p000-pz.fits,sweep-000m010-010m005-pz.fits,sweep-000m015-010m010-pz.fits,sweep-000m020-010m015-pz.fits,sweep-000m025-010m020-pz.fits,sweep-000m030-010m025-pz.fits,sweep-000m035-010m030-pz.fits,sweep-000m040-010m035-pz.fits,sweep-000m045-010m040-pz.fits,sweep-000m050-010m045-pz.fits,sweep-000m055-010m050-pz.fits,sweep-000m060-010m055-pz.fits,sweep-000m065-010m060-pz.fits,sweep-000m070-010m065-pz.fits,sweep-000p000-010p005-pz.fits,sweep-000p005-010p010-pz.fits,sweep-000p010-010p015-pz.fits,sweep-000p015-010p020-pz.fits,sweep-000p020-010p025-pz.fits,sweep-000p025-010p030-pz.fits,sweep-000p030-010p035-pz.fits,sweep-010m005-020p000-pz.fits,sweep-010m010-020m005-pz.fits,sweep-010m015-020m010-pz.fits,sweep-010m020-020m015-pz.fits,sweep-010m025-020m020-pz.fits,sweep-010m030-020m025-pz.fits,sweep-010m035-020m030-pz.fits,sweep-010m040-020m035-pz.fits,sweep-010m045-020m040-pz.fits,sweep-010m050-020m045-pz.fits,sweep-010m055-020m050-pz.fits,sweep-010m060-020m055-pz.fits,sweep-010m065-020m060-pz.fits,sweep-010m070-020m065-pz.fits,sweep-010p000-020p005-pz.fits,sweep-010p005-020p010-pz.fits,sweep-010p010-020p015-pz.fits,sweep-010p015-020p020-pz.fits,sweep-010p020-020p025-pz.fits,sweep-010p025-020p030-pz.fits,sweep-010p030-020p035-pz.fits,sweep-020m005-030p000-pz.fits,sweep-020m010-030m005-pz.fits,sweep-020m015-030m010-pz.fits,sweep-020m020-030m015-pz.fits,sweep-020m025-030m020-pz.fits,sweep-020m030-030m025-pz.fits,sweep-020m035-030m030-pz.fits,sweep-020m040-030m035-pz.fits,sweep-020m045-030m040-pz.fits,sweep-020m050-030m045-pz.fits,sweep-020m055-030m050-pz.fits,sweep-020m060-030m055-pz.fits,sweep-020m065-030m060-pz.fits,sweep-020m070-030m065-pz.fits,sweep-020p000-030p005-pz.fits,sweep-020p005-030p010-pz.fits,sweep-020p010-030p015-pz.fits,sweep-020p015-030p020-pz.fits,sweep-020p020-030p025-pz.fits,sweep-020p025-030p030-pz.fits,sweep-020p030-030p035-pz.fits,sweep-030m005-040p000-pz.fits,sweep-030m010-040m005-pz.fits,sweep-030m015-040m010-pz.fits,sweep-030m020-040m015-pz.fits,sweep-030m025-040m020-pz.fits,sweep-030m030-040m025-pz.fits,sweep-030m035-040m030-pz.fits,sweep-030m040-040m035-pz.fits,sweep-030m045-040m040-pz.fits,sweep-030m050-040m045-pz.fits,sweep-030m055-040m050-pz.fits,sweep-030m060-040m055-pz.fits,sweep-030m065-040m060-pz.fits,sweep-030m070-040m065-pz.fits,sweep-030p000-040p005-pz.fits,sweep-030p005-040p010-pz.fits,sweep-030p010-040p015-pz.fits,sweep-030p015-040p020-pz.fits,sweep-030p020-040p025-pz.fits,sweep-030p025-040p030-pz.fits,sweep-030p030-040p035-pz.fits,sweep-040m005-050p000-pz.fits,sweep-040m010-050m005-pz.fits,sweep-040m015-050m010-pz.fits,sweep-040m020-050m015-pz.fits,sweep-040m025-050m020-pz.fits,sweep-040m030-050m025-pz.fits,sweep-040m035-050m030-pz.fits,sweep-040m040-050m035-pz.fits,sweep-040m045-050m040-pz.fits,sweep-040m050-050m045-pz.fits,sweep-040m055-050m050-pz.fits,sweep-040m060-050m055-pz.fits,sweep-040m065-050m060-pz.fits,sweep-040m070-050m065-pz.fits,sweep-040p000-050p005-pz.fits,sweep-040p005-050p010-pz.fits,sweep-040p010-050p015-pz.fits,sweep-040p015-050p020-pz.fits,sweep-040p020-050p025-pz.fits,sweep-040p025-050p030-pz.fits,sweep-050m005-060p000-pz.fits,sweep-050m010-060m005-pz.fits,sweep-050m015-060m010-pz.fits,sweep-050m020-060m015-pz.fits,sweep-050m025-060m020-pz.fits,sweep-050m030-060m025-pz.fits,sweep-050m035-060m030-pz.fits,sweep-050m040-060m035-pz.fits,sweep-050m045-060m040-pz.fits,sweep-050m050-060m045-pz.fits,sweep-050m055-060m050-pz.fits,sweep-050m060-060m055-pz.fits,sweep-050m065-060m060-pz.fits,sweep-050m070-060m065-pz.fits,sweep-050p000-060p005-pz.fits,sweep-060m005-070p000-pz.fits,sweep-060m010-070m005-pz.fits,sweep-060m015-070m010-pz.fits,sweep-060m020-070m015-pz.fits,sweep-060m025-070m020-pz.fits,sweep-060m030-070m025-pz.fits,sweep-060m035-070m030-pz.fits,sweep-060m040-070m035-pz.fits,sweep-060m045-070m040-pz.fits,sweep-060m050-070m045-pz.fits,sweep-060m055-070m050-pz.fits,sweep-060m060-070m055-pz.fits,sweep-060m065-070m060-pz.fits,sweep-060m070-070m065-pz.fits,sweep-060p000-070p005-pz.fits,sweep-070m005-080p000-pz.fits,sweep-070m010-080m005-pz.fits,sweep-070m015-080m010-pz.fits,sweep-070m020-080m015-pz.fits,sweep-070m025-080m020-pz.fits,sweep-070m030-080m025-pz.fits,sweep-070m035-080m030-pz.fits,sweep-070m040-080m035-pz.fits,sweep-070m045-080m040-pz.fits,sweep-070m050-080m045-pz.fits,sweep-070m055-080m050-pz.fits,sweep-070m060-080m055-pz.fits,sweep-070m065-080m060-pz.fits,sweep-070m070-080m065-pz.fits,sweep-070p000-080p005-pz.fits,sweep-080m020-090m015-pz.fits,sweep-080m025-090m020-pz.fits,sweep-080m030-090m025-pz.fits,sweep-080m035-090m030-pz.fits,sweep-080m040-090m035-pz.fits,sweep-080m045-090m040-pz.fits,sweep-080m050-090m045-pz.fits,sweep-080m055-090m050-pz.fits,sweep-080m060-090m055-pz.fits,sweep-080m065-090m060-pz.fits,sweep-090m025-100m020-pz.fits,sweep-090m030-100m025-pz.fits,sweep-090m035-100m030-pz.fits,sweep-090m040-100m035-pz.fits,sweep-090m045-100m040-pz.fits,sweep-090m050-100m045-pz.fits,sweep-090m055-100m050-pz.fits,sweep-090m060-100m055-pz.fits,sweep-090m065-100m060-pz.fits,sweep-100m055-110m050-pz.fits,sweep-100m060-110m055-pz.fits,sweep-100m065-110m060-pz.fits,sweep-100p015-110p020-pz.fits,sweep-100p020-110p025-pz.fits,sweep-100p025-110p030-pz.fits,sweep-100p030-110p035-pz.fits,sweep-100p035-110p040-pz.fits,sweep-110m005-120p000-pz.fits,sweep-110p000-120p005-pz.fits,sweep-110p005-120p010-pz.fits,sweep-110p010-120p015-pz.fits,sweep-110p015-120p020-pz.fits,sweep-110p020-120p025-pz.fits,sweep-110p025-120p030-pz.fits,sweep-110p030-120p035-pz.fits,sweep-120m005-130p000-pz.fits,sweep-120m010-130m005-pz.fits,sweep-120p000-130p005-pz.fits,sweep-120p005-130p010-pz.fits,sweep-120p010-130p015-pz.fits,sweep-120p015-130p020-pz.fits,sweep-120p020-130p025-pz.fits,sweep-120p025-130p030-pz.fits,sweep-120p030-130p035-pz.fits,sweep-120p035-130p040-pz.fits,sweep-130m005-140p000-pz.fits,sweep-130m010-140m005-pz.fits,sweep-130p000-140p005-pz.fits,sweep-130p005-140p010-pz.fits,sweep-130p010-140p015-pz.fits,sweep-130p015-140p020-pz.fits,sweep-130p020-140p025-pz.fits,sweep-130p025-140p030-pz.fits,sweep-130p030-140p035-pz.fits,sweep-130p035-140p040-pz.fits,sweep-140m005-150p000-pz.fits,sweep-140m010-150m005-pz.fits,sweep-140p000-150p005-pz.fits,sweep-140p005-150p010-pz.fits,sweep-140p010-150p015-pz.fits,sweep-140p015-150p020-pz.fits,sweep-140p020-150p025-pz.fits,sweep-140p025-150p030-pz.fits,sweep-140p030-150p035-pz.fits,sweep-150m005-160p000-pz.fits,sweep-150m010-160m005-pz.fits,sweep-150m015-160m010-pz.fits,sweep-150p000-160p005-pz.fits,sweep-150p005-160p010-pz.fits,sweep-150p010-160p015-pz.fits,sweep-150p015-160p020-pz.fits,sweep-150p020-160p025-pz.fits,sweep-150p025-160p030-pz.fits,sweep-150p030-160p035-pz.fits,sweep-150p035-160p040-pz.fits,sweep-160m005-170p000-pz.fits,sweep-160m010-170m005-pz.fits,sweep-160m015-170m010-pz.fits,sweep-160p000-170p005-pz.fits,sweep-160p005-170p010-pz.fits,sweep-160p010-170p015-pz.fits,sweep-160p015-170p020-pz.fits,sweep-160p020-170p025-pz.fits,sweep-160p025-170p030-pz.fits,sweep-160p030-170p035-pz.fits,sweep-170m005-180p000-pz.fits,sweep-170m010-180m005-pz.fits,sweep-170p000-180p005-pz.fits,sweep-170p005-180p010-pz.fits,sweep-170p010-180p015-pz.fits,sweep-170p015-180p020-pz.fits,sweep-170p020-180p025-pz.fits,sweep-170p025-180p030-pz.fits,sweep-170p030-180p035-pz.fits,sweep-170p035-180p040-pz.fits,sweep-180m005-190p000-pz.fits,sweep-180m010-190m005-pz.fits,sweep-180p000-190p005-pz.fits,sweep-180p005-190p010-pz.fits,sweep-180p010-190p015-pz.fits,sweep-180p015-190p020-pz.fits,sweep-180p020-190p025-pz.fits,sweep-180p025-190p030-pz.fits,sweep-180p030-190p035-pz.fits,sweep-190m005-200p000-pz.fits,sweep-190m010-200m005-pz.fits,sweep-190m015-200m010-pz.fits,sweep-190p000-200p005-pz.fits,sweep-190p005-200p010-pz.fits,sweep-190p010-200p015-pz.fits,sweep-190p015-200p020-pz.fits,sweep-190p020-200p025-pz.fits,sweep-190p025-200p030-pz.fits,sweep-190p030-200p035-pz.fits,sweep-200m005-210p000-pz.fits,sweep-200m010-210m005-pz.fits,sweep-200m015-210m010-pz.fits,sweep-200p000-210p005-pz.fits,sweep-200p005-210p010-pz.fits,sweep-200p010-210p015-pz.fits,sweep-200p015-210p020-pz.fits,sweep-200p020-210p025-pz.fits,sweep-200p025-210p030-pz.fits,sweep-200p030-210p035-pz.fits,sweep-210m005-220p000-pz.fits,sweep-210m010-220m005-pz.fits,sweep-210m015-220m010-pz.fits,sweep-210p000-220p005-pz.fits,sweep-210p005-220p010-pz.fits,sweep-210p010-220p015-pz.fits,sweep-210p015-220p020-pz.fits,sweep-210p020-220p025-pz.fits,sweep-210p025-220p030-pz.fits,sweep-210p030-220p035-pz.fits,sweep-220m005-230p000-pz.fits,sweep-220m010-230m005-pz.fits,sweep-220m015-230m010-pz.fits,sweep-220p000-230p005-pz.fits,sweep-220p005-230p010-pz.fits,sweep-220p010-230p015-pz.fits,sweep-220p015-230p020-pz.fits,sweep-220p020-230p025-pz.fits,sweep-220p025-230p030-pz.fits,sweep-220p030-230p035-pz.fits,sweep-220p035-230p040-pz.fits,sweep-230m005-240p000-pz.fits,sweep-230m010-240m005-pz.fits,sweep-230p000-240p005-pz.fits,sweep-230p005-240p010-pz.fits,sweep-230p010-240p015-pz.fits,sweep-230p015-240p020-pz.fits,sweep-230p020-240p025-pz.fits,sweep-230p025-240p030-pz.fits,sweep-230p030-240p035-pz.fits,sweep-240m005-250p000-pz.fits,sweep-240p000-250p005-pz.fits,sweep-240p005-250p010-pz.fits,sweep-240p010-250p015-pz.fits,sweep-240p015-250p020-pz.fits,sweep-240p020-250p025-pz.fits,sweep-240p025-250p030-pz.fits,sweep-240p030-250p035-pz.fits,sweep-250m005-260p000-pz.fits,sweep-250p000-260p005-pz.fits,sweep-250p005-260p010-pz.fits,sweep-250p010-260p015-pz.fits,sweep-250p015-260p020-pz.fits,sweep-250p020-260p025-pz.fits,sweep-250p025-260p030-pz.fits,sweep-250p030-260p035-pz.fits,sweep-250p035-260p040-pz.fits,sweep-260p005-270p010-pz.fits,sweep-260p010-270p015-pz.fits,sweep-260p015-270p020-pz.fits,sweep-260p020-270p025-pz.fits,sweep-260p025-270p030-pz.fits,sweep-260p030-270p035-pz.fits,sweep-270p010-280p015-pz.fits,sweep-270p015-280p020-pz.fits,sweep-270p020-280p025-pz.fits,sweep-270p025-280p030-pz.fits,sweep-270p030-280p035-pz.fits,sweep-290m050-300m045-pz.fits,sweep-290m055-300m050-pz.fits,sweep-290m060-300m055-pz.fits,sweep-300m005-310p000-pz.fits,sweep-300m010-310m005-pz.fits,sweep-300m015-310m010-pz.fits,sweep-300m040-310m035-pz.fits,sweep-300m045-310m040-pz.fits,sweep-300m050-310m045-pz.fits,sweep-300m055-310m050-pz.fits,sweep-300m060-310m055-pz.fits,sweep-300m065-310m060-pz.fits,sweep-300m070-310m065-pz.fits,sweep-300p000-310p005-pz.fits,sweep-300p005-310p010-pz.fits,sweep-300p010-310p015-pz.fits,sweep-310m005-320p000-pz.fits,sweep-310m010-320m005-pz.fits,sweep-310m015-320m010-pz.fits,sweep-310m020-320m015-pz.fits,sweep-310m040-320m035-pz.fits,sweep-310m045-320m040-pz.fits,sweep-310m050-320m045-pz.fits,sweep-310m055-320m050-pz.fits,sweep-310m060-320m055-pz.fits,sweep-310m065-320m060-pz.fits,sweep-310m070-320m065-pz.fits,sweep-310p000-320p005-pz.fits,sweep-310p005-320p010-pz.fits,sweep-310p010-320p015-pz.fits,sweep-310p015-320p020-pz.fits,sweep-310p020-320p025-pz.fits,sweep-320m005-330p000-pz.fits,sweep-320m010-330m005-pz.fits,sweep-320m015-330m010-pz.fits,sweep-320m020-330m015-pz.fits,sweep-320m040-330m035-pz.fits,sweep-320m045-330m040-pz.fits,sweep-320m050-330m045-pz.fits,sweep-320m055-330m050-pz.fits,sweep-320m060-330m055-pz.fits,sweep-320m065-330m060-pz.fits,sweep-320m070-330m065-pz.fits,sweep-320p000-330p005-pz.fits,sweep-320p005-330p010-pz.fits,sweep-320p010-330p015-pz.fits,sweep-320p015-330p020-pz.fits,sweep-320p020-330p025-pz.fits,sweep-320p025-330p030-pz.fits,sweep-320p030-330p035-pz.fits,sweep-330m005-340p000-pz.fits,sweep-330m010-340m005-pz.fits,sweep-330m015-340m010-pz.fits,sweep-330m020-340m015-pz.fits,sweep-330m040-340m035-pz.fits,sweep-330m045-340m040-pz.fits,sweep-330m050-340m045-pz.fits,sweep-330m055-340m050-pz.fits,sweep-330m060-340m055-pz.fits,sweep-330m065-340m060-pz.fits,sweep-330m070-340m065-pz.fits,sweep-330p000-340p005-pz.fits,sweep-330p005-340p010-pz.fits,sweep-330p010-340p015-pz.fits,sweep-330p015-340p020-pz.fits,sweep-330p020-340p025-pz.fits,sweep-330p025-340p030-pz.fits,sweep-330p030-340p035-pz.fits,sweep-340m005-350p000-pz.fits,sweep-340m010-350m005-pz.fits,sweep-340m015-350m010-pz.fits,sweep-340m020-350m015-pz.fits,sweep-340m040-350m035-pz.fits,sweep-340m045-350m040-pz.fits,sweep-340m050-350m045-pz.fits,sweep-340m055-350m050-pz.fits,sweep-340m060-350m055-pz.fits,sweep-340m065-350m060-pz.fits,sweep-340m070-350m065-pz.fits,sweep-340p000-350p005-pz.fits,sweep-340p005-350p010-pz.fits,sweep-340p010-350p015-pz.fits,sweep-340p015-350p020-pz.fits,sweep-340p020-350p025-pz.fits,sweep-340p025-350p030-pz.fits,sweep-340p030-350p035-pz.fits,sweep-350m005-360p000-pz.fits,sweep-350m010-360m005-pz.fits,sweep-350m015-360m010-pz.fits,sweep-350m020-360m015-pz.fits,sweep-350m035-360m030-pz.fits,sweep-350m040-360m035-pz.fits,sweep-350m045-360m040-pz.fits,sweep-350m050-360m045-pz.fits,sweep-350m055-360m050-pz.fits,sweep-350m060-360m055-pz.fits,sweep-350m065-360m060-pz.fits,sweep-350m070-360m065-pz.fits,sweep-350p000-360p005-pz.fits,sweep-350p005-360p010-pz.fits,sweep-350p010-360p015-pz.fits,sweep-350p015-360p020-pz.fits,sweep-350p020-360p025-pz.fits,sweep-350p025-360p030-pz.fits,sweep-350p030-360p035-pz.fits,sweep-350p035-360p040-pz.fits\n"
     ]
    }
   ],
   "source": [
    "for region in regions:\n",
    "    print(sc.ls(f'ls_{release}://{region}/sweep'))\n",
    "    print(sc.ls(f'ls_{release}://{region}/sweep/{sweep[release]}-photo-z/'))"
   ]
  },
  {
   "cell_type": "markdown",
   "metadata": {},
   "source": [
    "## Check Forced Photometry Files\n",
    "\n",
    "Just make sure the files are actually present in the file service."
   ]
  },
  {
   "cell_type": "code",
   "execution_count": 15,
   "metadata": {},
   "outputs": [
    {
     "name": "stdout",
     "output_type": "stream",
     "text": [
      "90prime,decam,mosaic\n",
      "70680,73380,73390,73900,73910,73990,74000,74010,74020,74030,74040,74050,74170,74210,74220,74230,74240,74250,74270,74280,74290,74300,74310,74320,74330,74340,74350,74510,74520,74540,74560,74570,74580,74590,74600,74610,74800,74810,74820,74830,74840,74870,74880,74900,74910,74920,75060,75070,75080,75090,75100,75110,75120,75130,75140,75160,75170,75180,75190,75200,75210,75220,75240,75350,75360,75370,75380,75390,75400,75410,75420,75430,75440,75450,75480,75500,75510,75660,75670,75710,75720,75730,75740,75750,75760,75770,75780,75790,75800,75810,75820,76980,76990,77720,77760,77790,77800,77810,77820,77830,77840,77850,77860,77870,77880,77890,77900,77980,78050,78060,78070,78080,78090,78100,78110,78130,78140,78150,78160,78170,78180,78190,78300,78310,78320,78330,78340,78350,78360,78370,78380,78390,78400,78410,78420,78440,78450,78460,78470,78480,78610,78620,78630,78640,78650,78660,78670,78690,78700,78720,78730,78740,78880,78890,78900,78910,78920,78930,78940,78950,78960,78970,78990,79000,79010,79020,79030,79040,79060,79070,79080,79190,79200,79210,79220,79230,79240,79250,79260,79270,79280,79290,79650,80670,80830,80850,81300,81310,81320,81330,81340,81350,81360,81660,81670,81700,81710,81720,81730,81740,81750,81870,81900,81910,81920,81930,81940,81950,81960,81970,81980,81990,82000,82010,82020,82170,82180,82190,82200,82220,82230,82240,82260,82270,82280,82290,82300,82310,82320,82450,82460,82470,82480,82490,82520,82530,82540,82550,82560,82570,82580,82590,82600,82610,82750,82760,82770,82780,82790,82800,82810,82820,82830,82860,82870,83020,83030,83040,83050,83060,83080,83100,83110,83140,83150,83190,83210,84640,84650,84660,84670,84860,84870,84900,84920,84940,84950,84980,84990,85000,85100,85110,85120,85130,85140,85150,85170,85220,85230,85250,85260,85270,85420,85490\n",
      "00229,00230,00231,00232,00233,00237,00238,00239,00240,00241,00242,00243,00246,00247,00251,00253,00255,00256,00257,00258,00259,00262,00266,00267,00268,00273,00277,00279,00345,00346,00347,00348,00349,00350,00355,00356,00358,00359,00360,00361,00362,00363,00364,00365,00366,00367,00369,00370,00371,00372,00373,00374,00375,00376,00377,00378,00379,00380,00381,00382,00383,00384,00386,00387,00388,00389,00390,00391,00392,00393,00394,00395,00396,00397,00398,00399,00400,00401,00402,00403,00404,00405,00407,00408,00409,00410,00425,00426,00430,00431,00432,00433,00449,00463,00464,00465,00466,00470,00471,00473,00474,00475,00477,00478,00479,00480,00482,00483,00484,00485,00486,00487,00488,00489,00490,00491,00492,00493,00494,00495,00496,00497,00498,00499,00500,00501,00502,00503,00504,00505,00506,00507,00508,00509,00510,00511,00512,00513,00514,00515,00516,00519,00520,00521,00522,00535,00536,00547,00548,00553,00554,00557,00558,00559,00562,00563,00564,00565,00566,00567,00568,00569,00570,00571,00572,00573,00574,00575,00576,00577,00578,00579,00580,00581,00582,00583,00584,00585,00586,00587,00588,00589,00590,00591,00592,00593,00594,00595,00596,00597,00598,00599,00600,00601,00602,00603,00604,00605,00606,00607,00608,00609,00610,00611,00612,00613,00614,00615,00616,00617,00618,00621,00622,00624,00625,00626,00630,00631,00633,00634,00635,00636,00637,00639,00640,00641,00642,00646,00647,00648,00649,00650,00653,00657,00658,00659,00660,00661,00662,00663,00664,00665,00666,00667,00668,00669,00670,00671,00672,00673,00674,00675,00676,00677,00678,00679,00680,00681,00682,00683,00685,00686,00687,00688,00689,00690,00691,00692,00693,00694,00695,00696,00697,00698,00699,00700,00701,00702,00703,00704,00705,00706,00707,00708,00709,00710,00711,00712,00713,00714,00715,00716,00717,00718,00719,00720,00721,00722,00723,00724,00725,00730,00731,00732,00745,00746,00747,00754,00758,00759,00762,00763,00764,00766,00767,00768,00769,00770,00771,00772,00773,00774,00775,00776,00779,00780,00781,00782,00783,00784,00789,00790,00791,00792,00793,00801,00802,00803,00807,00808,00819,00820,00829,00830\n",
      "00062,00063,00064,00065,00066,00067,00068,00069,00070,00071,00072,00073,00074,00075,00076,00077,00078,00079,00080,00081,00082,00083,00084,00085,00086,00087,00088,00089,00090,00091,00092,00093,00094,00095,00101,00107,00108,00109,00110,00111,00112,00113,00114,00115,00116,00117,00118,00119,00120,00121,00122,00123,00124,00125,00126,00127,00128,00129,00130,00131,00132,00133,00136,00137,00138,00139,00140,00141,00142,00143,00144,00145,00146,00147,00148,00149,00150,00151,00152,00153,00154,00155,00156,00157,00158,00159,00160,00161,00398,00399,03100,03102,03103,03104,03105,03106,03107,03135,03136,15111,15112,16012\n"
     ]
    }
   ],
   "source": [
    "if release == 'dr8':\n",
    "    print(sc.ls(f'ls_{release}://forced/'))\n",
    "    for camera in ('90prime', 'decam', 'mosaic'):\n",
    "        print(sc.ls(f'ls_{release}://forced/{camera}'))\n",
    "else:\n",
    "    for region in regions:\n",
    "        print(sc.ls(f'ls_{release}://{region}/forced-ccd/'))\n",
    "        if region == 'north':\n",
    "            print(sc.ls(f'ls_{release}://{region}/forced-ccd/90prime'))\n",
    "            print(sc.ls(f'ls_{release}://{region}/forced-ccd/mosaic'))\n",
    "        else:\n",
    "            print(sc.ls(f'ls_{release}://{region}/forced-ccd/decam'))"
   ]
  },
  {
   "cell_type": "markdown",
   "metadata": {},
   "source": [
    "## Test Joins on specobjid\n",
    "\n",
    "In DR8, a pre-computed match table generated by the Legacy Survey collaboration was loaded.  In DR9 we use the crossmatch table generated by the Data Lab team instead."
   ]
  },
  {
   "cell_type": "code",
   "execution_count": 16,
   "metadata": {},
   "outputs": [
    {
     "name": "stdout",
     "output_type": "stream",
     "text": [
      "dr14_specobjid,plate,fiberid,mjd,specobjid,plate,fiberid,mjd\n",
      "299511942555396096,266,82,51630,299511942555396096,266,82,51630\n",
      "299512217433303040,266,83,51630,299512217433303040,266,83,51630\n",
      "299512492311209984,266,84,51630,299512492311209984,266,84,51630\n",
      "299513591822837760,266,88,51630,299513591822837760,266,88,51630\n",
      "299513866700744704,266,89,51630,299513866700744704,266,89,51630\n",
      "299514141578651648,266,90,51630,299514141578651648,266,90,51630\n",
      "299514416456558592,266,91,51630,299514416456558592,266,91,51630\n",
      "299514691334465536,266,92,51630,299514691334465536,266,92,51630\n",
      "299516890357721088,266,100,51630,299516890357721088,266,100,51630\n",
      "299518264747255808,266,105,51630,299518264747255808,266,105,51630\n",
      "299522662793766912,266,121,51630,299522662793766912,266,121,51630\n",
      "299523487427487744,266,124,51630,299523487427487744,266,124,51630\n",
      "299524312061208576,266,127,51630,299524312061208576,266,127,51630\n",
      "299526511084464128,266,135,51630,299526511084464128,266,135,51630\n",
      "299527610596091904,266,139,51630,299527610596091904,266,139,51630\n",
      "299528160351905792,266,141,51630,299528160351905792,266,141,51630\n",
      "299528435229812736,266,142,51630,299528435229812736,266,142,51630\n",
      "299529259863533568,266,145,51630,299529259863533568,266,145,51630\n",
      "299530359375161344,266,149,51630,299530359375161344,266,149,51630\n",
      "299531458886789120,266,153,51630,299531458886789120,266,153,51630\n",
      "299532008642603008,266,155,51630,299532008642603008,266,155,51630\n",
      "299532558398416896,266,157,51630,299532558398416896,266,157,51630\n",
      "299532833276323840,266,158,51630,299532833276323840,266,158,51630\n",
      "299533108154230784,266,159,51630,299533108154230784,266,159,51630\n",
      "299534207665858560,266,163,51630,299534207665858560,266,163,51630\n",
      "299534757421672448,266,165,51630,299534757421672448,266,165,51630\n",
      "299535032299579392,266,166,51630,299535032299579392,266,166,51630\n",
      "299536956444928000,266,173,51630,299536956444928000,266,173,51630\n",
      "299537506200741888,266,175,51630,299537506200741888,266,175,51630\n",
      "299538055956555776,266,177,51630,299538055956555776,266,177,51630\n",
      "299539430346090496,266,182,51630,299539430346090496,266,182,51630\n",
      "299539705223997440,266,183,51630,299539705223997440,266,183,51630\n",
      "299540804735625216,266,187,51630,299540804735625216,266,187,51630\n",
      "299541354491439104,266,189,51630,299541354491439104,266,189,51630\n",
      "299544378148415488,266,200,51630,299544378148415488,266,200,51630\n",
      "299546027415857152,266,206,51630,299546027415857152,266,206,51630\n",
      "299547951561205760,266,213,51630,299547951561205760,266,213,51630\n",
      "299548226439112704,266,214,51630,299548226439112704,266,214,51630\n",
      "299551250096089088,266,225,51630,299551250096089088,266,225,51630\n",
      "299551524973996032,266,226,51630,299551524973996032,266,226,51630\n",
      "299552074729809920,266,228,51630,299552074729809920,266,228,51630\n",
      "299552349607716864,266,229,51630,299552349607716864,266,229,51630\n",
      "299553998875158528,266,235,51630,299553998875158528,266,235,51630\n",
      "299554273753065472,266,236,51630,299554273753065472,266,236,51630\n",
      "299555098386786304,266,239,51630,299555098386786304,266,239,51630\n",
      "299556472776321024,266,244,51630,299556472776321024,266,244,51630\n",
      "299557022532134912,266,246,51630,299557022532134912,266,246,51630\n",
      "299557572287948800,266,248,51630,299557572287948800,266,248,51630\n",
      "299560046189111296,266,257,51630,299560046189111296,266,257,51630\n",
      "299560321067018240,266,258,51630,299560321067018240,266,258,51630\n",
      "299560595944925184,266,259,51630,299560595944925184,266,259,51630\n",
      "299562794968180736,266,267,51630,299562794968180736,266,267,51630\n",
      "299563344723994624,266,269,51630,299563344723994624,266,269,51630\n",
      "299563619601901568,266,270,51630,299563619601901568,266,270,51630\n",
      "299564719113529344,266,274,51630,299564719113529344,266,274,51630\n",
      "299564993991436288,266,275,51630,299564993991436288,266,275,51630\n",
      "299565818625157120,266,278,51630,299565818625157120,266,278,51630\n",
      "299568292526319616,266,287,51630,299568292526319616,266,287,51630\n",
      "299569941793761280,266,293,51630,299569941793761280,266,293,51630\n",
      "299570766427482112,266,296,51630,299570766427482112,266,296,51630\n",
      "299572140817016832,266,301,51630,299572140817016832,266,301,51630\n",
      "299573790084458496,266,307,51630,299573790084458496,266,307,51630\n",
      "299574064962365440,266,308,51630,299574064962365440,266,308,51630\n",
      "299577638375155712,266,321,51630,299577638375155712,266,321,51630\n",
      "299579287642597376,266,327,51630,299579287642597376,266,327,51630\n",
      "299580387154225152,266,331,51630,299580387154225152,266,331,51630\n",
      "299580936910039040,266,333,51630,299580936910039040,266,333,51630\n",
      "299582861055387648,266,340,51630,299582861055387648,266,340,51630\n",
      "299584235444922368,266,345,51630,299584235444922368,266,345,51630\n",
      "299585060078643200,266,348,51630,299585060078643200,266,348,51630\n",
      "299587533979805696,266,357,51630,299587533979805696,266,357,51630\n",
      "299590557636782080,266,368,51630,299590557636782080,266,368,51630\n",
      "299591382270502912,266,371,51630,299591382270502912,266,371,51630\n",
      "299592756660037632,266,376,51630,299592756660037632,266,376,51630\n",
      "299596604950734848,266,390,51630,299596604950734848,266,390,51630\n",
      "299596879828641792,266,391,51630,299596879828641792,266,391,51630\n",
      "299598803973990400,266,398,51630,299598803973990400,266,398,51630\n",
      "299603751776315392,266,416,51630,299603751776315392,266,416,51630\n",
      "299604026654222336,266,417,51630,299604026654222336,266,417,51630\n",
      "299604851287943168,266,420,51630,299604851287943168,266,420,51630\n",
      "299605126165850112,266,421,51630,299605126165850112,266,421,51630\n",
      "299606775433291776,266,427,51630,299606775433291776,266,427,51630\n",
      "299607050311198720,266,428,51630,299607050311198720,266,428,51630\n",
      "299609249334454272,266,436,51630,299609249334454272,266,436,51630\n",
      "299610073968175104,266,439,51630,299610073968175104,266,439,51630\n",
      "299610898601895936,266,442,51630,299610898601895936,266,442,51630\n",
      "299611173479802880,266,443,51630,299611173479802880,266,443,51630\n",
      "299612272991430656,266,447,51630,299612272991430656,266,447,51630\n",
      "299614746892593152,266,456,51630,299614746892593152,266,456,51630\n",
      "299616396160034816,266,462,51630,299616396160034816,266,462,51630\n",
      "299616671037941760,266,463,51630,299616671037941760,266,463,51630\n",
      "299616945915848704,266,464,51630,299616945915848704,266,464,51630\n",
      "299617495671662592,266,466,51630,299617495671662592,266,466,51630\n",
      "299619144939104256,266,472,51630,299619144939104256,266,472,51630\n",
      "299620794206545920,266,478,51630,299620794206545920,266,478,51630\n",
      "299624367619336192,266,491,51630,299624367619336192,266,491,51630\n",
      "299625467130963968,266,495,51630,299625467130963968,266,495,51630\n",
      "299626016886777856,266,497,51630,299626016886777856,266,497,51630\n",
      "299626291764684800,266,498,51630,299626291764684800,266,498,51630\n",
      "299629040543754240,266,508,51630,299629040543754240,266,508,51630\n",
      "299630964689102848,266,515,51630,299630964689102848,266,515,51630\n",
      "299633163712358400,266,523,51630,299633163712358400,266,523,51630\n",
      "299633438590265344,266,524,51630,299633438590265344,266,524,51630\n",
      "299633713468172288,266,525,51630,299633713468172288,266,525,51630\n",
      "299634812979800064,266,529,51630,299634812979800064,266,529,51630\n",
      "299635087857707008,266,530,51630,299635087857707008,266,530,51630\n",
      "299636187369334784,266,534,51630,299636187369334784,266,534,51630\n",
      "299636737125148672,266,536,51630,299636737125148672,266,536,51630\n",
      "299637836636776448,266,540,51630,299637836636776448,266,540,51630\n",
      "299638936148404224,266,544,51630,299638936148404224,266,544,51630\n",
      "299641684927473664,266,554,51630,299641684927473664,266,554,51630\n",
      "299643059317008384,266,559,51630,299643059317008384,266,559,51630\n",
      "299645258340263936,266,567,51630,299645258340263936,266,567,51630\n",
      "299645533218170880,266,568,51630,299645533218170880,266,568,51630\n",
      "299648831753054208,266,580,51630,299648831753054208,266,580,51630\n",
      "299650206142588928,266,585,51630,299650206142588928,266,585,51630\n",
      "299651855410030592,266,591,51630,299651855410030592,266,591,51630\n",
      "299652680043751424,266,594,51630,299652680043751424,266,594,51630\n",
      "299652954921658368,266,595,51630,299652954921658368,266,595,51630\n",
      "299653229799565312,266,596,51630,299653229799565312,266,596,51630\n",
      "299655428822820864,266,604,51630,299655428822820864,266,604,51630\n",
      "299656528334448640,266,608,51630,299656528334448640,266,608,51630\n",
      "299659002235611136,266,617,51630,299659002235611136,266,617,51630\n",
      "299659551991425024,266,619,51630,299659551991425024,266,619,51630\n",
      "299659826869331968,266,620,51630,299659826869331968,266,620,51630\n",
      "299660651503052800,266,623,51630,299660651503052800,266,623,51630\n",
      "299662850526308352,266,631,51630,299662850526308352,266,631,51630\n",
      "299663400282122240,266,633,51630,299663400282122240,266,633,51630\n",
      "299664499793750016,266,637,51630,299664499793750016,266,637,51630\n",
      "299664774671656960,266,638,51630,299664774671656960,266,638,51630\n",
      "300615851860584448,267,2,51608,300615851860584448,267,2,51608\n",
      "300616676494305280,267,5,51608,300616676494305280,267,5,51608\n",
      "300617226250119168,267,7,51608,300617226250119168,267,7,51608\n",
      "300618050883840000,267,10,51608,300618050883840000,267,10,51608\n",
      "300618325761746944,267,11,51608,300618325761746944,267,11,51608\n",
      "300618875517560832,267,13,51608,300618875517560832,267,13,51608\n",
      "300620249907095552,267,18,51608,300620249907095552,267,18,51608\n",
      "300620799662909440,267,20,51608,300620799662909440,267,20,51608\n",
      "300621349418723328,267,22,51608,300621349418723328,267,22,51608\n",
      "300622723808258048,267,27,51608,300622723808258048,267,27,51608\n",
      "300624098197792768,267,32,51608,300624098197792768,267,32,51608\n",
      "300624373075699712,267,33,51608,300624373075699712,267,33,51608\n",
      "300624647953606656,267,34,51608,300624647953606656,267,34,51608\n",
      "300624922831513600,267,35,51608,300624922831513600,267,35,51608\n",
      "300625197709420544,267,36,51608,300625197709420544,267,36,51608\n",
      "300625747465234432,267,38,51608,300625747465234432,267,38,51608\n",
      "300626572098955264,267,41,51608,300626572098955264,267,41,51608\n",
      "300627671610583040,267,45,51608,300627671610583040,267,45,51608\n",
      "300629320878024704,267,51,51608,300629320878024704,267,51,51608\n",
      "300630695267559424,267,56,51608,300630695267559424,267,56,51608\n",
      "300632069657094144,267,61,51608,300632069657094144,267,61,51608\n",
      "300634268680349696,267,69,51608,300634268680349696,267,69,51608\n",
      "300635093314070528,267,72,51608,300635093314070528,267,72,51608\n",
      "300635917947791360,267,75,51608,300635917947791360,267,75,51608\n",
      "300637292337326080,267,80,51608,300637292337326080,267,80,51608\n",
      "300637567215233024,267,81,51608,300637567215233024,267,81,51608\n",
      "300638391848953856,267,84,51608,300638391848953856,267,84,51608\n",
      "300638941604767744,267,86,51608,300638941604767744,267,86,51608\n",
      "300640041116395520,267,90,51608,300640041116395520,267,90,51608\n",
      "300641140628023296,267,94,51608,300641140628023296,267,94,51608\n",
      "300641965261744128,267,97,51608,300641965261744128,267,97,51608\n",
      "300644988918720512,267,108,51608,300644988918720512,267,108,51608\n",
      "300645263796627456,267,109,51608,300645263796627456,267,109,51608\n",
      "300650211598952448,267,127,51608,300650211598952448,267,127,51608\n",
      "300652135744301056,267,134,51608,300652135744301056,267,134,51608\n",
      "300652685500114944,267,136,51608,300652685500114944,267,136,51608\n",
      "300652960378021888,267,137,51608,300652960378021888,267,137,51608\n",
      "300653510133835776,267,139,51608,300653510133835776,267,139,51608\n",
      "300654884523370496,267,144,51608,300654884523370496,267,144,51608\n",
      "300655434279184384,267,146,51608,300655434279184384,267,146,51608\n",
      "300658183058253824,267,156,51608,300658183058253824,267,156,51608\n",
      "300658457936160768,267,157,51608,300658457936160768,267,157,51608\n",
      "300660107203602432,267,163,51608,300660107203602432,267,163,51608\n",
      "300660382081509376,267,164,51608,300660382081509376,267,164,51608\n",
      "300661481593137152,267,168,51608,300661481593137152,267,168,51608\n",
      "300662031348951040,267,170,51608,300662031348951040,267,170,51608\n",
      "300662306226857984,267,171,51608,300662306226857984,267,171,51608\n",
      "300662581104764928,267,172,51608,300662581104764928,267,172,51608\n",
      "300663680616392704,267,176,51608,300663680616392704,267,176,51608\n",
      "300665604761741312,267,183,51608,300665604761741312,267,183,51608\n",
      "300666979151276032,267,188,51608,300666979151276032,267,188,51608\n",
      "300667528907089920,267,190,51608,300667528907089920,267,190,51608\n",
      "300668353540810752,267,193,51608,300668353540810752,267,193,51608\n",
      "300668628418717696,267,194,51608,300668628418717696,267,194,51608\n",
      "300669178174531584,267,196,51608,300669178174531584,267,196,51608\n",
      "300669453052438528,267,197,51608,300669453052438528,267,197,51608\n",
      "300670277686159360,267,200,51608,300670277686159360,267,200,51608\n",
      "300671102319880192,267,203,51608,300671102319880192,267,203,51608\n",
      "300672201831507968,267,207,51608,300672201831507968,267,207,51608\n",
      "300674950610577408,267,217,51608,300674950610577408,267,217,51608\n",
      "300677424511739904,267,226,51608,300677424511739904,267,226,51608\n",
      "300678249145460736,267,229,51608,300678249145460736,267,229,51608\n",
      "300680448168716288,267,237,51608,300680448168716288,267,237,51608\n",
      "300682097436157952,267,243,51608,300682097436157952,267,243,51608\n",
      "300683746703599616,267,249,51608,300683746703599616,267,249,51608\n",
      "300684296459413504,267,251,51608,300684296459413504,267,251,51608\n",
      "300684571337320448,267,252,51608,300684571337320448,267,252,51608\n",
      "300685121093134336,267,254,51608,300685121093134336,267,254,51608\n",
      "300685670848948224,267,256,51608,300685670848948224,267,256,51608\n",
      "300686495482669056,267,259,51608,300686495482669056,267,259,51608\n",
      "\n",
      "dr14_specobjid,plate,fiberid,mjd,specobjid,plate,fiberid,mjd\n",
      "299511942555396096,266,82,51630,299511942555396096,266,82,51630\n",
      "299512217433303040,266,83,51630,299512217433303040,266,83,51630\n",
      "299512492311209984,266,84,51630,299512492311209984,266,84,51630\n",
      "299513591822837760,266,88,51630,299513591822837760,266,88,51630\n",
      "299513866700744704,266,89,51630,299513866700744704,266,89,51630\n",
      "299514141578651648,266,90,51630,299514141578651648,266,90,51630\n",
      "299514416456558592,266,91,51630,299514416456558592,266,91,51630\n",
      "299514691334465536,266,92,51630,299514691334465536,266,92,51630\n",
      "299516890357721088,266,100,51630,299516890357721088,266,100,51630\n",
      "299518264747255808,266,105,51630,299518264747255808,266,105,51630\n",
      "299522662793766912,266,121,51630,299522662793766912,266,121,51630\n",
      "299523487427487744,266,124,51630,299523487427487744,266,124,51630\n",
      "299524312061208576,266,127,51630,299524312061208576,266,127,51630\n",
      "299526511084464128,266,135,51630,299526511084464128,266,135,51630\n",
      "299527610596091904,266,139,51630,299527610596091904,266,139,51630\n",
      "299528160351905792,266,141,51630,299528160351905792,266,141,51630\n",
      "299528435229812736,266,142,51630,299528435229812736,266,142,51630\n",
      "299529259863533568,266,145,51630,299529259863533568,266,145,51630\n",
      "299530359375161344,266,149,51630,299530359375161344,266,149,51630\n",
      "299531458886789120,266,153,51630,299531458886789120,266,153,51630\n",
      "299532008642603008,266,155,51630,299532008642603008,266,155,51630\n",
      "299532558398416896,266,157,51630,299532558398416896,266,157,51630\n",
      "299532833276323840,266,158,51630,299532833276323840,266,158,51630\n",
      "299533108154230784,266,159,51630,299533108154230784,266,159,51630\n",
      "299534207665858560,266,163,51630,299534207665858560,266,163,51630\n",
      "299534757421672448,266,165,51630,299534757421672448,266,165,51630\n",
      "299535032299579392,266,166,51630,299535032299579392,266,166,51630\n",
      "299536956444928000,266,173,51630,299536956444928000,266,173,51630\n",
      "299537506200741888,266,175,51630,299537506200741888,266,175,51630\n",
      "299538055956555776,266,177,51630,299538055956555776,266,177,51630\n",
      "299539430346090496,266,182,51630,299539430346090496,266,182,51630\n",
      "299539705223997440,266,183,51630,299539705223997440,266,183,51630\n",
      "299540804735625216,266,187,51630,299540804735625216,266,187,51630\n",
      "299541354491439104,266,189,51630,299541354491439104,266,189,51630\n",
      "299544378148415488,266,200,51630,299544378148415488,266,200,51630\n",
      "299546027415857152,266,206,51630,299546027415857152,266,206,51630\n",
      "299547951561205760,266,213,51630,299547951561205760,266,213,51630\n",
      "299548226439112704,266,214,51630,299548226439112704,266,214,51630\n",
      "299551250096089088,266,225,51630,299551250096089088,266,225,51630\n",
      "299551524973996032,266,226,51630,299551524973996032,266,226,51630\n",
      "299552074729809920,266,228,51630,299552074729809920,266,228,51630\n",
      "299552349607716864,266,229,51630,299552349607716864,266,229,51630\n",
      "299553998875158528,266,235,51630,299553998875158528,266,235,51630\n",
      "299554273753065472,266,236,51630,299554273753065472,266,236,51630\n",
      "299555098386786304,266,239,51630,299555098386786304,266,239,51630\n",
      "299556472776321024,266,244,51630,299556472776321024,266,244,51630\n",
      "299557022532134912,266,246,51630,299557022532134912,266,246,51630\n",
      "299557572287948800,266,248,51630,299557572287948800,266,248,51630\n",
      "299560046189111296,266,257,51630,299560046189111296,266,257,51630\n",
      "299560321067018240,266,258,51630,299560321067018240,266,258,51630\n",
      "299560595944925184,266,259,51630,299560595944925184,266,259,51630\n",
      "299562794968180736,266,267,51630,299562794968180736,266,267,51630\n",
      "299563344723994624,266,269,51630,299563344723994624,266,269,51630\n",
      "299563619601901568,266,270,51630,299563619601901568,266,270,51630\n",
      "299564719113529344,266,274,51630,299564719113529344,266,274,51630\n",
      "299564993991436288,266,275,51630,299564993991436288,266,275,51630\n",
      "299565818625157120,266,278,51630,299565818625157120,266,278,51630\n",
      "299568292526319616,266,287,51630,299568292526319616,266,287,51630\n",
      "299569941793761280,266,293,51630,299569941793761280,266,293,51630\n",
      "299570766427482112,266,296,51630,299570766427482112,266,296,51630\n",
      "299572140817016832,266,301,51630,299572140817016832,266,301,51630\n",
      "299573790084458496,266,307,51630,299573790084458496,266,307,51630\n",
      "299574064962365440,266,308,51630,299574064962365440,266,308,51630\n",
      "299577638375155712,266,321,51630,299577638375155712,266,321,51630\n",
      "299579287642597376,266,327,51630,299579287642597376,266,327,51630\n",
      "299580387154225152,266,331,51630,299580387154225152,266,331,51630\n",
      "299580936910039040,266,333,51630,299580936910039040,266,333,51630\n",
      "299582861055387648,266,340,51630,299582861055387648,266,340,51630\n",
      "299584235444922368,266,345,51630,299584235444922368,266,345,51630\n",
      "299585060078643200,266,348,51630,299585060078643200,266,348,51630\n",
      "299587533979805696,266,357,51630,299587533979805696,266,357,51630\n",
      "299590557636782080,266,368,51630,299590557636782080,266,368,51630\n",
      "299591382270502912,266,371,51630,299591382270502912,266,371,51630\n",
      "299592756660037632,266,376,51630,299592756660037632,266,376,51630\n",
      "299596604950734848,266,390,51630,299596604950734848,266,390,51630\n",
      "299596879828641792,266,391,51630,299596879828641792,266,391,51630\n",
      "299598803973990400,266,398,51630,299598803973990400,266,398,51630\n",
      "299603751776315392,266,416,51630,299603751776315392,266,416,51630\n",
      "299604026654222336,266,417,51630,299604026654222336,266,417,51630\n",
      "299604851287943168,266,420,51630,299604851287943168,266,420,51630\n",
      "299605126165850112,266,421,51630,299605126165850112,266,421,51630\n",
      "299606775433291776,266,427,51630,299606775433291776,266,427,51630\n",
      "299607050311198720,266,428,51630,299607050311198720,266,428,51630\n",
      "299609249334454272,266,436,51630,299609249334454272,266,436,51630\n",
      "299610073968175104,266,439,51630,299610073968175104,266,439,51630\n",
      "299610898601895936,266,442,51630,299610898601895936,266,442,51630\n",
      "299611173479802880,266,443,51630,299611173479802880,266,443,51630\n",
      "299612272991430656,266,447,51630,299612272991430656,266,447,51630\n",
      "299614746892593152,266,456,51630,299614746892593152,266,456,51630\n",
      "299616396160034816,266,462,51630,299616396160034816,266,462,51630\n",
      "299616671037941760,266,463,51630,299616671037941760,266,463,51630\n",
      "299616945915848704,266,464,51630,299616945915848704,266,464,51630\n",
      "299617495671662592,266,466,51630,299617495671662592,266,466,51630\n",
      "299619144939104256,266,472,51630,299619144939104256,266,472,51630\n",
      "299620794206545920,266,478,51630,299620794206545920,266,478,51630\n",
      "299624367619336192,266,491,51630,299624367619336192,266,491,51630\n",
      "299625467130963968,266,495,51630,299625467130963968,266,495,51630\n",
      "299626016886777856,266,497,51630,299626016886777856,266,497,51630\n",
      "299626291764684800,266,498,51630,299626291764684800,266,498,51630\n",
      "299629040543754240,266,508,51630,299629040543754240,266,508,51630\n",
      "299630964689102848,266,515,51630,299630964689102848,266,515,51630\n",
      "299633163712358400,266,523,51630,299633163712358400,266,523,51630\n",
      "299633438590265344,266,524,51630,299633438590265344,266,524,51630\n",
      "299633713468172288,266,525,51630,299633713468172288,266,525,51630\n",
      "299634812979800064,266,529,51630,299634812979800064,266,529,51630\n",
      "299635087857707008,266,530,51630,299635087857707008,266,530,51630\n",
      "299636187369334784,266,534,51630,299636187369334784,266,534,51630\n",
      "299636737125148672,266,536,51630,299636737125148672,266,536,51630\n",
      "299637836636776448,266,540,51630,299637836636776448,266,540,51630\n",
      "299638936148404224,266,544,51630,299638936148404224,266,544,51630\n",
      "299641684927473664,266,554,51630,299641684927473664,266,554,51630\n",
      "299643059317008384,266,559,51630,299643059317008384,266,559,51630\n",
      "299645258340263936,266,567,51630,299645258340263936,266,567,51630\n",
      "299645533218170880,266,568,51630,299645533218170880,266,568,51630\n",
      "299648831753054208,266,580,51630,299648831753054208,266,580,51630\n",
      "299650206142588928,266,585,51630,299650206142588928,266,585,51630\n",
      "299651855410030592,266,591,51630,299651855410030592,266,591,51630\n",
      "299652680043751424,266,594,51630,299652680043751424,266,594,51630\n",
      "299652954921658368,266,595,51630,299652954921658368,266,595,51630\n",
      "299653229799565312,266,596,51630,299653229799565312,266,596,51630\n",
      "299655428822820864,266,604,51630,299655428822820864,266,604,51630\n",
      "299656528334448640,266,608,51630,299656528334448640,266,608,51630\n",
      "299659002235611136,266,617,51630,299659002235611136,266,617,51630\n",
      "299659551991425024,266,619,51630,299659551991425024,266,619,51630\n",
      "299659826869331968,266,620,51630,299659826869331968,266,620,51630\n",
      "299660651503052800,266,623,51630,299660651503052800,266,623,51630\n",
      "299662850526308352,266,631,51630,299662850526308352,266,631,51630\n",
      "299663400282122240,266,633,51630,299663400282122240,266,633,51630\n",
      "299664499793750016,266,637,51630,299664499793750016,266,637,51630\n",
      "299664774671656960,266,638,51630,299664774671656960,266,638,51630\n",
      "300615851860584448,267,2,51608,300615851860584448,267,2,51608\n",
      "300616676494305280,267,5,51608,300616676494305280,267,5,51608\n",
      "300617226250119168,267,7,51608,300617226250119168,267,7,51608\n",
      "300618050883840000,267,10,51608,300618050883840000,267,10,51608\n",
      "300618325761746944,267,11,51608,300618325761746944,267,11,51608\n",
      "300618875517560832,267,13,51608,300618875517560832,267,13,51608\n",
      "300620249907095552,267,18,51608,300620249907095552,267,18,51608\n",
      "300620799662909440,267,20,51608,300620799662909440,267,20,51608\n",
      "300621349418723328,267,22,51608,300621349418723328,267,22,51608\n",
      "300622723808258048,267,27,51608,300622723808258048,267,27,51608\n",
      "300624098197792768,267,32,51608,300624098197792768,267,32,51608\n",
      "300624373075699712,267,33,51608,300624373075699712,267,33,51608\n",
      "300624647953606656,267,34,51608,300624647953606656,267,34,51608\n",
      "300624922831513600,267,35,51608,300624922831513600,267,35,51608\n",
      "300625197709420544,267,36,51608,300625197709420544,267,36,51608\n",
      "300625747465234432,267,38,51608,300625747465234432,267,38,51608\n",
      "300626572098955264,267,41,51608,300626572098955264,267,41,51608\n",
      "300627671610583040,267,45,51608,300627671610583040,267,45,51608\n",
      "300629320878024704,267,51,51608,300629320878024704,267,51,51608\n",
      "300630695267559424,267,56,51608,300630695267559424,267,56,51608\n",
      "300632069657094144,267,61,51608,300632069657094144,267,61,51608\n",
      "300634268680349696,267,69,51608,300634268680349696,267,69,51608\n",
      "300635093314070528,267,72,51608,300635093314070528,267,72,51608\n",
      "300635917947791360,267,75,51608,300635917947791360,267,75,51608\n",
      "300637292337326080,267,80,51608,300637292337326080,267,80,51608\n",
      "300637567215233024,267,81,51608,300637567215233024,267,81,51608\n",
      "300638391848953856,267,84,51608,300638391848953856,267,84,51608\n",
      "300638941604767744,267,86,51608,300638941604767744,267,86,51608\n",
      "300640041116395520,267,90,51608,300640041116395520,267,90,51608\n",
      "300641140628023296,267,94,51608,300641140628023296,267,94,51608\n",
      "300641965261744128,267,97,51608,300641965261744128,267,97,51608\n",
      "300644988918720512,267,108,51608,300644988918720512,267,108,51608\n",
      "300645263796627456,267,109,51608,300645263796627456,267,109,51608\n",
      "300650211598952448,267,127,51608,300650211598952448,267,127,51608\n",
      "300652135744301056,267,134,51608,300652135744301056,267,134,51608\n",
      "300652685500114944,267,136,51608,300652685500114944,267,136,51608\n",
      "300652960378021888,267,137,51608,300652960378021888,267,137,51608\n",
      "300653510133835776,267,139,51608,300653510133835776,267,139,51608\n",
      "300654884523370496,267,144,51608,300654884523370496,267,144,51608\n",
      "300655434279184384,267,146,51608,300655434279184384,267,146,51608\n",
      "300658183058253824,267,156,51608,300658183058253824,267,156,51608\n",
      "300658457936160768,267,157,51608,300658457936160768,267,157,51608\n",
      "300660107203602432,267,163,51608,300660107203602432,267,163,51608\n",
      "300660382081509376,267,164,51608,300660382081509376,267,164,51608\n",
      "300661481593137152,267,168,51608,300661481593137152,267,168,51608\n",
      "300662031348951040,267,170,51608,300662031348951040,267,170,51608\n",
      "300662306226857984,267,171,51608,300662306226857984,267,171,51608\n",
      "300662581104764928,267,172,51608,300662581104764928,267,172,51608\n",
      "300663680616392704,267,176,51608,300663680616392704,267,176,51608\n",
      "300665604761741312,267,183,51608,300665604761741312,267,183,51608\n",
      "300666979151276032,267,188,51608,300666979151276032,267,188,51608\n",
      "300667528907089920,267,190,51608,300667528907089920,267,190,51608\n",
      "300668353540810752,267,193,51608,300668353540810752,267,193,51608\n",
      "300668628418717696,267,194,51608,300668628418717696,267,194,51608\n",
      "300669178174531584,267,196,51608,300669178174531584,267,196,51608\n",
      "300669453052438528,267,197,51608,300669453052438528,267,197,51608\n",
      "300670277686159360,267,200,51608,300670277686159360,267,200,51608\n",
      "300671102319880192,267,203,51608,300671102319880192,267,203,51608\n",
      "300672201831507968,267,207,51608,300672201831507968,267,207,51608\n",
      "300674950610577408,267,217,51608,300674950610577408,267,217,51608\n",
      "300677424511739904,267,226,51608,300677424511739904,267,226,51608\n",
      "300678249145460736,267,229,51608,300678249145460736,267,229,51608\n",
      "300680448168716288,267,237,51608,300680448168716288,267,237,51608\n",
      "300682097436157952,267,243,51608,300682097436157952,267,243,51608\n",
      "300683746703599616,267,249,51608,300683746703599616,267,249,51608\n",
      "300684296459413504,267,251,51608,300684296459413504,267,251,51608\n",
      "300684571337320448,267,252,51608,300684571337320448,267,252,51608\n",
      "300685121093134336,267,254,51608,300685121093134336,267,254,51608\n",
      "300685670848948224,267,256,51608,300685670848948224,267,256,51608\n",
      "300686495482669056,267,259,51608,300686495482669056,267,259,51608\n",
      "\n"
     ]
    }
   ],
   "source": [
    "if release == 'dr8':\n",
    "    for region in regions:\n",
    "        q = f\"\"\"SELECT ll.{sdss[release]}_specobjid, ll.plate, ll.fiberid, ll.mjd, s.specobjid, s.plate, s.fiberid, s.mjd\n",
    "FROM\n",
    "    (SELECT l.*,\n",
    "        sdss_{sdss[release]}.specobjid(CAST(l.plate AS smallint), CAST(l.fiberid AS smallint), l.mjd, l.run2d)\n",
    "        AS {sdss[release]}_specobjid\n",
    "    FROM ls_{release}.{release}_{region}_specobj_{sdss[release]} AS l) AS ll\n",
    "JOIN sdss_{sdss[release]}.specobjall AS s ON ll.{sdss[release]}_specobjid = s.specobjid\n",
    "LIMIT 200\"\"\"\n",
    "        response = qc.query(sql=q, fmt='csv', timeout=600)\n",
    "        print(response)\n",
    "else:\n",
    "    q = f\"\"\"SELECT t.ls_id, t.ra, t.dec, t.mag_g, t.mag_r, t.mag_z, s.specobjid, s.plate, s.fiberid, s.mjd\n",
    "FROM\n",
    "    (SELECT id1 AS ls_id, id2 AS specobjid FROM ls_{release}.x1p5__tractor__sdss_{sdss[release]}__specobj LIMIT 200) AS ll\n",
    "JOIN ls_{release}.tractor AS t ON ll.ls_id = t.ls_id\n",
    "JOIN sdss_{sdss[release]}.specobj AS s ON ll.specobjid = s.specobjid\n",
    "\"\"\"\n",
    "    response = qc.query(sql=q, fmt='csv', timeout=600)\n",
    "    print(response)"
   ]
  },
  {
   "cell_type": "markdown",
   "metadata": {},
   "source": [
    "## QA on ls_id\n",
    "\n",
    "Check that `ls_id` is set correctly on the tractor region tables as well as the joined tractor table.\n",
    "\n",
    "All objects should have `brick_primary == 1`.  First test the north and south tables."
   ]
  },
  {
   "cell_type": "code",
   "execution_count": 21,
   "metadata": {},
   "outputs": [
    {
     "name": "stdout",
     "output_type": "stream",
     "text": [
      "brick_primary\n",
      "\n",
      "brick_primary\n",
      "\n"
     ]
    }
   ],
   "source": [
    "for region in regions:\n",
    "    q = f\"SELECT brick_primary FROM ls_{release}.tractor_{region[0]} WHERE brick_primary != 1\"\n",
    "    response = qc.query(sql=q, async_=False, wait=True, poll=60, timeout=86400, verbose=True)\n",
    "    print(response)"
   ]
  },
  {
   "cell_type": "markdown",
   "metadata": {},
   "source": [
    "Now test the joined table. Use async query because this may time out otherwise."
   ]
  },
  {
   "cell_type": "code",
   "execution_count": 20,
   "metadata": {},
   "outputs": [
    {
     "name": "stdout",
     "output_type": "stream",
     "text": [
      "EXECUTING\n",
      "Status = EXECUTING; elapsed time: 60, timeout in 86340\n",
      "EXECUTING\n",
      "Status = EXECUTING; elapsed time: 120, timeout in 86280\n",
      "EXECUTING\n",
      "Status = EXECUTING; elapsed time: 180, timeout in 86220\n",
      "EXECUTING\n",
      "Status = EXECUTING; elapsed time: 240, timeout in 86160\n",
      "EXECUTING\n",
      "Status = EXECUTING; elapsed time: 300, timeout in 86100\n",
      "EXECUTING\n",
      "Status = EXECUTING; elapsed time: 360, timeout in 86040\n",
      "EXECUTING\n",
      "Status = EXECUTING; elapsed time: 420, timeout in 85980\n",
      "EXECUTING\n",
      "Status = EXECUTING; elapsed time: 480, timeout in 85920\n",
      "EXECUTING\n",
      "Status = EXECUTING; elapsed time: 540, timeout in 85860\n",
      "EXECUTING\n",
      "Status = EXECUTING; elapsed time: 600, timeout in 85800\n",
      "EXECUTING\n",
      "Status = EXECUTING; elapsed time: 660, timeout in 85740\n",
      "EXECUTING\n",
      "Status = EXECUTING; elapsed time: 720, timeout in 85680\n",
      "EXECUTING\n",
      "Status = EXECUTING; elapsed time: 780, timeout in 85620\n",
      "EXECUTING\n",
      "Status = EXECUTING; elapsed time: 840, timeout in 85560\n",
      "EXECUTING\n",
      "Status = EXECUTING; elapsed time: 900, timeout in 85500\n",
      "EXECUTING\n",
      "Status = EXECUTING; elapsed time: 960, timeout in 85440\n",
      "EXECUTING\n",
      "Status = EXECUTING; elapsed time: 1020, timeout in 85380\n",
      "EXECUTING\n",
      "Status = EXECUTING; elapsed time: 1080, timeout in 85320\n",
      "EXECUTING\n",
      "Status = EXECUTING; elapsed time: 1140, timeout in 85260\n",
      "EXECUTING\n",
      "Status = EXECUTING; elapsed time: 1200, timeout in 85200\n",
      "EXECUTING\n",
      "Status = EXECUTING; elapsed time: 1260, timeout in 85140\n",
      "EXECUTING\n",
      "Status = EXECUTING; elapsed time: 1320, timeout in 85080\n",
      "EXECUTING\n",
      "Status = EXECUTING; elapsed time: 1380, timeout in 85020\n",
      "EXECUTING\n",
      "Status = EXECUTING; elapsed time: 1440, timeout in 84960\n",
      "EXECUTING\n",
      "Status = EXECUTING; elapsed time: 1500, timeout in 84900\n",
      "EXECUTING\n",
      "Status = COMPLETED; elapsed time: 1560, timeout in 84840\n",
      "Retrieving results\n",
      "brick_primary\n",
      "\n"
     ]
    }
   ],
   "source": [
    "q = f\"SELECT brick_primary FROM ls_{release}.tractor WHERE brick_primary != 1\"\n",
    "response = qc.query(sql=q, async_=True, wait=True, poll=60, timeout=86400, verbose=True)\n",
    "print(response)"
   ]
  },
  {
   "cell_type": "markdown",
   "metadata": {},
   "source": [
    "Now check the actual `ls_id`."
   ]
  },
  {
   "cell_type": "code",
   "execution_count": 22,
   "metadata": {},
   "outputs": [],
   "source": [
    "for region in regions:\n",
    "    q = f\"SELECT ls_id, release, brickid, objid FROM ls_{release}.tractor_{region[0]} LIMIT 100000\"\n",
    "    response = qc.query(sql=q, fmt='csv', timeout=600)\n",
    "    a, b, c, d = zip(*[tuple(map(int, l.strip().split(','))) for l in response.strip().split('\\n') if not l.startswith('ls_id')])\n",
    "    ls_id = np.array(a, dtype=np.uint64)\n",
    "    ls_release = np.array(b, dtype=np.uint64)\n",
    "    brickid = np.array(c, dtype=np.uint64)\n",
    "    objid = np.array(d, dtype=np.uint64)\n",
    "    assert ((((ls_release << 40) | (brickid << 16) | (objid)) - ls_id) == 0).all()"
   ]
  },
  {
   "cell_type": "code",
   "execution_count": null,
   "metadata": {},
   "outputs": [],
   "source": [
    "q = f\"SELECT ls_id, release, brickid, objid FROM ls_{release}.tractor LIMIT 100000\"\n",
    "response = qc.query(sql=q, fmt='csv', timeout=600)\n",
    "a, b, c, d = zip(*[tuple(map(int, l.strip().split(','))) for l in response.strip().split('\\n') if not l.startswith('ls_id')])\n",
    "ls_id = np.array(a, dtype=np.uint64)\n",
    "ls_release = np.array(b, dtype=np.uint64)\n",
    "brickid = np.array(c, dtype=np.uint64)\n",
    "objid = np.array(d, dtype=np.uint64)\n",
    "assert ((((ls_release << 40) | (brickid << 16) | (objid)) - ls_id) == 0).all()"
   ]
  },
  {
   "cell_type": "markdown",
   "metadata": {},
   "source": [
    "### QA on ls_id in Forced Photometry\n",
    "\n",
    "This tests joins of the forced photometry data with the main tractor table."
   ]
  },
  {
   "cell_type": "code",
   "execution_count": null,
   "metadata": {},
   "outputs": [],
   "source": [
    "for region in regions:\n",
    "    q0 = f\"\"\"SELECT ls_id, release, brickid, objid,\n",
    "    (CAST(release AS bigint) << 40) | \n",
    "    (CAST(brickid AS bigint) << 16) | \n",
    "    (CAST(objid AS bigint)) AS test_ls_id\n",
    "FROM ls_{release}.tractor_{region[0]} LIMIT 10\"\"\"\n",
    "    response = qc.query(sql=q0, fmt='csv', timeout=600)\n",
    "    ls_id = ', '.join([l.strip().split(',')[0] for l in response.strip().split('\\n') if not l.startswith('ls_id')])\n",
    "    q = f\"\"\"SELECT * FROM ls_{release}.tractor_{region[0]} AS t\n",
    "JOIN ls_{release}.forced AS f ON t.ls_id = f.ls_id\n",
    "JOIN ls_{release}.ccds_annotated AS c ON c.ls_ccd_id = f.ls_ccd_id\n",
    "WHERE t.ls_id IN ({ls_id})\n",
    "\"\"\"\n",
    "    print(q)\n",
    "    response = qc.query(sql=q, format='csv', timeout=600)\n",
    "    print(len(response.strip().split('\\n')[1:]))\n",
    "    print(response)"
   ]
  },
  {
   "cell_type": "markdown",
   "metadata": {},
   "source": [
    "## Numerology\n",
    "\n",
    "### Source Table Integrity Check\n",
    "\n",
    "Check that the [Morphological Classification table](https://www.legacysurvey.org/dr8/description/#morphological-classification) is self-consistent.  This table can then be used to check the numbers of different types in the database."
   ]
  },
  {
   "cell_type": "code",
   "execution_count": null,
   "metadata": {},
   "outputs": [],
   "source": [
    "class LSDescriptionHTMLParser(HTMLParser):\n",
    "    \"\"\"Parse!\n",
    "    \"\"\"\n",
    "    in_section = False\n",
    "    in_table = False\n",
    "    in_thead = False\n",
    "    in_tbody = False\n",
    "    in_data_row = False\n",
    "    get_header = False\n",
    "    get_data = False\n",
    "    data = [['type', 'all_north', 'all_south', 'resolved_north', 'resolved_south', 'unique'],]\n",
    "\n",
    "    def handle_starttag(self, tag, attrs):\n",
    "        a = OrderedDict(attrs)\n",
    "        if tag == 'div' and 'id' in a and a['id'] == 'morphological-classification':\n",
    "            self.in_section = True\n",
    "        if tag == 'table' and self.in_section:\n",
    "            self.in_table = True\n",
    "        if tag == 'thead' and self.in_table:\n",
    "            self.in_thead = True\n",
    "        if tag == 'tbody' and self.in_table:\n",
    "            self.in_tbody = True\n",
    "        if tag == 'th' and self.in_thead:\n",
    "            self.get_header = True\n",
    "        if tag == 'tr' and self.in_tbody:\n",
    "            self.in_data_row = True\n",
    "        if tag == 'td' and self.in_tbody:\n",
    "            self.get_data = True\n",
    "            \n",
    "\n",
    "    def handle_endtag(self, tag):\n",
    "        if tag == 'div' and self.in_section:\n",
    "            self.in_section = False\n",
    "        if tag == 'table' and self.in_table:\n",
    "            self.in_table = False\n",
    "        if tag == 'thead' and self.in_table:\n",
    "            self.in_thead = False\n",
    "        if tag == 'tbody' and self.in_table:\n",
    "            self.in_tbody = False\n",
    "        if tag == 'th' and self.get_header:\n",
    "            self.get_header = False\n",
    "        if tag == 'tr' and self.in_data_row:\n",
    "            self.in_data_row = False\n",
    "        if tag == 'td' and self.get_data:\n",
    "            self.get_data = False\n",
    "\n",
    "    def handle_data(self, data):\n",
    "        if self.in_table:\n",
    "            if self.in_thead:\n",
    "                if self.get_header:\n",
    "                    # print(data)\n",
    "                    pass\n",
    "            if self.in_tbody:\n",
    "                if self.in_data_row and self.get_data:\n",
    "                    try:\n",
    "                        i = int(data.replace(',', ''))\n",
    "                    except ValueError:\n",
    "                        self.data.append([data,])\n",
    "                    else:\n",
    "                        self.data[-1].append(i)\n",
    "\n",
    "\n",
    "r = requests.get(f'https://www.legacysurvey.org/{release}/description/')\n",
    "parser = LSDescriptionHTMLParser()\n",
    "parser.feed(r.text)\n",
    "morph_table = Table(list(zip(*parser.data[1:])), names=parser.data[0])"
   ]
  },
  {
   "cell_type": "code",
   "execution_count": null,
   "metadata": {},
   "outputs": [],
   "source": [
    "morph_table"
   ]
  },
  {
   "cell_type": "code",
   "execution_count": null,
   "metadata": {},
   "outputs": [],
   "source": [
    "assert (morph_table['resolved_north'] + morph_table['resolved_south'] == morph_table['unique']).all()"
   ]
  },
  {
   "cell_type": "code",
   "execution_count": null,
   "metadata": {},
   "outputs": [],
   "source": [
    "assert morph_table['all_north'][1:].sum() == morph_table['all_north'][0]\n",
    "assert morph_table['all_south'][1:].sum() == morph_table['all_south'][0]\n",
    "assert morph_table['resolved_north'][1:].sum() == morph_table['resolved_north'][0]\n",
    "assert morph_table['resolved_south'][1:].sum() == morph_table['resolved_south'][0]\n",
    "assert morph_table['unique'][1:].sum() == morph_table['unique'][0]\n",
    "assert (morph_table['all_north'][0] - morph_table['all_north'][1:6].sum()) == morph_table['all_north'][-1]"
   ]
  },
  {
   "cell_type": "markdown",
   "metadata": {},
   "source": [
    "### Compare Source Table to survey-brick files\n",
    "\n",
    "In `ls_dr8` there is a [known overflow issue](https://www.legacysurvey.org/dr8/issues/#overflow-in-survey-bricks-dr8-south-fits-gz) that will produce -65536 instead of 0."
   ]
  },
  {
   "cell_type": "code",
   "execution_count": null,
   "metadata": {},
   "outputs": [],
   "source": [
    "for region in regions:\n",
    "    survey_bricks = Table.read(sc.get(f'ls_{release}://{region}/survey-bricks-{release}-{region}.fits.gz', mode='fileobj'), format='fits')\n",
    "    select_objs = ', '.join([\"SUM(n{0}) AS n{0}\".format(o) for o in obj_types[release]])\n",
    "    q = f\"\"\"SELECT {select_objs} FROM ls_{release}.bricks_{region[0]}\"\"\"\n",
    "    print(q)\n",
    "    response = qc.query(sql=q, fmt='csv', timeout=600)\n",
    "    database_bricks = np.array([int(x) for x in response.strip().split('\\n')[1].split(',')])\n",
    "    ndup = 0\n",
    "    for k, t in enumerate(obj_types[release]):\n",
    "        try:\n",
    "            assert survey_bricks['n'+t].sum() == morph_table[f'all_{region}'][k]\n",
    "        except AssertionError:\n",
    "            print('FILE:', region, t.upper(), survey_bricks['n'+t].sum() - morph_table[f'all_{region}'][k])\n",
    "        try:\n",
    "            assert database_bricks[k] == morph_table[f'all_{region}'][k]\n",
    "        except AssertionError:\n",
    "            print('DB:', region, t.upper(), database_bricks[k] - morph_table[f'all_{region}'][k])\n",
    "        if k == 0:\n",
    "            ndup = survey_bricks['n'+t].sum()\n",
    "        else:\n",
    "            ndup -= survey_bricks['n'+t].sum()\n",
    "    assert ndup == morph_table[f'all_{region}'][-1]\n",
    "    assert survey_bricks['nsimp'].sum() == 0"
   ]
  },
  {
   "cell_type": "markdown",
   "metadata": {},
   "source": [
    "### Number of Rows in the Table\n",
    "\n",
    "This is where there is a potential inconsistency for `ls_dr8`.  "
   ]
  },
  {
   "cell_type": "code",
   "execution_count": null,
   "metadata": {},
   "outputs": [],
   "source": [
    "for region in regions:\n",
    "    q = f\"SELECT COUNT(*) AS n_rows FROM ls_{release}.tractor_{region[0]}\"\n",
    "    # response_psql = !psql --no-align --field-separator=, --tuples-only --username=dlquery --host=db01.datalab.noirlab.edu --dbname=tapdb --command=\"$q\"\n",
    "    response_async = qc.query(sql=q, fmt='csv', async_=True, wait=True, poll=60, timeout=86400, verbose=True)\n",
    "    # print(response_psql.nlstr)\n",
    "    print(response_async)\n",
    "    # print(morph_table[f'all_{region}'][0] - int(response_psql.nlstr.strip().split('\\n')[0]))\n",
    "    print(morph_table[f'all_{region}'][0] - int(response_async.strip().split('\\n')[1]))"
   ]
  },
  {
   "cell_type": "code",
   "execution_count": null,
   "metadata": {},
   "outputs": [],
   "source": [
    "q = f\"SELECT COUNT(*) AS n_rows FROM ls_{release}.tractor\"\n",
    "response = qc.query(sql=q, fmt='csv', async_=True, wait=True, poll=60, timeout=86400, verbose=True)\n",
    "print(response)\n",
    "print(morph_table['unique'][0] - int(response.strip().split('\\n')[1]))"
   ]
  },
  {
   "cell_type": "markdown",
   "metadata": {},
   "source": [
    "### Number of Distinct Objects\n",
    "\n",
    "Here we compare the number of objects of a given type to the morphology table obtained above."
   ]
  },
  {
   "cell_type": "code",
   "execution_count": null,
   "metadata": {},
   "outputs": [],
   "source": [
    "for region in regions:\n",
    "    q = f\"SELECT type, COUNT(type) AS n_type FROM ls_{release}.tractor_{region[0]} GROUP BY type\"\n",
    "    # response_psql = !psql --no-align --field-separator=, --tuples-only --username=dlquery --host=db01.datalab.noirlab.edu --dbname=tapdb --command=\"$q\"\n",
    "    response_async = qc.query(sql=q, fmt='csv', async_=True, wait=True, poll=60, timeout=86400, verbose=True)\n",
    "    # print(response_psql.nlstr)\n",
    "    print(response_async)\n",
    "    total_types = 0\n",
    "    for key, val in dict([x.split(',') for x in response_async.strip().split('\\n')[1:]]).items():\n",
    "        try:\n",
    "            assert morph_table[morph_table['type'] == key][f'all_{region}'] == int(val)\n",
    "        except AssertionError:\n",
    "            print(region, key, morph_table[morph_table['type'] == key][f'all_{region}'] - int(val))\n",
    "        total_types += int(val)\n",
    "    if morph_table[f'all_{region}'][0] != total_types:\n",
    "        print(region, total_types, morph_table[f'all_{region}'][0] - total_types)"
   ]
  },
  {
   "cell_type": "code",
   "execution_count": null,
   "metadata": {},
   "outputs": [],
   "source": [
    "q = f\"SELECT type, COUNT(type) AS n_type FROM ls_{release}.tractor GROUP BY type\"\n",
    "# response_psql = !psql --no-align --field-separator=, --tuples-only --username=dlquery --host=db01.datalab.noirlab.edu --dbname=tapdb --command=\"$q\"\n",
    "response_async = qc.query(sql=q, fmt='csv', async_=True, wait=True, poll=60, timeout=86400, verbose=True)\n",
    "# print(response_psql.nlstr)\n",
    "print(response_async)\n",
    "total_types = 0\n",
    "for key, val in dict([x.split(',') for x in response_async.strip().split('\\n')[1:]]).items():\n",
    "    try:\n",
    "        assert morph_table[morph_table['type'] == key]['unique'] == int(val)\n",
    "    except AssertionError:\n",
    "        print(region, key, morph_table[morph_table['type'] == key]['unique'] - int(val))\n",
    "    total_types += int(val)\n",
    "if morph_table['unique'][0] != total_types:\n",
    "    print(region, total_types, morph_table['unique'][0] - total_types)"
   ]
  },
  {
   "cell_type": "markdown",
   "metadata": {},
   "source": [
    "### QA on release Column\n",
    "\n",
    "Ensure that the release column matches the region of the table.  Use async queries to avoid timeouts."
   ]
  },
  {
   "cell_type": "code",
   "execution_count": null,
   "metadata": {},
   "outputs": [],
   "source": [
    "for region in regions:\n",
    "    r = ', '.join(map(str, region_to_release[release][region]))\n",
    "    q = f\"SELECT COUNT(*) AS n FROM ls_{release}.tractor_{region[0]} WHERE release NOT IN ({r})\"\n",
    "    print(q)\n",
    "    response = qc.query(sql=q, fmt='csv', async_=True, wait=True, poll=60, timeout=86400, verbose=True)\n",
    "    print(response)"
   ]
  },
  {
   "cell_type": "markdown",
   "metadata": {},
   "source": [
    "### Check Construction of Full tractor Table\n",
    "\n",
    "If the full tractor table is constructed properly, the region `dec >= 32.375 AND glat > 0` will contain only objects with a \"north\" `release`."
   ]
  },
  {
   "cell_type": "code",
   "execution_count": null,
   "metadata": {},
   "outputs": [],
   "source": [
    "q = f\"SELECT release, COUNT(release) AS n FROM ls_{release}.tractor WHERE dec >= 32.375 AND glat > 0 GROUP BY release\"\n",
    "response = qc.query(sql=q, fmt='csv', async_=True, wait=True, poll=60, timeout=86400, verbose=True)\n",
    "print(response)"
   ]
  },
  {
   "cell_type": "markdown",
   "metadata": {},
   "source": [
    "And the region `dec < 32.375 OR glat < 0` should contain only objects with a \"south\" `release`."
   ]
  },
  {
   "cell_type": "code",
   "execution_count": null,
   "metadata": {},
   "outputs": [],
   "source": [
    "q = f\"SELECT release, COUNT(release) AS n FROM ls_{release}.tractor WHERE dec < 32.375 OR glat < 0 GROUP BY release\"\n",
    "response = qc.query(sql=q, fmt='csv', async_=True, wait=True, poll=60, timeout=86400, verbose=True)\n",
    "print(response)"
   ]
  },
  {
   "cell_type": "markdown",
   "metadata": {},
   "source": [
    "### Number of Bricks\n",
    "\n",
    "Is the number of distinct bricks in the `tractor_(n|s)` tables the same as the number of bricks in the `bricks_(n|s)` tables? In theory, some bricks may have no objects with `brick_primary == 1` but are still listed in `bricks_(n|s)`."
   ]
  },
  {
   "cell_type": "code",
   "execution_count": null,
   "metadata": {},
   "outputs": [],
   "source": [
    "for region in regions:\n",
    "    q = f\"SELECT DISTINCT b.brickid FROM ls_{release}.bricks_{region[0]} AS br JOIN ls_{release}.bricks AS b ON br.brickname = b.brickname WHERE br.nobjs > 0\"\n",
    "    response = qc.query(sql=q, fmt='csv', timeout=600)\n",
    "    all_brickids = response.strip().split('\\n')[1:]\n",
    "    print(len(all_brickids))\n",
    "    q = f\"SELECT DISTINCT brickid FROM ls_{release}.tractor_{region[0]}\"\n",
    "    response = qc.query(sql=q, fmt='csv', timeout=600)\n",
    "    tractor_brickids = response.strip().split('\\n')[1:]\n",
    "    print(len(tractor_brickids))\n",
    "    missing_brickids = list()\n",
    "    for b in all_brickids:\n",
    "        if b not in tractor_brickids:\n",
    "            missing_brickids.append(b)\n",
    "    if len(missing_brickids) > 0:\n",
    "        join_brickids = ', '.join(missing_brickids)\n",
    "        q = f\"SELECT b.brickname, br.nobjs FROM ls_{release}.bricks_{region[0]} AS br JOIN ls_{release}.bricks AS b ON br.brickname = b.brickname WHERE b.brickid IN ({join_brickids})\"\n",
    "        print(q)\n",
    "        response = qc.query(sql=q, fmt='csv', timeout=600)\n",
    "        missing_bricknames = dict([x.split(',') for x in response.strip().split('\\n')[1:]])\n",
    "        print(missing_bricknames)\n",
    "        missing_nobjs = 0\n",
    "        for m in missing_bricknames:\n",
    "            print(sc.ls(f'ls_{release}://{region}/tractor/{m[0:3]}/tractor-{m}.fits'))\n",
    "            missing_nobjs += int(missing_bricknames[m])\n",
    "        print(missing_nobjs)"
   ]
  },
  {
   "cell_type": "markdown",
   "metadata": {},
   "source": [
    "#### Breakdown numbers by brick\n",
    "\n",
    "Brick `2296p020` in `ls_dr8` in the south is a [known issue](https://www.legacysurvey.org/dr8/issues/#overflow-in-survey-bricks-dr8-south-fits-gz)."
   ]
  },
  {
   "cell_type": "code",
   "execution_count": null,
   "metadata": {},
   "outputs": [],
   "source": [
    "for region in regions:\n",
    "    q = f\"SELECT brickname, nobjs FROM ls_{release}.bricks_{region[0]} WHERE nobjs > 0 ORDER BY brickname\"\n",
    "    response = qc.query(sql=q, fmt='csv', timeout=600)\n",
    "    objects_per_brick = dict([x.split(',') for x in response.strip().split('\\n')[1:]])\n",
    "    q = f\"SELECT brickname, COUNT(*) FROM ls_{release}.tractor_{region[0]} GROUP BY brickname ORDER BY brickname\"\n",
    "    response = qc.query(sql=q, fmt='csv', async_=True, wait=True, poll=60, timeout=86400, verbose=True)\n",
    "    objects_per_brick_in_tractor = dict([x.split(',') for x in response.strip().split('\\n')[1:]])\n",
    "    for b in objects_per_brick:\n",
    "        if b in objects_per_brick_in_tractor:\n",
    "            if objects_per_brick[b] !=  objects_per_brick_in_tractor[b]:\n",
    "                print(f\"{b}: {objects_per_brick[b]} (ls_{release}.bricks_{region[0]}) != {objects_per_brick_in_tractor[b]} (ls_{release}.tractor_{region[0]})\")\n",
    "        else:\n",
    "            print(f\"{b} is not in ls_{release}.tractor_{region[0]}!\")\n",
    "    for b in objects_per_brick_in_tractor:\n",
    "        if b not in objects_per_brick:\n",
    "            print(f\"{b} is not in ls_{release}.bricks_{region[0]}!\")"
   ]
  },
  {
   "cell_type": "code",
   "execution_count": null,
   "metadata": {},
   "outputs": [],
   "source": []
  }
 ],
 "metadata": {
  "kernelspec": {
   "display_name": "Python 3",
   "language": "python",
   "name": "python3"
  },
  "language_info": {
   "codemirror_mode": {
    "name": "ipython",
    "version": 3
   },
   "file_extension": ".py",
   "mimetype": "text/x-python",
   "name": "python",
   "nbconvert_exporter": "python",
   "pygments_lexer": "ipython3",
   "version": "3.8.8"
  }
 },
 "nbformat": 4,
 "nbformat_minor": 4
}
