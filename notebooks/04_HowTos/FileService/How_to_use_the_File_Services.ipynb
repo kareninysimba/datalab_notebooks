{
 "cells": [
  {
   "cell_type": "code",
   "execution_count": 1,
   "metadata": {},
   "outputs": [],
   "source": [
    "__author__ = 'Mike Fitzpatrick <mike.fitzpatrick@noirlab.edu>, Glenn Eychaner, Robert Nikutta <robert.nikutta@noirlab.edu>'\n",
    "__version__ = '20211122'\n",
    "__datasets__ = ['sdss_dr14']"
   ]
  },
  {
   "cell_type": "markdown",
   "metadata": {},
   "source": [
    "# How to Use the Data Lab Public File Services\n",
    "\n",
    "_Mike Fitzpatrick, Glenn Eychaner, Robert Nikutta_\n",
    "\n",
    "Files in the virtual storage are usually identified via the prefix \"_vos://_\". This shorthand identifier is resolved to a user's home directory of the storage space in the service.  \n",
    "\n",
    "If the \"_vos://_\" prefix is instead the name of another user (e.g. \"_demo01://_\", and the remainder of the path grants public or group read/write access, then the other user's spaces will be accessed. Most user spaces have a \"_/public_\" directory to facilitate file sharing (e.g. '_demo01://public/foo.fits_' will access the '_foo.fits_' file from user '_demo01_'). Users can make any file (or directory) public by moving it to (or creating a link in) their \"/public\" directory.\n",
    "\n",
    "_Public file services_ are specially created areas where all files are world-readable, and are used for serving files from Data Lab datasets."
   ]
  },
  {
   "cell_type": "code",
   "execution_count": 2,
   "metadata": {},
   "outputs": [],
   "source": [
    "# Make matplotlib plot inline\n",
    "%matplotlib inline\n",
    "\n",
    "# Standard DL imports, note we only need storeClient\n",
    "from dl import storeClient as sc\n",
    "\n",
    "# 3rd Party Imports\n",
    "import io\n",
    "import numpy as np\n",
    "from matplotlib import pyplot as p\n",
    "from astropy.io import fits"
   ]
  },
  {
   "cell_type": "markdown",
   "metadata": {},
   "source": [
    "### Listing another user's 'public/' folder in their vospace\n",
    "The user in our example is 'demo00'"
   ]
  },
  {
   "cell_type": "code",
   "execution_count": 3,
   "metadata": {},
   "outputs": [
    {
     "name": "stdout",
     "output_type": "stream",
     "text": [
      "test2.csv       test3.csv       test6.csv        \n",
      "\n"
     ]
    }
   ],
   "source": [
    "print(sc.ls ('demo00://public', format='short'))"
   ]
  },
  {
   "cell_type": "markdown",
   "metadata": {},
   "source": [
    "### An example using the **SDSS DR14** public file service.\n",
    "A 'file service' is a _public_ vospace, readable by all users.\n",
    "\n",
    "### Set base directory and plate number"
   ]
  },
  {
   "cell_type": "code",
   "execution_count": 4,
   "metadata": {},
   "outputs": [
    {
     "name": "stdout",
     "output_type": "stream",
     "text": [
      "apo,apogee,eboss,env,manga,marvels,sdss\n",
      "calib,elg,lss,lya,photo,photoObj,qso,resolve,spectro,spiders,sweeps,target\n",
      "data,firefly,redux\n",
      "images,platelist-mjdsort.html,platelist-mjdsort.txt,platelist.fits,platelist.html,platelist.txt,platequality-mjdsort.html,platequality-mjdsort.txt,platequality.html,platequality.txt,redmonster,v5_10_0\n"
     ]
    }
   ],
   "source": [
    "# Set the base directory and plate number\n",
    "# These can be found by explring the SDSS DR14 space using 'sc.ls()'\n",
    "print(sc.ls ('sdss_dr14://'))\n",
    "print(sc.ls ('sdss_dr14://eboss'))\n",
    "print(sc.ls ('sdss_dr14://eboss/spectro'))\n",
    "print(sc.ls ('sdss_dr14://eboss/spectro/redux'))\n",
    "base = 'sdss_dr14://eboss/spectro/redux/v5_10_0/'\n",
    "plate = '3615'"
   ]
  },
  {
   "cell_type": "markdown",
   "metadata": {},
   "source": [
    "### List all available FITS plate files in the plate directory"
   ]
  },
  {
   "cell_type": "code",
   "execution_count": 5,
   "metadata": {},
   "outputs": [
    {
     "name": "stdout",
     "output_type": "stream",
     "text": [
      "spPlate-3615-55179.fits  spPlate-3615-55208.fits  spPlate-3615-55445.fits\n",
      "spPlate-3615-55856.fits  spPlate-3615-56219.fits  spPlate-3615-56544.fits\n",
      "\n"
     ]
    }
   ],
   "source": [
    "# Construct the vospace path to the plate directory\n",
    "spPlate = base + plate + '/spPlate-' + plate\n",
    "print(sc.ls (spPlate + '*.fits', format='short'))"
   ]
  },
  {
   "cell_type": "markdown",
   "metadata": {},
   "source": [
    "### Pick a modified Julian date and fiber"
   ]
  },
  {
   "cell_type": "code",
   "execution_count": 6,
   "metadata": {},
   "outputs": [
    {
     "name": "stdout",
     "output_type": "stream",
     "text": [
      "File: sdss_dr14://eboss/spectro/redux/v5_10_0/3615/spPlate-3615-56544.fits\n",
      "spPlate-3615-56544.fits\n"
     ]
    }
   ],
   "source": [
    "mjd = '56544'\n",
    "fiber = 39\n",
    "\n",
    "# Construct the vospace path to the plate file and verify\n",
    "spfile = spPlate + '-' + mjd + '.fits'\n",
    "print ('File: ' + spfile)\n",
    "print (sc.ls (spfile))"
   ]
  },
  {
   "cell_type": "markdown",
   "metadata": {},
   "source": [
    "### Now read the spectrum from the file and construct the wavelength array"
   ]
  },
  {
   "cell_type": "code",
   "execution_count": 7,
   "metadata": {},
   "outputs": [
    {
     "name": "stdout",
     "output_type": "stream",
     "text": [
      "4645 4645 4645\n"
     ]
    }
   ],
   "source": [
    "try:\n",
    "    with fits.open(sc.get(spfile, mode='fileobj')) as hdulist:\n",
    "        hdr = hdulist[0].header\n",
    "        flux = hdulist[0].data[fiber-1, :]\n",
    "        ivar = hdulist[1].data[fiber-1, :]\n",
    "        sky = hdulist[6].data[fiber-1, :]\n",
    "except Exception as e:\n",
    "    raise ValueError(\"Could not find spPlate file for plate={0:s}, mjd={1:s}!\".format(plate, mjd))\n",
    "\n",
    "loglam = hdr['COEFF0'] + hdr['COEFF1']*np.arange(hdr['NAXIS1'], dtype=flux.dtype)\n",
    "wavelength = 10.0**loglam\n",
    "print (\"{} {} {}\".format(len(flux),len(ivar),len(wavelength)))"
   ]
  },
  {
   "cell_type": "markdown",
   "metadata": {},
   "source": [
    "### Make a plot of the spectrum"
   ]
  },
  {
   "cell_type": "code",
   "execution_count": 8,
   "metadata": {},
   "outputs": [
    {
     "data": {
      "text/plain": [
       "Text(0, 0.5, 'Flux')"
      ]
     },
     "execution_count": 8,
     "metadata": {},
     "output_type": "execute_result"
    },
    {
     "data": {
      "image/png": "[encoded data removed]",
      "text/plain": [
       "<Figure size 432x288 with 1 Axes>"
      ]
     },
     "metadata": {
      "needs_background": "light"
     },
     "output_type": "display_data"
    }
   ],
   "source": [
    "p.plot(wavelength, flux * (ivar > 0), 'k')\n",
    "p.xlabel('Angstroms')\n",
    "p.ylabel('Flux')"
   ]
  },
  {
   "cell_type": "markdown",
   "metadata": {},
   "source": [
    "### List all available public file spaces\n",
    "\n",
    "The '_sc.services()_' function allows a user to list all the available file services."
   ]
  },
  {
   "cell_type": "code",
   "execution_count": 9,
   "metadata": {},
   "outputs": [
    {
     "name": "stdout",
     "output_type": "stream",
     "text": [
      "\n",
      "                    name   svc   description\n",
      "                --------   ----  --------\n",
      "                     nfp   vos   NOAO Fundamental Plane Survey\n",
      "                 chandra   vos   ChaMPlane: Measuring the Faint X-ray Bin ...\n",
      "             cosmic_dawn   vos   Cosmic DAWN survey\n",
      "               deeprange   vos   Deeprange Survey\n",
      "           deep_ecliptic   vos   Deep Ecliptic Survey\n",
      "                 des_dr2   vos   Dark Energy Survey DR2\n",
      "                desi_ets   vos   DESI Early Target Selection\n",
      "                     dls   vos   Deep Lens Survey\n",
      "                  flamex   vos   FLAMINGOS Extragalactic Survey\n",
      "                     fls   vos   First Look Survey\n",
      "                    fsvs   vos   Faint Sky Variability Survey\n",
      "               ir_bootes   vos   Infrared Bootes Imaging Survey\n",
      "                     lgs   vos   Local Group Survey\n",
      "             gogreen_dr1   vos   GOGREEN DR1 Survey\n",
      "                     lmc   vos   SuperMACHO Survey\n",
      "                  ls_dr1   vos   DECam Legacy Survey DR1\n",
      "                  ls_dr2   vos   DECam Legacy Survey DR2\n",
      "                  ls_dr3   vos   DECam Legacy Survey DR3\n",
      "                  ls_dr4   vos   DECam Legacy Survey DR4\n",
      "                  ls_dr5   vos   DECam Legacy Survey DR5\n",
      "                  ls_dr6   vos   DECam Legacy Survey DR6\n",
      "                  ls_dr7   vos   DECam Legacy Survey DR7\n",
      "                  ls_dr8   vos   DECam Legacy Survey DR8\n",
      "                  ls_dr9   vos   DECam Legacy Survey DR9\n",
      "                ls_dr9sv   vos   DECam Legacy Survey DR9sv\n",
      "             m31_newfirm   vos   M31 NEWFIRM Survey\n",
      "                   ndwfs   vos   NOAO Deep-Wide Survey\n",
      "                    nmbs   vos   NEWFIRM Medium Band Survey\n",
      "                  nmbs_2   vos   NEWFIRM Medium Band Survey II\n",
      "                     nsc   vos   NOAO Source Catalog\n",
      "                sdss_dr8   vos   SDSS DR8\n",
      "                sdss_dr9   vos   SDSS DR9\n",
      "               sdss_dr10   vos   SDSS DR10\n",
      "               sdss_dr11   vos   SDSS DR11\n",
      "               sdss_dr12   vos   SDSS DR12\n",
      "               sdss_dr13   vos   SDSS DR13\n",
      "               sdss_dr14   vos   SDSS DR14\n",
      "               sdss_dr15   vos   SDSS DR15\n",
      "               sdss_dr16   vos   SDSS DR16\n",
      "                   singg   vos   Survey for Ionization in Neutral-Gas Gal ...\n",
      "               smash_dr1   vos   SMASH DR1\n",
      "               smash_dr2   vos   SMASH DR2\n",
      "                     sze   vos   SZE+Optical Studies of the Cosmic Accele ...\n",
      "               w_project   vos   The w Project\n",
      "                 zbootes   vos   z-band Photometry of the NOAO Deep-Wide  ...\n",
      "\n"
     ]
    }
   ],
   "source": [
    "print(sc.services())"
   ]
  }
 ],
 "metadata": {
  "kernelspec": {
   "display_name": "Python 3",
   "language": "python",
   "name": "python3"
  },
  "language_info": {
   "codemirror_mode": {
    "name": "ipython",
    "version": 3
   },
   "file_extension": ".py",
   "mimetype": "text/x-python",
   "name": "python",
   "nbconvert_exporter": "python",
   "pygments_lexer": "ipython3",
   "version": "3.8.5"
  }
 },
 "nbformat": 4,
 "nbformat_minor": 4
}
