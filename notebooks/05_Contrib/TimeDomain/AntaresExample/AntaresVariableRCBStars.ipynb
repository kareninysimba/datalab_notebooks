{
 "cells": [
  {
   "cell_type": "code",
   "execution_count": 1,
   "metadata": {},
   "outputs": [],
   "source": [
    "__author__ = 'Chien-Hsiu Lee <chien-hsiu.lee@noirlab.edu>, Thomas Matheson <tom.matheson@noirlab.edu>'\n",
    "__version__ = '20211123' # yyyymmdd\n",
    "__datasets__ = ['']\n",
    "__keywords__ = ['ANTARES', 'variable']"
   ]
  },
  {
   "cell_type": "markdown",
   "metadata": {},
   "source": [
    "# Exploring Elastic Search Database to Find R Corona Borealis Stars\n",
    "\n",
    "*Chien-Hsiu Lee, Thomas Matheson & ANTARES Team*"
   ]
  },
  {
   "cell_type": "markdown",
   "metadata": {},
   "source": [
    "### Table of contents\n",
    "* [Goals & notebook summary](#goals)\n",
    "* [Disclaimer & Attribution](#attribution)\n",
    "* [Imports & setup](#import)\n",
    "* [Querying ANTARES alert database ](#query)\n",
    "* [Inspecting light curves](#lightcurve)\n",
    "* [Resources and references](#resources)"
   ]
  },
  {
   "cell_type": "markdown",
   "metadata": {},
   "source": [
    "<a class=\"anchor\" id=\"goals\"></a>\n",
    "# Goals\n",
    "This notebook is an example of how to explore the ANTARES alert database for variable stars. Here we use the infrared color selection of candidate R Coronae Borealise stars, and search the ZTF time-series photometry to see if there are unknown R CrBs revealing themselves by a significant, irregular dimming (up to 8 mag)."
   ]
  },
  {
   "cell_type": "markdown",
   "metadata": {},
   "source": [
    "# Summary\n",
    "We first obtain the candidate R CrBs from WISE color, selected by Tisserand et al. (2012). We then use the ANTARES search API to find time-series photometry of each candidate, and looked for R CrBs candidates that show more than 2 magnitude variability in either g- or r-band. In the end, we use ZTF18abhjrcf as a showcase.\n",
    "\n",
    "<img src=\"RCB.jpeg\">"
   ]
  },
  {
   "cell_type": "markdown",
   "metadata": {},
   "source": [
    "# Disclaimer & attribution\n",
    "If you use this notebook for your published science, please acknowledge the following:\n",
    "\n",
    "* Data Lab concept paper: Fitzpatrick et al., \"The NOAO Data Laboratory: a conceptual overview\", SPIE, 9149, 2014, http://dx.doi.org/10.1117/12.2057445\n",
    "\n",
    "* Data Lab disclaimer: http://datalab.noirlab.edu/disclaimers.php"
   ]
  },
  {
   "cell_type": "markdown",
   "metadata": {},
   "source": [
    "<a class=\"anchor\" id=\"import\"></a>\n",
    "# Imports and setup"
   ]
  },
  {
   "cell_type": "code",
   "execution_count": 2,
   "metadata": {},
   "outputs": [],
   "source": [
    "from antares_client.search import search\n",
    "import matplotlib.pyplot as plt\n",
    "import pandas as pd"
   ]
  },
  {
   "cell_type": "markdown",
   "metadata": {},
   "source": [
    "<a class=\"anchor\" id=\"import\"></a>\n",
    "# Read in relevant tables"
   ]
  },
  {
   "cell_type": "markdown",
   "metadata": {},
   "source": [
    "We use the candidate list from Tisserand (2012), dropping candidates below Dec<-30 (in the ZTF field). Here we read in the list of candidate, specifically their ra and dec."
   ]
  },
  {
   "cell_type": "code",
   "execution_count": 3,
   "metadata": {},
   "outputs": [],
   "source": [
    "catalog=pd.read_csv('WISE_RCrB.dat')\n",
    "ra=catalog['ra']\n",
    "dec=catalog['dec']"
   ]
  },
  {
   "cell_type": "markdown",
   "metadata": {},
   "source": [
    "<a class=\"anchor\" id=\"query\"></a>\n",
    "# Querying ANTARES alert database "
   ]
  },
  {
   "cell_type": "markdown",
   "metadata": {},
   "source": [
    "This cell shows how to call elastic search with ANTARES API (the antares_client we imported earlier). It can search on ZTF object id, RA, Dec, or other properties. For our purpose, we search for variabilities larger than 2 mag in either g- or r-band. For illustration purpose, we only search variability in three of the candidate (id = 228-230). \n",
    "\n",
    "In ANTARES we aggregrate alerts on the same point of sky to form a locus object (which we shall call it \"locus\" hereafter). If there is a match at the given position, the search will return the corresponding locus. An astropy.TimeSeries of all Alert Properties on this locus can be obtained using locus.timeseries. We can convert it to Panda dataframe using locus.timeseries.to_pandas() for futher analysis. Details of the locus object can be found in the ANTARES documentation at: https://noao.gitlab.io/antares/filter-documentation/devkit/locus.html"
   ]
  },
  {
   "cell_type": "code",
   "execution_count": 4,
   "metadata": {},
   "outputs": [
    {
     "name": "stdout",
     "output_type": "stream",
     "text": [
      "Iteration:  228 ra 275.832794 dec -14.109205\n",
      "Iteration:  229 ra 283.318207 dec -27.231319\n"
     ]
    },
    {
     "name": "stderr",
     "output_type": "stream",
     "text": [
      "/data0/sw/antares-kernel-0.4/lib/python3.7/site-packages/ipykernel_launcher.py:28: TableReplaceWarning: converted column 'ztf_candid' from integer to float\n",
      "/data0/sw/antares-kernel-0.4/lib/python3.7/site-packages/ipykernel_launcher.py:28: TableReplaceWarning: converted column 'ztf_field' from integer to float\n",
      "/data0/sw/antares-kernel-0.4/lib/python3.7/site-packages/ipykernel_launcher.py:28: TableReplaceWarning: converted column 'ztf_nbad' from integer to float\n",
      "/data0/sw/antares-kernel-0.4/lib/python3.7/site-packages/ipykernel_launcher.py:28: TableReplaceWarning: converted column 'ztf_ncovhist' from integer to float\n",
      "/data0/sw/antares-kernel-0.4/lib/python3.7/site-packages/ipykernel_launcher.py:28: TableReplaceWarning: converted column 'ztf_ndethist' from integer to float\n",
      "/data0/sw/antares-kernel-0.4/lib/python3.7/site-packages/ipykernel_launcher.py:28: TableReplaceWarning: converted column 'ztf_nframesref' from integer to float\n",
      "/data0/sw/antares-kernel-0.4/lib/python3.7/site-packages/ipykernel_launcher.py:28: TableReplaceWarning: converted column 'ztf_nid' from integer to float\n",
      "/data0/sw/antares-kernel-0.4/lib/python3.7/site-packages/ipykernel_launcher.py:28: TableReplaceWarning: converted column 'ztf_nmatches' from integer to float\n",
      "/data0/sw/antares-kernel-0.4/lib/python3.7/site-packages/ipykernel_launcher.py:28: TableReplaceWarning: converted column 'ztf_nmtchps' from integer to float\n",
      "/data0/sw/antares-kernel-0.4/lib/python3.7/site-packages/ipykernel_launcher.py:28: TableReplaceWarning: converted column 'ztf_nneg' from integer to float\n",
      "/data0/sw/antares-kernel-0.4/lib/python3.7/site-packages/ipykernel_launcher.py:28: TableReplaceWarning: converted column 'ztf_objectidps1' from integer to float\n",
      "/data0/sw/antares-kernel-0.4/lib/python3.7/site-packages/ipykernel_launcher.py:28: TableReplaceWarning: converted column 'ztf_objectidps2' from integer to float\n",
      "/data0/sw/antares-kernel-0.4/lib/python3.7/site-packages/ipykernel_launcher.py:28: TableReplaceWarning: converted column 'ztf_objectidps3' from integer to float\n",
      "/data0/sw/antares-kernel-0.4/lib/python3.7/site-packages/ipykernel_launcher.py:28: TableReplaceWarning: converted column 'ztf_rcid' from integer to float\n",
      "/data0/sw/antares-kernel-0.4/lib/python3.7/site-packages/ipykernel_launcher.py:28: TableReplaceWarning: converted column 'ztf_rfid' from integer to float\n",
      "/data0/sw/antares-kernel-0.4/lib/python3.7/site-packages/ipykernel_launcher.py:28: TableReplaceWarning: converted column 'ztf_tblid' from integer to float\n",
      "/data0/sw/antares-kernel-0.4/lib/python3.7/site-packages/ipykernel_launcher.py:28: TableReplaceWarning: converted column 'ztf_tooflag' from integer to float\n"
     ]
    },
    {
     "name": "stdout",
     "output_type": "stream",
     "text": [
      "Got a hit on locus_id:  ANT2020emqbg  in g-band\n",
      "Got a hit on locus_id:  ANT2020emqbg  in r-band\n",
      "Iteration:  230 ra 280.692779 dec -12.904075\n",
      "Got a hit on locus_id:  ANT2018c7igm  in g-band\n",
      "Got a hit on locus_id:  ANT2018c7igm  in r-band\n"
     ]
    },
    {
     "name": "stderr",
     "output_type": "stream",
     "text": [
      "/data0/sw/antares-kernel-0.4/lib/python3.7/site-packages/ipykernel_launcher.py:28: TableReplaceWarning: converted column 'ztf_candid' from integer to float\n",
      "/data0/sw/antares-kernel-0.4/lib/python3.7/site-packages/ipykernel_launcher.py:28: TableReplaceWarning: converted column 'ztf_field' from integer to float\n",
      "/data0/sw/antares-kernel-0.4/lib/python3.7/site-packages/ipykernel_launcher.py:28: TableReplaceWarning: converted column 'ztf_nbad' from integer to float\n",
      "/data0/sw/antares-kernel-0.4/lib/python3.7/site-packages/ipykernel_launcher.py:28: TableReplaceWarning: converted column 'ztf_ncovhist' from integer to float\n",
      "/data0/sw/antares-kernel-0.4/lib/python3.7/site-packages/ipykernel_launcher.py:28: TableReplaceWarning: converted column 'ztf_ndethist' from integer to float\n",
      "/data0/sw/antares-kernel-0.4/lib/python3.7/site-packages/ipykernel_launcher.py:28: TableReplaceWarning: converted column 'ztf_nframesref' from integer to float\n",
      "/data0/sw/antares-kernel-0.4/lib/python3.7/site-packages/ipykernel_launcher.py:28: TableReplaceWarning: converted column 'ztf_nid' from integer to float\n",
      "/data0/sw/antares-kernel-0.4/lib/python3.7/site-packages/ipykernel_launcher.py:28: TableReplaceWarning: converted column 'ztf_nmatches' from integer to float\n",
      "/data0/sw/antares-kernel-0.4/lib/python3.7/site-packages/ipykernel_launcher.py:28: TableReplaceWarning: converted column 'ztf_nmtchps' from integer to float\n",
      "/data0/sw/antares-kernel-0.4/lib/python3.7/site-packages/ipykernel_launcher.py:28: TableReplaceWarning: converted column 'ztf_nneg' from integer to float\n",
      "/data0/sw/antares-kernel-0.4/lib/python3.7/site-packages/ipykernel_launcher.py:28: TableReplaceWarning: converted column 'ztf_objectidps1' from integer to float\n",
      "/data0/sw/antares-kernel-0.4/lib/python3.7/site-packages/ipykernel_launcher.py:28: TableReplaceWarning: converted column 'ztf_objectidps2' from integer to float\n",
      "/data0/sw/antares-kernel-0.4/lib/python3.7/site-packages/ipykernel_launcher.py:28: TableReplaceWarning: converted column 'ztf_objectidps3' from integer to float\n",
      "/data0/sw/antares-kernel-0.4/lib/python3.7/site-packages/ipykernel_launcher.py:28: TableReplaceWarning: converted column 'ztf_rcid' from integer to float\n",
      "/data0/sw/antares-kernel-0.4/lib/python3.7/site-packages/ipykernel_launcher.py:28: TableReplaceWarning: converted column 'ztf_rfid' from integer to float\n",
      "/data0/sw/antares-kernel-0.4/lib/python3.7/site-packages/ipykernel_launcher.py:28: TableReplaceWarning: converted column 'ztf_tblid' from integer to float\n",
      "/data0/sw/antares-kernel-0.4/lib/python3.7/site-packages/ipykernel_launcher.py:28: TableReplaceWarning: converted column 'ztf_tooflag' from integer to float\n"
     ]
    }
   ],
   "source": [
    "for i in [228, 229, 230]:  \n",
    "    print(\"Iteration: \",i, \"ra\",ra[i],\"dec\",dec[i])\n",
    "    query = {\n",
    "        \"query\": {\n",
    "            \"bool\": {\n",
    "                \"must\": [\n",
    "                    {\n",
    "                        \"range\": {\n",
    "                            \"ra\": {\n",
    "                                \"gte\": ra[i]-1./3600.,\n",
    "                                \"lte\": ra[i]+1./3600.,\n",
    "                            }\n",
    "                        }\n",
    "                    },\n",
    "                    {\n",
    "                        \"range\": {\n",
    "                            \"dec\": {\n",
    "                                \"gte\": dec[i]-1./3600.,\n",
    "                                \"lte\": dec[i]+1./3600.\n",
    "                            }\n",
    "                        }\n",
    "                    }\n",
    "                 ]\n",
    "            }\n",
    "        }\n",
    "    }\n",
    "    for locus in search(query):\n",
    "        df = locus.timeseries.to_pandas()\n",
    "        df = df[['ant_mjd', 'ztf_fid', 'ztf_magpsf', 'ztf_sigmapsf']]\n",
    "        dn = df.dropna()\n",
    "        if max(dn['ztf_magpsf'][dn['ztf_fid']==1]) - min(dn['ztf_magpsf'][dn['ztf_fid']==1]) > 2:\n",
    "            print(\"Got a hit on locus_id: \",locus.locus_id,\" in g-band\")\n",
    "        if max(dn['ztf_magpsf'][dn['ztf_fid']==2]) - min(dn['ztf_magpsf'][dn['ztf_fid']==2]) > 2:\n",
    "            print(\"Got a hit on locus_id: \",locus.locus_id,\" in r-band\")"
   ]
  },
  {
   "cell_type": "markdown",
   "metadata": {},
   "source": [
    "<a class=\"anchor\" id=\"lightcurve\"></a>\n",
    "# Inspecting light curves\n",
    "\n",
    "Looks like we got a hit. Let's have a look at the last one (locus_id ANT2018c7igm). Since we have the time-series information in hand from previous cell, we can plot the light curve using the following cell:"
   ]
  },
  {
   "cell_type": "code",
   "execution_count": 5,
   "metadata": {},
   "outputs": [
    {
     "data": {
      "image/png": "[encoded data removed]",
      "text/plain": [
       "<Figure size 432x288 with 1 Axes>"
      ]
     },
     "metadata": {
      "needs_background": "light"
     },
     "output_type": "display_data"
    }
   ],
   "source": [
    "plt.ylim(max(dn['ztf_magpsf'])+0.1*(max(dn['ztf_magpsf'])-min(dn['ztf_magpsf'])),min(dn['ztf_magpsf'])-0.1*(max(dn['ztf_magpsf'])-min(dn['ztf_magpsf'])))\n",
    "plt.scatter(dn['ant_mjd'][dn['ztf_fid']==2], dn['ztf_magpsf'][dn['ztf_fid']==2], c='red', alpha=0.5)\n",
    "plt.scatter(dn['ant_mjd'][dn['ztf_fid']==1], dn['ztf_magpsf'][dn['ztf_fid']==1], c='green', alpha=0.5)\n",
    "plt.title('Light curve of Locus_id=ANT2018c7igm')\n",
    "plt.xlabel('Time [Julian date]')\n",
    "plt.ylabel('Magnitude in g- and r-passband')\n",
    "plt.show()"
   ]
  },
  {
   "cell_type": "markdown",
   "metadata": {},
   "source": [
    "# Concluding remarks\n",
    "\n",
    "Locus_id ANT2018c7igm (=ZTF18abhjrcf) shows a rapid change of more than 2 magnitudes in r-band, and consistent brightness change in the g-band as well (thought not as much as r-band). This is similar to the sudden change in brightness seen in R Coronae Borealis. We subsequently obtained spectra of this source, and confirmed its RCB nature."
   ]
  },
  {
   "cell_type": "markdown",
   "metadata": {},
   "source": [
    "# Resources and references\n",
    "Further reading:\n",
    "\n",
    "AAVSO introduction on R Coronae Borealis stars: https://www.aavso.org/vsots_rcrb\n",
    "\n",
    "Tisserand (2012) \"Tracking down R Coronae Borealis stars from their mid-infrared WISE colours\". A&A, 539, 51: https://ui.adsabs.harvard.edu/abs/2012A&A...539A..51T\n",
    "\n",
    "Tisserand et al. (2013) \"The ongoing pursuit of R Coronae Borealis stars: the ASAS-3 survey strikes again\". A&A, 551, 22: https://ui.adsabs.harvard.edu/abs/2013A&A...551A..77T"
   ]
  }
 ],
 "metadata": {
  "kernelspec": {
   "display_name": "Python 3",
   "language": "python",
   "name": "python3"
  },
  "language_info": {
   "codemirror_mode": {
    "name": "ipython",
    "version": 3
   },
   "file_extension": ".py",
   "mimetype": "text/x-python",
   "name": "python",
   "nbconvert_exporter": "python",
   "pygments_lexer": "ipython3",
   "version": "3.8.5"
  }
 },
 "nbformat": 4,
 "nbformat_minor": 4
}
